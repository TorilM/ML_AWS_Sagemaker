{
 "cells": [
  {
   "cell_type": "markdown",
   "metadata": {},
   "source": [
    "# Sentiment Analysis Web App\n",
    "\n",
    "_Deep Learning Nanodegree Program | Deployment_\n",
    "\n",
    "---\n",
    "\n",
    "In this notebook we will use Amazon's SageMaker service to construct a random tree model to predict the sentiment of a movie review. In addition, we will deploy this model to an endpoint and construct a very simple web app which will interact with our model's deployed endpoint.\n",
    "\n",
    "## General Outline\n",
    "\n",
    "Typically, when using a notebook instance with SageMaker, you will proceed through the following steps. Of course, not every step will need to be done with each project. Also, there is quite a lot of room for variation in many of the steps, as you will see throughout these lessons.\n",
    "\n",
    "1. Download or otherwise retrieve the data.\n",
    "2. Process / Prepare the data.\n",
    "3. Upload the processed data to S3.\n",
    "4. Train a chosen model.\n",
    "5. Test the trained model (typically using a batch transform job).\n",
    "6. Deploy the trained model.\n",
    "7. Use the deployed model.\n",
    "\n",
    "In this notebook we will progress through each of the steps above. We will also see that the final step, using the deployed model, can be quite challenging."
   ]
  },
  {
   "cell_type": "code",
   "execution_count": 21,
   "metadata": {},
   "outputs": [
    {
     "name": "stdout",
     "output_type": "stream",
     "text": [
      "Requirement already satisfied: sagemaker==1.72.0 in /home/ec2-user/anaconda3/envs/python3/lib/python3.6/site-packages (1.72.0)\n",
      "Requirement already satisfied: scipy>=0.19.0 in /home/ec2-user/anaconda3/envs/python3/lib/python3.6/site-packages (from sagemaker==1.72.0) (1.5.3)\n",
      "Requirement already satisfied: protobuf3-to-dict>=0.1.5 in /home/ec2-user/anaconda3/envs/python3/lib/python3.6/site-packages (from sagemaker==1.72.0) (0.1.5)\n",
      "Requirement already satisfied: smdebug-rulesconfig==0.1.4 in /home/ec2-user/anaconda3/envs/python3/lib/python3.6/site-packages (from sagemaker==1.72.0) (0.1.4)\n",
      "Requirement already satisfied: importlib-metadata>=1.4.0 in /home/ec2-user/anaconda3/envs/python3/lib/python3.6/site-packages (from sagemaker==1.72.0) (3.7.0)\n",
      "Requirement already satisfied: numpy>=1.9.0 in /home/ec2-user/anaconda3/envs/python3/lib/python3.6/site-packages (from sagemaker==1.72.0) (1.19.5)\n",
      "Requirement already satisfied: boto3>=1.14.12 in /home/ec2-user/anaconda3/envs/python3/lib/python3.6/site-packages (from sagemaker==1.72.0) (1.17.75)\n",
      "Requirement already satisfied: protobuf>=3.1 in /home/ec2-user/anaconda3/envs/python3/lib/python3.6/site-packages (from sagemaker==1.72.0) (3.15.2)\n",
      "Requirement already satisfied: packaging>=20.0 in /home/ec2-user/anaconda3/envs/python3/lib/python3.6/site-packages (from sagemaker==1.72.0) (20.9)\n",
      "Requirement already satisfied: s3transfer<0.5.0,>=0.4.0 in /home/ec2-user/anaconda3/envs/python3/lib/python3.6/site-packages (from boto3>=1.14.12->sagemaker==1.72.0) (0.4.2)\n",
      "Requirement already satisfied: botocore<1.21.0,>=1.20.75 in /home/ec2-user/anaconda3/envs/python3/lib/python3.6/site-packages (from boto3>=1.14.12->sagemaker==1.72.0) (1.20.75)\n",
      "Requirement already satisfied: jmespath<1.0.0,>=0.7.1 in /home/ec2-user/anaconda3/envs/python3/lib/python3.6/site-packages (from boto3>=1.14.12->sagemaker==1.72.0) (0.10.0)\n",
      "Requirement already satisfied: python-dateutil<3.0.0,>=2.1 in /home/ec2-user/anaconda3/envs/python3/lib/python3.6/site-packages (from botocore<1.21.0,>=1.20.75->boto3>=1.14.12->sagemaker==1.72.0) (2.8.1)\n",
      "Requirement already satisfied: urllib3<1.27,>=1.25.4 in /home/ec2-user/anaconda3/envs/python3/lib/python3.6/site-packages (from botocore<1.21.0,>=1.20.75->boto3>=1.14.12->sagemaker==1.72.0) (1.26.4)\n",
      "Requirement already satisfied: zipp>=0.5 in /home/ec2-user/anaconda3/envs/python3/lib/python3.6/site-packages (from importlib-metadata>=1.4.0->sagemaker==1.72.0) (3.4.0)\n",
      "Requirement already satisfied: typing-extensions>=3.6.4 in /home/ec2-user/anaconda3/envs/python3/lib/python3.6/site-packages (from importlib-metadata>=1.4.0->sagemaker==1.72.0) (3.7.4.3)\n",
      "Requirement already satisfied: pyparsing>=2.0.2 in /home/ec2-user/anaconda3/envs/python3/lib/python3.6/site-packages (from packaging>=20.0->sagemaker==1.72.0) (2.4.7)\n",
      "Requirement already satisfied: six>=1.9 in /home/ec2-user/anaconda3/envs/python3/lib/python3.6/site-packages (from protobuf>=3.1->sagemaker==1.72.0) (1.15.0)\n"
     ]
    }
   ],
   "source": [
    "# Make sure that we use SageMaker 1.x\n",
    "!pip install sagemaker==1.72.0"
   ]
  },
  {
   "cell_type": "markdown",
   "metadata": {},
   "source": [
    "## Step 1: Downloading the data\n",
    "\n",
    "The dataset we are going to use is very popular among researchers in Natural Language Processing, usually referred to as the [IMDb dataset](http://ai.stanford.edu/~amaas/data/sentiment/). It consists of movie reviews from the website [imdb.com](http://www.imdb.com/), each labeled as either '**pos**itive', if the reviewer enjoyed the film, or '**neg**ative' otherwise.\n",
    "\n",
    "> Maas, Andrew L., et al. [Learning Word Vectors for Sentiment Analysis](http://ai.stanford.edu/~amaas/data/sentiment/). In _Proceedings of the 49th Annual Meeting of the Association for Computational Linguistics: Human Language Technologies_. Association for Computational Linguistics, 2011.\n",
    "\n",
    "We begin by using some Jupyter Notebook magic to download and extract the dataset."
   ]
  },
  {
   "cell_type": "code",
   "execution_count": 22,
   "metadata": {},
   "outputs": [
    {
     "name": "stdout",
     "output_type": "stream",
     "text": [
      "mkdir: cannot create directory ‘../data’: File exists\n",
      "--2021-05-25 11:25:38--  http://ai.stanford.edu/~amaas/data/sentiment/aclImdb_v1.tar.gz\n",
      "Resolving ai.stanford.edu (ai.stanford.edu)... 171.64.68.10\n",
      "Connecting to ai.stanford.edu (ai.stanford.edu)|171.64.68.10|:80... connected.\n",
      "HTTP request sent, awaiting response... 200 OK\n",
      "Length: 84125825 (80M) [application/x-gzip]\n",
      "Saving to: ‘../data/aclImdb_v1.tar.gz’\n",
      "\n",
      "../data/aclImdb_v1. 100%[===================>]  80.23M  23.1MB/s    in 4.6s    \n",
      "\n",
      "2021-05-25 11:25:43 (17.3 MB/s) - ‘../data/aclImdb_v1.tar.gz’ saved [84125825/84125825]\n",
      "\n"
     ]
    }
   ],
   "source": [
    "%mkdir ../data\n",
    "!wget -O ../data/aclImdb_v1.tar.gz http://ai.stanford.edu/~amaas/data/sentiment/aclImdb_v1.tar.gz\n",
    "!tar -zxf ../data/aclImdb_v1.tar.gz -C ../data"
   ]
  },
  {
   "cell_type": "markdown",
   "metadata": {},
   "source": [
    "## Step 2: Preparing and Processing the data\n",
    "\n",
    "The data we have downloaded is split into various files, each of which contains a single review. It will be much easier going forward if we combine these individual files into two large files, one for training and one for testing."
   ]
  },
  {
   "cell_type": "code",
   "execution_count": 23,
   "metadata": {},
   "outputs": [],
   "source": [
    "import os\n",
    "import glob\n",
    "\n",
    "def read_imdb_data(data_dir='../data/aclImdb'):\n",
    "    data = {}\n",
    "    labels = {}\n",
    "    \n",
    "    for data_type in ['train', 'test']:\n",
    "        data[data_type] = {}\n",
    "        labels[data_type] = {}\n",
    "        \n",
    "        for sentiment in ['pos', 'neg']:\n",
    "            data[data_type][sentiment] = []\n",
    "            labels[data_type][sentiment] = []\n",
    "            \n",
    "            path = os.path.join(data_dir, data_type, sentiment, '*.txt')\n",
    "            files = glob.glob(path)\n",
    "            \n",
    "            for f in files:\n",
    "                with open(f) as review:\n",
    "                    data[data_type][sentiment].append(review.read())\n",
    "                    # Here we represent a positive review by '1' and a negative review by '0'\n",
    "                    labels[data_type][sentiment].append(1 if sentiment == 'pos' else 0)\n",
    "                    \n",
    "            assert len(data[data_type][sentiment]) == len(labels[data_type][sentiment]), \\\n",
    "                    \"{}/{} data size does not match labels size\".format(data_type, sentiment)\n",
    "                \n",
    "    return data, labels"
   ]
  },
  {
   "cell_type": "code",
   "execution_count": 24,
   "metadata": {},
   "outputs": [
    {
     "name": "stdout",
     "output_type": "stream",
     "text": [
      "IMDB reviews: train = 12500 pos / 12500 neg, test = 12500 pos / 12500 neg\n"
     ]
    }
   ],
   "source": [
    "data, labels = read_imdb_data()\n",
    "print(\"IMDB reviews: train = {} pos / {} neg, test = {} pos / {} neg\".format(\n",
    "            len(data['train']['pos']), len(data['train']['neg']),\n",
    "            len(data['test']['pos']), len(data['test']['neg'])))"
   ]
  },
  {
   "cell_type": "code",
   "execution_count": 25,
   "metadata": {},
   "outputs": [],
   "source": [
    "from sklearn.utils import shuffle\n",
    "\n",
    "def prepare_imdb_data(data, labels):\n",
    "    \"\"\"Prepare training and test sets from IMDb movie reviews.\"\"\"\n",
    "    \n",
    "    #Combine positive and negative reviews and labels\n",
    "    data_train = data['train']['pos'] + data['train']['neg']\n",
    "    data_test = data['test']['pos'] + data['test']['neg']\n",
    "    labels_train = labels['train']['pos'] + labels['train']['neg']\n",
    "    labels_test = labels['test']['pos'] + labels['test']['neg']\n",
    "    \n",
    "    #Shuffle reviews and corresponding labels within training and test sets\n",
    "    data_train, labels_train = shuffle(data_train, labels_train)\n",
    "    data_test, labels_test = shuffle(data_test, labels_test)\n",
    "    \n",
    "    # Return a unified training data, test data, training labels, test labets\n",
    "    return data_train, data_test, labels_train, labels_test"
   ]
  },
  {
   "cell_type": "code",
   "execution_count": 26,
   "metadata": {},
   "outputs": [
    {
     "name": "stdout",
     "output_type": "stream",
     "text": [
      "IMDb reviews (combined): train = 25000, test = 25000\n"
     ]
    }
   ],
   "source": [
    "train_X, test_X, train_y, test_y = prepare_imdb_data(data, labels)\n",
    "print(\"IMDb reviews (combined): train = {}, test = {}\".format(len(train_X), len(test_X)))"
   ]
  },
  {
   "cell_type": "code",
   "execution_count": 27,
   "metadata": {},
   "outputs": [
    {
     "data": {
      "text/plain": [
       "'I was duped into seeing this movie after reading a positive review from another website and man was I p.o\\'d!!! it took me at least 15 minutes to pick it up off the shelf b/c I didn\\'t want anyone to see me. then another 10 minutes to build the courage to take it to the counter and actually use real money to rent it. I thought that all my stress would pay off by the time I got home to and watching the movie b/c the review I read said the movie was a pleasant surprise; what a joke! if you can make it through the first hour of the movie then your in luck! b/c it\\'s not until then the movie turn\\'s into a horror. don\\'t bother with this one folks, your better off watching \"dankness falls\"'"
      ]
     },
     "execution_count": 27,
     "metadata": {},
     "output_type": "execute_result"
    }
   ],
   "source": [
    "train_X[100]"
   ]
  },
  {
   "cell_type": "markdown",
   "metadata": {},
   "source": [
    "## Processing the data\n",
    "\n",
    "Now that we have our training and testing datasets merged and ready to use, we need to start processing the raw data into something that will be useable by our machine learning algorithm. To begin with, we remove any html formatting and any non-alpha numeric characters that may appear in the reviews. We will do this in a very simplistic way using Python's regular expression module. We will discuss the reason for this rather simplistic pre-processing later on."
   ]
  },
  {
   "cell_type": "code",
   "execution_count": 28,
   "metadata": {},
   "outputs": [],
   "source": [
    "import re\n",
    "\n",
    "REPLACE_NO_SPACE = re.compile(\"(\\.)|(\\;)|(\\:)|(\\!)|(\\')|(\\?)|(\\,)|(\\\")|(\\()|(\\))|(\\[)|(\\])\")\n",
    "REPLACE_WITH_SPACE = re.compile(\"(<br\\s*/><br\\s*/>)|(\\-)|(\\/)\")\n",
    "\n",
    "def review_to_words(review):\n",
    "    words = REPLACE_NO_SPACE.sub(\"\", review.lower())\n",
    "    words = REPLACE_WITH_SPACE.sub(\" \", words)\n",
    "    return words"
   ]
  },
  {
   "cell_type": "code",
   "execution_count": 29,
   "metadata": {},
   "outputs": [
    {
     "data": {
      "text/plain": [
       "'i was duped into seeing this movie after reading a positive review from another website and man was i pod it took me at least 15 minutes to pick it up off the shelf b c i didnt want anyone to see me then another 10 minutes to build the courage to take it to the counter and actually use real money to rent it i thought that all my stress would pay off by the time i got home to and watching the movie b c the review i read said the movie was a pleasant surprise what a joke if you can make it through the first hour of the movie then your in luck b c its not until then the movie turns into a horror dont bother with this one folks your better off watching dankness falls'"
      ]
     },
     "execution_count": 29,
     "metadata": {},
     "output_type": "execute_result"
    }
   ],
   "source": [
    "review_to_words(train_X[100])"
   ]
  },
  {
   "cell_type": "code",
   "execution_count": 30,
   "metadata": {},
   "outputs": [],
   "source": [
    "import pickle\n",
    "\n",
    "cache_dir = os.path.join(\"../cache\", \"sentiment_web_app\")  # where to store cache files\n",
    "os.makedirs(cache_dir, exist_ok=True)  # ensure cache directory exists\n",
    "\n",
    "def preprocess_data(data_train, data_test, labels_train, labels_test,\n",
    "                    cache_dir=cache_dir, cache_file=\"preprocessed_data.pkl\"):\n",
    "    \"\"\"Convert each review to words; read from cache if available.\"\"\"\n",
    "\n",
    "    # If cache_file is not None, try to read from it first\n",
    "    cache_data = None\n",
    "    if cache_file is not None:\n",
    "        try:\n",
    "            with open(os.path.join(cache_dir, cache_file), \"rb\") as f:\n",
    "                cache_data = pickle.load(f)\n",
    "            print(\"Read preprocessed data from cache file:\", cache_file)\n",
    "        except:\n",
    "            pass  # unable to read from cache, but that's okay\n",
    "    \n",
    "    # If cache is missing, then do the heavy lifting\n",
    "    if cache_data is None:\n",
    "        # Preprocess training and test data to obtain words for each review\n",
    "        #words_train = list(map(review_to_words, data_train))\n",
    "        #words_test = list(map(review_to_words, data_test))\n",
    "        words_train = [review_to_words(review) for review in data_train]\n",
    "        words_test = [review_to_words(review) for review in data_test]\n",
    "        \n",
    "        # Write to cache file for future runs\n",
    "        if cache_file is not None:\n",
    "            cache_data = dict(words_train=words_train, words_test=words_test,\n",
    "                              labels_train=labels_train, labels_test=labels_test)\n",
    "            with open(os.path.join(cache_dir, cache_file), \"wb\") as f:\n",
    "                pickle.dump(cache_data, f)\n",
    "            print(\"Wrote preprocessed data to cache file:\", cache_file)\n",
    "    else:\n",
    "        # Unpack data loaded from cache file\n",
    "        words_train, words_test, labels_train, labels_test = (cache_data['words_train'],\n",
    "                cache_data['words_test'], cache_data['labels_train'], cache_data['labels_test'])\n",
    "    \n",
    "    return words_train, words_test, labels_train, labels_test"
   ]
  },
  {
   "cell_type": "code",
   "execution_count": 31,
   "metadata": {},
   "outputs": [
    {
     "name": "stdout",
     "output_type": "stream",
     "text": [
      "Wrote preprocessed data to cache file: preprocessed_data.pkl\n"
     ]
    }
   ],
   "source": [
    "# Preprocess data\n",
    "train_X, test_X, train_y, test_y = preprocess_data(train_X, test_X, train_y, test_y)"
   ]
  },
  {
   "cell_type": "markdown",
   "metadata": {},
   "source": [
    "### Extract Bag-of-Words features\n",
    "\n",
    "For the model we will be implementing, rather than using the reviews directly, we are going to transform each review into a Bag-of-Words feature representation. Keep in mind that 'in the wild' we will only have access to the training set so our transformer can only use the training set to construct a representation."
   ]
  },
  {
   "cell_type": "code",
   "execution_count": 32,
   "metadata": {},
   "outputs": [],
   "source": [
    "import numpy as np\n",
    "from sklearn.feature_extraction.text import CountVectorizer\n",
    "\n",
    "# sklearn.externals.joblib is deprecated in 0.21 and will be removed in 0.23. \n",
    "# from sklearn.externals import joblib\n",
    "\n",
    "# Import joblib package directly\n",
    "import joblib\n",
    "# joblib is an enhanced version of pickle that is more efficient for storing NumPy arrays\n",
    "\n",
    "def extract_BoW_features(words_train, words_test, vocabulary_size=5000,\n",
    "                         cache_dir=cache_dir, cache_file=\"bow_features.pkl\"):\n",
    "    \"\"\"Extract Bag-of-Words for a given set of documents, already preprocessed into words.\"\"\"\n",
    "    \n",
    "    # If cache_file is not None, try to read from it first\n",
    "    cache_data = None\n",
    "    if cache_file is not None:\n",
    "        try:\n",
    "            with open(os.path.join(cache_dir, cache_file), \"rb\") as f:\n",
    "                cache_data = joblib.load(f)\n",
    "            print(\"Read features from cache file:\", cache_file)\n",
    "        except:\n",
    "            pass  # unable to read from cache, but that's okay\n",
    "    \n",
    "    # If cache is missing, then do the heavy lifting\n",
    "    if cache_data is None:\n",
    "        # Fit a vectorizer to training documents and use it to transform them\n",
    "        # NOTE: Training documents have already been preprocessed and tokenized into words;\n",
    "        #       pass in dummy functions to skip those steps, e.g. preprocessor=lambda x: x\n",
    "        vectorizer = CountVectorizer(max_features=vocabulary_size)\n",
    "        features_train = vectorizer.fit_transform(words_train).toarray()\n",
    "\n",
    "        # Apply the same vectorizer to transform the test documents (ignore unknown words)\n",
    "        features_test = vectorizer.transform(words_test).toarray()\n",
    "        \n",
    "        # NOTE: Remember to convert the features using .toarray() for a compact representation\n",
    "        \n",
    "        # Write to cache file for future runs (store vocabulary as well)\n",
    "        if cache_file is not None:\n",
    "            vocabulary = vectorizer.vocabulary_\n",
    "            cache_data = dict(features_train=features_train, features_test=features_test,\n",
    "                             vocabulary=vocabulary)\n",
    "            with open(os.path.join(cache_dir, cache_file), \"wb\") as f:\n",
    "                joblib.dump(cache_data, f)\n",
    "            print(\"Wrote features to cache file:\", cache_file)\n",
    "    else:\n",
    "        # Unpack data loaded from cache file\n",
    "        features_train, features_test, vocabulary = (cache_data['features_train'],\n",
    "                cache_data['features_test'], cache_data['vocabulary'])\n",
    "    \n",
    "    # Return both the extracted features as well as the vocabulary\n",
    "    return features_train, features_test, vocabulary"
   ]
  },
  {
   "cell_type": "code",
   "execution_count": 33,
   "metadata": {},
   "outputs": [
    {
     "name": "stdout",
     "output_type": "stream",
     "text": [
      "Wrote features to cache file: bow_features.pkl\n"
     ]
    }
   ],
   "source": [
    "# Extract Bag of Words features for both training and test datasets\n",
    "train_X, test_X, vocabulary = extract_BoW_features(train_X, test_X)"
   ]
  },
  {
   "cell_type": "code",
   "execution_count": 34,
   "metadata": {},
   "outputs": [
    {
     "data": {
      "text/plain": [
       "5000"
      ]
     },
     "execution_count": 34,
     "metadata": {},
     "output_type": "execute_result"
    }
   ],
   "source": [
    "len(train_X[100])"
   ]
  },
  {
   "cell_type": "markdown",
   "metadata": {},
   "source": [
    "## Step 3: Upload data to S3\n",
    "\n",
    "Now that we have created the feature representation of our training (and testing) data, it is time to start setting up and using the XGBoost classifier provided by SageMaker.\n",
    "\n",
    "### Writing the datasets\n",
    "\n",
    "The XGBoost classifier that we will be using requires the dataset to be written to a file and stored using Amazon S3. To do this, we will start by splitting the training dataset into two parts, the data we will train the model with and a validation set. Then, we will write those datasets to a file locally and then upload the files to S3. In addition, we will write the test set to a file and upload that file to S3. This is so that we can use SageMakers Batch Transform functionality to test our model once we've fit it."
   ]
  },
  {
   "cell_type": "code",
   "execution_count": 35,
   "metadata": {},
   "outputs": [],
   "source": [
    "import pandas as pd\n",
    "\n",
    "# Earlier we shuffled the training dataset so to make things simple we can just assign\n",
    "# the first 10 000 reviews to the validation set and use the remaining reviews for training.\n",
    "val_X = pd.DataFrame(train_X[:10000])\n",
    "train_X = pd.DataFrame(train_X[10000:])\n",
    "\n",
    "val_y = pd.DataFrame(train_y[:10000])\n",
    "train_y = pd.DataFrame(train_y[10000:])"
   ]
  },
  {
   "cell_type": "markdown",
   "metadata": {},
   "source": [
    "The documentation for the XGBoost algorithm in SageMaker requires that the training and validation datasets should contain no headers or index and that the label should occur first for each sample.\n",
    "\n",
    "For more information about this and other algorithms, the SageMaker developer documentation can be found on __[Amazon's website.](https://docs.aws.amazon.com/sagemaker/latest/dg/)__"
   ]
  },
  {
   "cell_type": "code",
   "execution_count": 36,
   "metadata": {},
   "outputs": [],
   "source": [
    "# First we make sure that the local directory in which we'd like to store the training and validation csv files exists.\n",
    "data_dir = '../data/sentiment_web_app'\n",
    "if not os.path.exists(data_dir):\n",
    "    os.makedirs(data_dir)"
   ]
  },
  {
   "cell_type": "code",
   "execution_count": 37,
   "metadata": {},
   "outputs": [],
   "source": [
    "pd.DataFrame(test_X).to_csv(os.path.join(data_dir, 'test.csv'), header=False, index=False)\n",
    "\n",
    "pd.concat([val_y, val_X], axis=1).to_csv(os.path.join(data_dir, 'validation.csv'), header=False, index=False)\n",
    "pd.concat([train_y, train_X], axis=1).to_csv(os.path.join(data_dir, 'train.csv'), header=False, index=False)"
   ]
  },
  {
   "cell_type": "code",
   "execution_count": 38,
   "metadata": {},
   "outputs": [],
   "source": [
    "# To save a bit of memory we can set text_X, train_X, val_X, train_y and val_y to None.\n",
    "\n",
    "test_X = train_X = val_X = train_y = val_y = None"
   ]
  },
  {
   "cell_type": "markdown",
   "metadata": {},
   "source": [
    "### Uploading Training / Validation files to S3\n",
    "\n",
    "Amazon's S3 service allows us to store files that can be accessed by both the built-in training models such as the XGBoost model we will be using as well as custom models such as the one we will see a little later.\n",
    "\n",
    "For this and most other tasks we will be doing using SageMaker, there are two methods we could use. The first is to use the low level functionality of SageMaker which requires knowing each of the objects involved in the SageMaker environment. The second is to use the high level functionality in which certain choices have been made on the user's behalf. The low level approach benefits from allowing the user a great deal of flexibility while the high level approach makes development much quicker. For our purposes we will opt to use the high level approach although using the low-level approach is certainly an option.\n",
    "\n",
    "Recall the method `upload_data()` which is a member of the object representing our current SageMaker session. What this method does is upload the data to the default bucket (which is created if it does not exist) into the path described by the key_prefix variable. To see this for yourself, once you have uploaded the data files, go to the S3 console and look to see where the files have been uploaded.\n",
    "\n",
    "For additional resources, see the __[SageMaker API documentation](http://sagemaker.readthedocs.io/en/latest/)__ and in addition the __[SageMaker Developer Guide.](https://docs.aws.amazon.com/sagemaker/latest/dg/)__"
   ]
  },
  {
   "cell_type": "code",
   "execution_count": 39,
   "metadata": {},
   "outputs": [],
   "source": [
    "import sagemaker\n",
    "\n",
    "session = sagemaker.Session() # Store the current SageMaker session\n",
    "\n",
    "# S3 prefix (which folder will we use)\n",
    "prefix = 'sentiment-web-app'\n",
    "\n",
    "test_location = session.upload_data(os.path.join(data_dir, 'test.csv'), key_prefix=prefix)\n",
    "val_location = session.upload_data(os.path.join(data_dir, 'validation.csv'), key_prefix=prefix)\n",
    "train_location = session.upload_data(os.path.join(data_dir, 'train.csv'), key_prefix=prefix)"
   ]
  },
  {
   "cell_type": "markdown",
   "metadata": {},
   "source": [
    "## Step 4: Creating the XGBoost model\n",
    "\n",
    "Now that the data has been uploaded it is time to create the XGBoost model. To begin with, we need to do some setup. At this point it is worth discussing what a model is in SageMaker. It is easiest to think of a model of comprising three different objects in the SageMaker ecosystem, which interact with one another.\n",
    "\n",
    "- Model Artifacts\n",
    "- Training Code (Container)\n",
    "- Inference Code (Container)\n",
    "\n",
    "The Model Artifacts are what you might think of as the actual model itself. For example, if you were building a neural network, the model artifacts would be the weights of the various layers. In our case, for an XGBoost model, the artifacts are the actual trees that are created during training.\n",
    "\n",
    "The other two objects, the training code and the inference code are then used to manipulate the training artifacts. More precisely, the training code uses the training data that is provided and creates the model artifacts, while the inference code uses the model artifacts to make predictions on new data.\n",
    "\n",
    "The way that SageMaker runs the training and inference code is by making use of Docker containers. For now, think of a container as being a way of packaging code up so that dependencies aren't an issue."
   ]
  },
  {
   "cell_type": "code",
   "execution_count": 40,
   "metadata": {},
   "outputs": [],
   "source": [
    "from sagemaker import get_execution_role\n",
    "\n",
    "# Our current execution role is required when creating the model as the training\n",
    "# and inference code will need to access the model artifacts.\n",
    "role = get_execution_role()"
   ]
  },
  {
   "cell_type": "code",
   "execution_count": 41,
   "metadata": {},
   "outputs": [
    {
     "name": "stderr",
     "output_type": "stream",
     "text": [
      "'get_image_uri' method will be deprecated in favor of 'ImageURIProvider' class in SageMaker Python SDK v2.\n",
      "There is a more up to date SageMaker XGBoost image. To use the newer image, please set 'repo_version'='1.0-1'. For example:\n",
      "\tget_image_uri(region, 'xgboost', '1.0-1').\n"
     ]
    }
   ],
   "source": [
    "# We need to retrieve the location of the container which is provided by Amazon for using XGBoost.\n",
    "# As a matter of convenience, the training and inference code both use the same container.\n",
    "from sagemaker.amazon.amazon_estimator import get_image_uri\n",
    "\n",
    "container = get_image_uri(session.boto_region_name, 'xgboost')"
   ]
  },
  {
   "cell_type": "code",
   "execution_count": 42,
   "metadata": {},
   "outputs": [
    {
     "name": "stderr",
     "output_type": "stream",
     "text": [
      "Parameter image_name will be renamed to image_uri in SageMaker Python SDK v2.\n"
     ]
    }
   ],
   "source": [
    "# First we create a SageMaker estimator object for our model.\n",
    "xgb = sagemaker.estimator.Estimator(container, # The location of the container we wish to use\n",
    "                                    role,                                    # What is our current IAM Role\n",
    "                                    train_instance_count=1,                  # How many compute instances\n",
    "                                    train_instance_type='ml.m4.xlarge',      # What kind of compute instances\n",
    "                                    output_path='s3://{}/{}/output'.format(session.default_bucket(), prefix),\n",
    "                                    sagemaker_session=session)\n",
    "\n",
    "# And then set the algorithm specific parameters.\n",
    "xgb.set_hyperparameters(max_depth=5,\n",
    "                        eta=0.2,\n",
    "                        gamma=4,\n",
    "                        min_child_weight=6,\n",
    "                        subsample=0.8,\n",
    "                        silent=0,\n",
    "                        objective='binary:logistic',\n",
    "                        early_stopping_rounds=10,\n",
    "                        num_round=500)"
   ]
  },
  {
   "cell_type": "markdown",
   "metadata": {},
   "source": [
    "### Fit the XGBoost model\n",
    "\n",
    "Now that our model has been set up we simply need to attach the training and validation datasets and then ask SageMaker to set up the computation."
   ]
  },
  {
   "cell_type": "code",
   "execution_count": 43,
   "metadata": {},
   "outputs": [
    {
     "name": "stderr",
     "output_type": "stream",
     "text": [
      "'s3_input' class will be renamed to 'TrainingInput' in SageMaker Python SDK v2.\n",
      "'s3_input' class will be renamed to 'TrainingInput' in SageMaker Python SDK v2.\n"
     ]
    }
   ],
   "source": [
    "s3_input_train = sagemaker.s3_input(s3_data=train_location, content_type='csv')\n",
    "s3_input_validation = sagemaker.s3_input(s3_data=val_location, content_type='csv')"
   ]
  },
  {
   "cell_type": "code",
   "execution_count": 44,
   "metadata": {},
   "outputs": [
    {
     "name": "stdout",
     "output_type": "stream",
     "text": [
      "2021-05-25 11:29:34 Starting - Starting the training job...\n",
      "2021-05-25 11:29:35 Starting - Launching requested ML instances.........\n",
      "2021-05-25 11:31:06 Starting - Preparing the instances for training......\n",
      "2021-05-25 11:32:22 Downloading - Downloading input data...\n",
      "2021-05-25 11:32:53 Training - Downloading the training image..\u001b[34mArguments: train\u001b[0m\n",
      "\u001b[34m[2021-05-25:11:33:15:INFO] Running standalone xgboost training.\u001b[0m\n",
      "\u001b[34m[2021-05-25:11:33:15:INFO] File size need to be processed in the node: 238.5mb. Available memory size in the node: 8394.1mb\u001b[0m\n",
      "\u001b[34m[2021-05-25:11:33:15:INFO] Determined delimiter of CSV input is ','\u001b[0m\n",
      "\u001b[34m[11:33:15] S3DistributionType set as FullyReplicated\u001b[0m\n",
      "\u001b[34m[11:33:17] 15000x5000 matrix with 75000000 entries loaded from /opt/ml/input/data/train?format=csv&label_column=0&delimiter=,\u001b[0m\n",
      "\u001b[34m[2021-05-25:11:33:17:INFO] Determined delimiter of CSV input is ','\u001b[0m\n",
      "\u001b[34m[11:33:17] S3DistributionType set as FullyReplicated\u001b[0m\n",
      "\u001b[34m[11:33:18] 10000x5000 matrix with 50000000 entries loaded from /opt/ml/input/data/validation?format=csv&label_column=0&delimiter=,\u001b[0m\n",
      "\n",
      "2021-05-25 11:33:14 Training - Training image download completed. Training in progress.\u001b[34m[11:33:22] src/tree/updater_prune.cc:74: tree pruning end, 1 roots, 46 extra nodes, 2 pruned nodes, max_depth=5\u001b[0m\n",
      "\u001b[34m[0]#011train-error:0.304467#011validation-error:0.3092\u001b[0m\n",
      "\u001b[34mMultiple eval metrics have been passed: 'validation-error' will be used for early stopping.\n",
      "\u001b[0m\n",
      "\u001b[34mWill train until validation-error hasn't improved in 10 rounds.\u001b[0m\n",
      "\u001b[34m[11:33:24] src/tree/updater_prune.cc:74: tree pruning end, 1 roots, 38 extra nodes, 10 pruned nodes, max_depth=5\u001b[0m\n",
      "\u001b[34m[1]#011train-error:0.3#011validation-error:0.3064\u001b[0m\n",
      "\u001b[34m[11:33:25] src/tree/updater_prune.cc:74: tree pruning end, 1 roots, 50 extra nodes, 0 pruned nodes, max_depth=5\u001b[0m\n",
      "\u001b[34m[2]#011train-error:0.2914#011validation-error:0.2975\u001b[0m\n",
      "\u001b[34m[11:33:27] src/tree/updater_prune.cc:74: tree pruning end, 1 roots, 28 extra nodes, 6 pruned nodes, max_depth=5\u001b[0m\n",
      "\u001b[34m[3]#011train-error:0.277#011validation-error:0.285\u001b[0m\n",
      "\u001b[34m[11:33:28] src/tree/updater_prune.cc:74: tree pruning end, 1 roots, 46 extra nodes, 4 pruned nodes, max_depth=5\u001b[0m\n",
      "\u001b[34m[4]#011train-error:0.271733#011validation-error:0.2807\u001b[0m\n",
      "\u001b[34m[11:33:30] src/tree/updater_prune.cc:74: tree pruning end, 1 roots, 32 extra nodes, 0 pruned nodes, max_depth=5\u001b[0m\n",
      "\u001b[34m[5]#011train-error:0.260733#011validation-error:0.2727\u001b[0m\n",
      "\u001b[34m[11:33:31] src/tree/updater_prune.cc:74: tree pruning end, 1 roots, 38 extra nodes, 0 pruned nodes, max_depth=5\u001b[0m\n",
      "\u001b[34m[6]#011train-error:0.2514#011validation-error:0.265\u001b[0m\n",
      "\u001b[34m[11:33:32] src/tree/updater_prune.cc:74: tree pruning end, 1 roots, 36 extra nodes, 6 pruned nodes, max_depth=5\u001b[0m\n",
      "\u001b[34m[7]#011train-error:0.2472#011validation-error:0.2617\u001b[0m\n",
      "\u001b[34m[11:33:34] src/tree/updater_prune.cc:74: tree pruning end, 1 roots, 30 extra nodes, 10 pruned nodes, max_depth=5\u001b[0m\n",
      "\u001b[34m[8]#011train-error:0.2358#011validation-error:0.2536\u001b[0m\n",
      "\u001b[34m[11:33:35] src/tree/updater_prune.cc:74: tree pruning end, 1 roots, 26 extra nodes, 8 pruned nodes, max_depth=5\u001b[0m\n",
      "\u001b[34m[9]#011train-error:0.233267#011validation-error:0.2506\u001b[0m\n",
      "\u001b[34m[11:33:37] src/tree/updater_prune.cc:74: tree pruning end, 1 roots, 30 extra nodes, 8 pruned nodes, max_depth=5\u001b[0m\n",
      "\u001b[34m[10]#011train-error:0.225133#011validation-error:0.2428\u001b[0m\n",
      "\u001b[34m[11:33:38] src/tree/updater_prune.cc:74: tree pruning end, 1 roots, 42 extra nodes, 0 pruned nodes, max_depth=5\u001b[0m\n",
      "\u001b[34m[11]#011train-error:0.218867#011validation-error:0.2328\u001b[0m\n",
      "\u001b[34m[11:33:39] src/tree/updater_prune.cc:74: tree pruning end, 1 roots, 44 extra nodes, 6 pruned nodes, max_depth=5\u001b[0m\n",
      "\u001b[34m[12]#011train-error:0.209533#011validation-error:0.2307\u001b[0m\n",
      "\u001b[34m[11:33:41] src/tree/updater_prune.cc:74: tree pruning end, 1 roots, 42 extra nodes, 4 pruned nodes, max_depth=5\u001b[0m\n",
      "\u001b[34m[13]#011train-error:0.204733#011validation-error:0.2309\u001b[0m\n",
      "\u001b[34m[11:33:42] src/tree/updater_prune.cc:74: tree pruning end, 1 roots, 34 extra nodes, 4 pruned nodes, max_depth=5\u001b[0m\n",
      "\u001b[34m[14]#011train-error:0.199733#011validation-error:0.2284\u001b[0m\n",
      "\u001b[34m[11:33:43] src/tree/updater_prune.cc:74: tree pruning end, 1 roots, 34 extra nodes, 4 pruned nodes, max_depth=5\u001b[0m\n",
      "\u001b[34m[15]#011train-error:0.198133#011validation-error:0.2242\u001b[0m\n",
      "\u001b[34m[11:33:45] src/tree/updater_prune.cc:74: tree pruning end, 1 roots, 28 extra nodes, 12 pruned nodes, max_depth=5\u001b[0m\n",
      "\u001b[34m[16]#011train-error:0.196933#011validation-error:0.2191\u001b[0m\n",
      "\u001b[34m[11:33:46] src/tree/updater_prune.cc:74: tree pruning end, 1 roots, 18 extra nodes, 18 pruned nodes, max_depth=5\u001b[0m\n",
      "\u001b[34m[17]#011train-error:0.1954#011validation-error:0.2166\u001b[0m\n",
      "\u001b[34m[11:33:48] src/tree/updater_prune.cc:74: tree pruning end, 1 roots, 24 extra nodes, 4 pruned nodes, max_depth=5\u001b[0m\n",
      "\u001b[34m[18]#011train-error:0.1916#011validation-error:0.215\u001b[0m\n",
      "\u001b[34m[11:33:49] src/tree/updater_prune.cc:74: tree pruning end, 1 roots, 24 extra nodes, 4 pruned nodes, max_depth=5\u001b[0m\n",
      "\u001b[34m[19]#011train-error:0.1894#011validation-error:0.2149\u001b[0m\n",
      "\u001b[34m[11:33:51] src/tree/updater_prune.cc:74: tree pruning end, 1 roots, 24 extra nodes, 6 pruned nodes, max_depth=5\u001b[0m\n",
      "\u001b[34m[20]#011train-error:0.1876#011validation-error:0.211\u001b[0m\n",
      "\u001b[34m[11:33:52] src/tree/updater_prune.cc:74: tree pruning end, 1 roots, 38 extra nodes, 10 pruned nodes, max_depth=5\u001b[0m\n",
      "\u001b[34m[21]#011train-error:0.184867#011validation-error:0.2103\u001b[0m\n",
      "\u001b[34m[11:33:53] src/tree/updater_prune.cc:74: tree pruning end, 1 roots, 30 extra nodes, 2 pruned nodes, max_depth=5\u001b[0m\n",
      "\u001b[34m[22]#011train-error:0.181867#011validation-error:0.2085\u001b[0m\n",
      "\u001b[34m[11:33:55] src/tree/updater_prune.cc:74: tree pruning end, 1 roots, 26 extra nodes, 6 pruned nodes, max_depth=5\u001b[0m\n",
      "\u001b[34m[23]#011train-error:0.1808#011validation-error:0.2091\u001b[0m\n",
      "\u001b[34m[11:33:56] src/tree/updater_prune.cc:74: tree pruning end, 1 roots, 32 extra nodes, 2 pruned nodes, max_depth=5\u001b[0m\n",
      "\u001b[34m[24]#011train-error:0.178533#011validation-error:0.2076\u001b[0m\n",
      "\u001b[34m[11:33:57] src/tree/updater_prune.cc:74: tree pruning end, 1 roots, 30 extra nodes, 8 pruned nodes, max_depth=5\u001b[0m\n",
      "\u001b[34m[25]#011train-error:0.177267#011validation-error:0.2083\u001b[0m\n",
      "\u001b[34m[11:33:59] src/tree/updater_prune.cc:74: tree pruning end, 1 roots, 26 extra nodes, 6 pruned nodes, max_depth=5\u001b[0m\n",
      "\u001b[34m[26]#011train-error:0.174467#011validation-error:0.2054\u001b[0m\n",
      "\u001b[34m[11:34:00] src/tree/updater_prune.cc:74: tree pruning end, 1 roots, 12 extra nodes, 6 pruned nodes, max_depth=5\u001b[0m\n",
      "\u001b[34m[27]#011train-error:0.172267#011validation-error:0.2024\u001b[0m\n",
      "\u001b[34m[11:34:02] src/tree/updater_prune.cc:74: tree pruning end, 1 roots, 32 extra nodes, 12 pruned nodes, max_depth=5\u001b[0m\n",
      "\u001b[34m[28]#011train-error:0.171#011validation-error:0.2003\u001b[0m\n",
      "\u001b[34m[11:34:03] src/tree/updater_prune.cc:74: tree pruning end, 1 roots, 28 extra nodes, 8 pruned nodes, max_depth=5\u001b[0m\n",
      "\u001b[34m[29]#011train-error:0.1678#011validation-error:0.1981\u001b[0m\n",
      "\u001b[34m[11:34:05] src/tree/updater_prune.cc:74: tree pruning end, 1 roots, 16 extra nodes, 12 pruned nodes, max_depth=5\u001b[0m\n",
      "\u001b[34m[30]#011train-error:0.166333#011validation-error:0.1973\u001b[0m\n",
      "\u001b[34m[11:34:06] src/tree/updater_prune.cc:74: tree pruning end, 1 roots, 22 extra nodes, 10 pruned nodes, max_depth=5\u001b[0m\n",
      "\u001b[34m[31]#011train-error:0.166333#011validation-error:0.1973\u001b[0m\n",
      "\u001b[34m[11:34:08] src/tree/updater_prune.cc:74: tree pruning end, 1 roots, 30 extra nodes, 4 pruned nodes, max_depth=5\u001b[0m\n",
      "\u001b[34m[32]#011train-error:0.162667#011validation-error:0.1947\u001b[0m\n",
      "\u001b[34m[11:34:09] src/tree/updater_prune.cc:74: tree pruning end, 1 roots, 42 extra nodes, 6 pruned nodes, max_depth=5\u001b[0m\n",
      "\u001b[34m[33]#011train-error:0.160067#011validation-error:0.1916\u001b[0m\n",
      "\u001b[34m[11:34:10] src/tree/updater_prune.cc:74: tree pruning end, 1 roots, 32 extra nodes, 4 pruned nodes, max_depth=5\u001b[0m\n",
      "\u001b[34m[34]#011train-error:0.158267#011validation-error:0.1902\u001b[0m\n",
      "\u001b[34m[11:34:12] src/tree/updater_prune.cc:74: tree pruning end, 1 roots, 24 extra nodes, 12 pruned nodes, max_depth=5\u001b[0m\n",
      "\u001b[34m[35]#011train-error:0.156267#011validation-error:0.1916\u001b[0m\n",
      "\u001b[34m[11:34:13] src/tree/updater_prune.cc:74: tree pruning end, 1 roots, 12 extra nodes, 8 pruned nodes, max_depth=5\u001b[0m\n",
      "\u001b[34m[36]#011train-error:0.155933#011validation-error:0.1894\u001b[0m\n",
      "\u001b[34m[11:34:15] src/tree/updater_prune.cc:74: tree pruning end, 1 roots, 16 extra nodes, 10 pruned nodes, max_depth=5\u001b[0m\n",
      "\u001b[34m[37]#011train-error:0.154867#011validation-error:0.1893\u001b[0m\n",
      "\u001b[34m[11:34:16] src/tree/updater_prune.cc:74: tree pruning end, 1 roots, 22 extra nodes, 16 pruned nodes, max_depth=5\u001b[0m\n",
      "\u001b[34m[38]#011train-error:0.153533#011validation-error:0.1868\u001b[0m\n",
      "\u001b[34m[11:34:17] src/tree/updater_prune.cc:74: tree pruning end, 1 roots, 32 extra nodes, 10 pruned nodes, max_depth=5\u001b[0m\n",
      "\u001b[34m[39]#011train-error:0.150667#011validation-error:0.1875\u001b[0m\n",
      "\u001b[34m[11:34:19] src/tree/updater_prune.cc:74: tree pruning end, 1 roots, 30 extra nodes, 12 pruned nodes, max_depth=5\u001b[0m\n",
      "\u001b[34m[40]#011train-error:0.149467#011validation-error:0.1863\u001b[0m\n",
      "\u001b[34m[11:34:20] src/tree/updater_prune.cc:74: tree pruning end, 1 roots, 20 extra nodes, 8 pruned nodes, max_depth=5\u001b[0m\n",
      "\u001b[34m[41]#011train-error:0.148267#011validation-error:0.1865\u001b[0m\n",
      "\u001b[34m[11:34:22] src/tree/updater_prune.cc:74: tree pruning end, 1 roots, 30 extra nodes, 8 pruned nodes, max_depth=5\u001b[0m\n",
      "\u001b[34m[42]#011train-error:0.147133#011validation-error:0.1845\u001b[0m\n",
      "\u001b[34m[11:34:23] src/tree/updater_prune.cc:74: tree pruning end, 1 roots, 40 extra nodes, 4 pruned nodes, max_depth=5\u001b[0m\n",
      "\u001b[34m[43]#011train-error:0.145667#011validation-error:0.1825\u001b[0m\n",
      "\u001b[34m[11:34:24] src/tree/updater_prune.cc:74: tree pruning end, 1 roots, 30 extra nodes, 4 pruned nodes, max_depth=5\u001b[0m\n",
      "\u001b[34m[44]#011train-error:0.144267#011validation-error:0.1807\u001b[0m\n",
      "\u001b[34m[11:34:26] src/tree/updater_prune.cc:74: tree pruning end, 1 roots, 20 extra nodes, 10 pruned nodes, max_depth=5\u001b[0m\n",
      "\u001b[34m[45]#011train-error:0.142867#011validation-error:0.1798\u001b[0m\n",
      "\u001b[34m[11:34:27] src/tree/updater_prune.cc:74: tree pruning end, 1 roots, 28 extra nodes, 10 pruned nodes, max_depth=5\u001b[0m\n",
      "\u001b[34m[46]#011train-error:0.141267#011validation-error:0.1797\u001b[0m\n",
      "\u001b[34m[11:34:28] src/tree/updater_prune.cc:74: tree pruning end, 1 roots, 26 extra nodes, 14 pruned nodes, max_depth=5\u001b[0m\n",
      "\u001b[34m[47]#011train-error:0.1406#011validation-error:0.1799\u001b[0m\n",
      "\u001b[34m[11:34:30] src/tree/updater_prune.cc:74: tree pruning end, 1 roots, 18 extra nodes, 12 pruned nodes, max_depth=5\u001b[0m\n",
      "\u001b[34m[48]#011train-error:0.139667#011validation-error:0.1792\u001b[0m\n",
      "\u001b[34m[11:34:31] src/tree/updater_prune.cc:74: tree pruning end, 1 roots, 16 extra nodes, 6 pruned nodes, max_depth=5\u001b[0m\n",
      "\u001b[34m[49]#011train-error:0.138533#011validation-error:0.1785\u001b[0m\n",
      "\u001b[34m[11:34:32] src/tree/updater_prune.cc:74: tree pruning end, 1 roots, 14 extra nodes, 12 pruned nodes, max_depth=5\u001b[0m\n",
      "\u001b[34m[50]#011train-error:0.138067#011validation-error:0.1783\u001b[0m\n",
      "\u001b[34m[11:34:34] src/tree/updater_prune.cc:74: tree pruning end, 1 roots, 24 extra nodes, 8 pruned nodes, max_depth=5\u001b[0m\n",
      "\u001b[34m[51]#011train-error:0.1378#011validation-error:0.1753\u001b[0m\n",
      "\u001b[34m[11:34:35] src/tree/updater_prune.cc:74: tree pruning end, 1 roots, 18 extra nodes, 8 pruned nodes, max_depth=5\u001b[0m\n",
      "\u001b[34m[52]#011train-error:0.1376#011validation-error:0.1739\u001b[0m\n",
      "\u001b[34m[11:34:37] src/tree/updater_prune.cc:74: tree pruning end, 1 roots, 26 extra nodes, 12 pruned nodes, max_depth=5\u001b[0m\n",
      "\u001b[34m[53]#011train-error:0.136133#011validation-error:0.1725\u001b[0m\n",
      "\u001b[34m[11:34:38] src/tree/updater_prune.cc:74: tree pruning end, 1 roots, 34 extra nodes, 10 pruned nodes, max_depth=5\u001b[0m\n",
      "\u001b[34m[54]#011train-error:0.134733#011validation-error:0.1724\u001b[0m\n",
      "\u001b[34m[11:34:39] src/tree/updater_prune.cc:74: tree pruning end, 1 roots, 20 extra nodes, 6 pruned nodes, max_depth=5\u001b[0m\n",
      "\u001b[34m[55]#011train-error:0.1348#011validation-error:0.1733\u001b[0m\n",
      "\u001b[34m[11:34:41] src/tree/updater_prune.cc:74: tree pruning end, 1 roots, 26 extra nodes, 10 pruned nodes, max_depth=5\u001b[0m\n",
      "\u001b[34m[56]#011train-error:0.132933#011validation-error:0.1726\u001b[0m\n",
      "\u001b[34m[11:34:42] src/tree/updater_prune.cc:74: tree pruning end, 1 roots, 24 extra nodes, 6 pruned nodes, max_depth=5\u001b[0m\n",
      "\u001b[34m[57]#011train-error:0.132267#011validation-error:0.1705\u001b[0m\n",
      "\u001b[34m[11:34:43] src/tree/updater_prune.cc:74: tree pruning end, 1 roots, 24 extra nodes, 14 pruned nodes, max_depth=5\u001b[0m\n",
      "\u001b[34m[58]#011train-error:0.130867#011validation-error:0.1685\u001b[0m\n",
      "\u001b[34m[11:34:45] src/tree/updater_prune.cc:74: tree pruning end, 1 roots, 20 extra nodes, 12 pruned nodes, max_depth=5\u001b[0m\n",
      "\u001b[34m[59]#011train-error:0.13#011validation-error:0.1686\u001b[0m\n",
      "\u001b[34m[11:34:46] src/tree/updater_prune.cc:74: tree pruning end, 1 roots, 30 extra nodes, 10 pruned nodes, max_depth=5\u001b[0m\n",
      "\u001b[34m[60]#011train-error:0.128467#011validation-error:0.1687\u001b[0m\n",
      "\u001b[34m[11:34:48] src/tree/updater_prune.cc:74: tree pruning end, 1 roots, 28 extra nodes, 4 pruned nodes, max_depth=5\u001b[0m\n",
      "\u001b[34m[61]#011train-error:0.128133#011validation-error:0.1687\u001b[0m\n",
      "\u001b[34m[11:34:49] src/tree/updater_prune.cc:74: tree pruning end, 1 roots, 20 extra nodes, 4 pruned nodes, max_depth=5\u001b[0m\n",
      "\u001b[34m[62]#011train-error:0.1276#011validation-error:0.1677\u001b[0m\n",
      "\u001b[34m[11:34:50] src/tree/updater_prune.cc:74: tree pruning end, 1 roots, 26 extra nodes, 8 pruned nodes, max_depth=5\u001b[0m\n",
      "\u001b[34m[63]#011train-error:0.126067#011validation-error:0.167\u001b[0m\n",
      "\u001b[34m[11:34:52] src/tree/updater_prune.cc:74: tree pruning end, 1 roots, 14 extra nodes, 14 pruned nodes, max_depth=5\u001b[0m\n",
      "\u001b[34m[64]#011train-error:0.1264#011validation-error:0.1668\u001b[0m\n",
      "\u001b[34m[11:34:53] src/tree/updater_prune.cc:74: tree pruning end, 1 roots, 18 extra nodes, 6 pruned nodes, max_depth=5\u001b[0m\n",
      "\u001b[34m[65]#011train-error:0.1264#011validation-error:0.1676\u001b[0m\n",
      "\u001b[34m[11:34:54] src/tree/updater_prune.cc:74: tree pruning end, 1 roots, 26 extra nodes, 4 pruned nodes, max_depth=5\u001b[0m\n",
      "\u001b[34m[66]#011train-error:0.125133#011validation-error:0.166\u001b[0m\n",
      "\u001b[34m[11:34:56] src/tree/updater_prune.cc:74: tree pruning end, 1 roots, 28 extra nodes, 10 pruned nodes, max_depth=5\u001b[0m\n",
      "\u001b[34m[67]#011train-error:0.124333#011validation-error:0.1643\u001b[0m\n",
      "\u001b[34m[11:34:57] src/tree/updater_prune.cc:74: tree pruning end, 1 roots, 16 extra nodes, 8 pruned nodes, max_depth=5\u001b[0m\n",
      "\u001b[34m[68]#011train-error:0.1226#011validation-error:0.1623\u001b[0m\n",
      "\u001b[34m[11:34:59] src/tree/updater_prune.cc:74: tree pruning end, 1 roots, 18 extra nodes, 6 pruned nodes, max_depth=5\u001b[0m\n",
      "\u001b[34m[69]#011train-error:0.123267#011validation-error:0.1624\u001b[0m\n",
      "\u001b[34m[11:35:00] src/tree/updater_prune.cc:74: tree pruning end, 1 roots, 12 extra nodes, 8 pruned nodes, max_depth=5\u001b[0m\n",
      "\u001b[34m[70]#011train-error:0.123267#011validation-error:0.1615\u001b[0m\n",
      "\u001b[34m[11:35:01] src/tree/updater_prune.cc:74: tree pruning end, 1 roots, 10 extra nodes, 8 pruned nodes, max_depth=5\u001b[0m\n",
      "\u001b[34m[71]#011train-error:0.122467#011validation-error:0.161\u001b[0m\n",
      "\u001b[34m[11:35:03] src/tree/updater_prune.cc:74: tree pruning end, 1 roots, 26 extra nodes, 10 pruned nodes, max_depth=5\u001b[0m\n",
      "\u001b[34m[72]#011train-error:0.1214#011validation-error:0.1618\u001b[0m\n",
      "\u001b[34m[11:35:04] src/tree/updater_prune.cc:74: tree pruning end, 1 roots, 28 extra nodes, 16 pruned nodes, max_depth=5\u001b[0m\n",
      "\u001b[34m[73]#011train-error:0.120933#011validation-error:0.1617\u001b[0m\n",
      "\u001b[34m[11:35:06] src/tree/updater_prune.cc:74: tree pruning end, 1 roots, 12 extra nodes, 6 pruned nodes, max_depth=5\u001b[0m\n",
      "\u001b[34m[74]#011train-error:0.1196#011validation-error:0.1612\u001b[0m\n",
      "\u001b[34m[11:35:08] src/tree/updater_prune.cc:74: tree pruning end, 1 roots, 24 extra nodes, 10 pruned nodes, max_depth=5\u001b[0m\n",
      "\u001b[34m[75]#011train-error:0.119533#011validation-error:0.1624\u001b[0m\n",
      "\u001b[34m[11:35:09] src/tree/updater_prune.cc:74: tree pruning end, 1 roots, 10 extra nodes, 4 pruned nodes, max_depth=5\u001b[0m\n",
      "\u001b[34m[76]#011train-error:0.1186#011validation-error:0.161\u001b[0m\n",
      "\u001b[34m[11:35:10] src/tree/updater_prune.cc:74: tree pruning end, 1 roots, 14 extra nodes, 12 pruned nodes, max_depth=5\u001b[0m\n",
      "\u001b[34m[77]#011train-error:0.118533#011validation-error:0.1608\u001b[0m\n",
      "\u001b[34m[11:35:12] src/tree/updater_prune.cc:74: tree pruning end, 1 roots, 22 extra nodes, 2 pruned nodes, max_depth=5\u001b[0m\n",
      "\u001b[34m[78]#011train-error:0.117133#011validation-error:0.1606\u001b[0m\n",
      "\u001b[34m[11:35:13] src/tree/updater_prune.cc:74: tree pruning end, 1 roots, 16 extra nodes, 10 pruned nodes, max_depth=5\u001b[0m\n",
      "\u001b[34m[79]#011train-error:0.116533#011validation-error:0.1604\u001b[0m\n",
      "\u001b[34m[11:35:14] src/tree/updater_prune.cc:74: tree pruning end, 1 roots, 14 extra nodes, 14 pruned nodes, max_depth=5\u001b[0m\n",
      "\u001b[34m[80]#011train-error:0.116267#011validation-error:0.1597\u001b[0m\n",
      "\u001b[34m[11:35:16] src/tree/updater_prune.cc:74: tree pruning end, 1 roots, 16 extra nodes, 2 pruned nodes, max_depth=5\u001b[0m\n",
      "\u001b[34m[81]#011train-error:0.1166#011validation-error:0.159\u001b[0m\n",
      "\u001b[34m[11:35:17] src/tree/updater_prune.cc:74: tree pruning end, 1 roots, 10 extra nodes, 8 pruned nodes, max_depth=5\u001b[0m\n",
      "\u001b[34m[82]#011train-error:0.116733#011validation-error:0.1588\u001b[0m\n",
      "\u001b[34m[11:35:19] src/tree/updater_prune.cc:74: tree pruning end, 1 roots, 20 extra nodes, 14 pruned nodes, max_depth=5\u001b[0m\n",
      "\u001b[34m[83]#011train-error:0.1158#011validation-error:0.1577\u001b[0m\n",
      "\u001b[34m[11:35:20] src/tree/updater_prune.cc:74: tree pruning end, 1 roots, 26 extra nodes, 10 pruned nodes, max_depth=5\u001b[0m\n",
      "\u001b[34m[84]#011train-error:0.114333#011validation-error:0.1575\u001b[0m\n",
      "\u001b[34m[11:35:21] src/tree/updater_prune.cc:74: tree pruning end, 1 roots, 12 extra nodes, 8 pruned nodes, max_depth=5\u001b[0m\n",
      "\u001b[34m[85]#011train-error:0.113733#011validation-error:0.1567\u001b[0m\n",
      "\u001b[34m[11:35:23] src/tree/updater_prune.cc:74: tree pruning end, 1 roots, 16 extra nodes, 4 pruned nodes, max_depth=5\u001b[0m\n",
      "\u001b[34m[86]#011train-error:0.113133#011validation-error:0.1562\u001b[0m\n",
      "\u001b[34m[11:35:24] src/tree/updater_prune.cc:74: tree pruning end, 1 roots, 22 extra nodes, 16 pruned nodes, max_depth=5\u001b[0m\n",
      "\u001b[34m[87]#011train-error:0.113133#011validation-error:0.1568\u001b[0m\n",
      "\u001b[34m[11:35:26] src/tree/updater_prune.cc:74: tree pruning end, 1 roots, 14 extra nodes, 12 pruned nodes, max_depth=5\u001b[0m\n",
      "\u001b[34m[88]#011train-error:0.112533#011validation-error:0.155\u001b[0m\n",
      "\u001b[34m[11:35:27] src/tree/updater_prune.cc:74: tree pruning end, 1 roots, 28 extra nodes, 10 pruned nodes, max_depth=5\u001b[0m\n",
      "\u001b[34m[89]#011train-error:0.111667#011validation-error:0.1562\u001b[0m\n",
      "\u001b[34m[11:35:28] src/tree/updater_prune.cc:74: tree pruning end, 1 roots, 38 extra nodes, 12 pruned nodes, max_depth=5\u001b[0m\n",
      "\u001b[34m[90]#011train-error:0.110267#011validation-error:0.156\u001b[0m\n",
      "\u001b[34m[11:35:30] src/tree/updater_prune.cc:74: tree pruning end, 1 roots, 28 extra nodes, 4 pruned nodes, max_depth=5\u001b[0m\n",
      "\u001b[34m[91]#011train-error:0.108733#011validation-error:0.1552\u001b[0m\n",
      "\u001b[34m[11:35:31] src/tree/updater_prune.cc:74: tree pruning end, 1 roots, 26 extra nodes, 12 pruned nodes, max_depth=5\u001b[0m\n",
      "\u001b[34m[92]#011train-error:0.1086#011validation-error:0.1544\u001b[0m\n",
      "\u001b[34m[11:35:32] src/tree/updater_prune.cc:74: tree pruning end, 1 roots, 30 extra nodes, 10 pruned nodes, max_depth=5\u001b[0m\n",
      "\u001b[34m[93]#011train-error:0.106667#011validation-error:0.1555\u001b[0m\n",
      "\u001b[34m[11:35:34] src/tree/updater_prune.cc:74: tree pruning end, 1 roots, 16 extra nodes, 6 pruned nodes, max_depth=5\u001b[0m\n",
      "\u001b[34m[94]#011train-error:0.106133#011validation-error:0.1545\u001b[0m\n",
      "\u001b[34m[11:35:35] src/tree/updater_prune.cc:74: tree pruning end, 1 roots, 22 extra nodes, 6 pruned nodes, max_depth=5\u001b[0m\n",
      "\u001b[34m[95]#011train-error:0.104467#011validation-error:0.1546\u001b[0m\n",
      "\u001b[34m[11:35:37] src/tree/updater_prune.cc:74: tree pruning end, 1 roots, 20 extra nodes, 8 pruned nodes, max_depth=5\u001b[0m\n",
      "\u001b[34m[96]#011train-error:0.104133#011validation-error:0.1541\u001b[0m\n",
      "\u001b[34m[11:35:38] src/tree/updater_prune.cc:74: tree pruning end, 1 roots, 32 extra nodes, 8 pruned nodes, max_depth=5\u001b[0m\n",
      "\u001b[34m[97]#011train-error:0.103867#011validation-error:0.1534\u001b[0m\n",
      "\u001b[34m[11:35:39] src/tree/updater_prune.cc:74: tree pruning end, 1 roots, 12 extra nodes, 12 pruned nodes, max_depth=5\u001b[0m\n",
      "\u001b[34m[98]#011train-error:0.103933#011validation-error:0.1522\u001b[0m\n",
      "\u001b[34m[11:35:41] src/tree/updater_prune.cc:74: tree pruning end, 1 roots, 20 extra nodes, 8 pruned nodes, max_depth=5\u001b[0m\n",
      "\u001b[34m[99]#011train-error:0.1034#011validation-error:0.1516\u001b[0m\n",
      "\u001b[34m[11:35:42] src/tree/updater_prune.cc:74: tree pruning end, 1 roots, 14 extra nodes, 12 pruned nodes, max_depth=5\u001b[0m\n",
      "\u001b[34m[100]#011train-error:0.102867#011validation-error:0.1515\u001b[0m\n",
      "\u001b[34m[11:35:43] src/tree/updater_prune.cc:74: tree pruning end, 1 roots, 14 extra nodes, 10 pruned nodes, max_depth=5\u001b[0m\n",
      "\u001b[34m[101]#011train-error:0.1018#011validation-error:0.1506\u001b[0m\n",
      "\u001b[34m[11:35:45] src/tree/updater_prune.cc:74: tree pruning end, 1 roots, 18 extra nodes, 4 pruned nodes, max_depth=5\u001b[0m\n",
      "\u001b[34m[102]#011train-error:0.1024#011validation-error:0.1507\u001b[0m\n",
      "\u001b[34m[11:35:46] src/tree/updater_prune.cc:74: tree pruning end, 1 roots, 16 extra nodes, 8 pruned nodes, max_depth=5\u001b[0m\n",
      "\u001b[34m[103]#011train-error:0.1018#011validation-error:0.151\u001b[0m\n",
      "\u001b[34m[11:35:47] src/tree/updater_prune.cc:74: tree pruning end, 1 roots, 26 extra nodes, 10 pruned nodes, max_depth=5\u001b[0m\n",
      "\u001b[34m[104]#011train-error:0.101533#011validation-error:0.151\u001b[0m\n",
      "\u001b[34m[11:35:49] src/tree/updater_prune.cc:74: tree pruning end, 1 roots, 10 extra nodes, 4 pruned nodes, max_depth=5\u001b[0m\n",
      "\u001b[34m[105]#011train-error:0.101267#011validation-error:0.1507\u001b[0m\n",
      "\u001b[34m[11:35:50] src/tree/updater_prune.cc:74: tree pruning end, 1 roots, 14 extra nodes, 10 pruned nodes, max_depth=5\u001b[0m\n",
      "\u001b[34m[106]#011train-error:0.100733#011validation-error:0.1513\u001b[0m\n",
      "\u001b[34m[11:35:52] src/tree/updater_prune.cc:74: tree pruning end, 1 roots, 20 extra nodes, 16 pruned nodes, max_depth=5\u001b[0m\n",
      "\u001b[34m[107]#011train-error:0.099867#011validation-error:0.1508\u001b[0m\n",
      "\u001b[34m[11:35:53] src/tree/updater_prune.cc:74: tree pruning end, 1 roots, 16 extra nodes, 18 pruned nodes, max_depth=5\u001b[0m\n",
      "\u001b[34m[108]#011train-error:0.099333#011validation-error:0.1498\u001b[0m\n",
      "\u001b[34m[11:35:55] src/tree/updater_prune.cc:74: tree pruning end, 1 roots, 30 extra nodes, 16 pruned nodes, max_depth=5\u001b[0m\n",
      "\u001b[34m[109]#011train-error:0.098733#011validation-error:0.1515\u001b[0m\n",
      "\u001b[34m[11:35:56] src/tree/updater_prune.cc:74: tree pruning end, 1 roots, 16 extra nodes, 0 pruned nodes, max_depth=5\u001b[0m\n",
      "\u001b[34m[110]#011train-error:0.098133#011validation-error:0.1504\u001b[0m\n",
      "\u001b[34m[11:35:57] src/tree/updater_prune.cc:74: tree pruning end, 1 roots, 22 extra nodes, 2 pruned nodes, max_depth=5\u001b[0m\n",
      "\u001b[34m[111]#011train-error:0.098#011validation-error:0.1497\u001b[0m\n",
      "\u001b[34m[11:35:59] src/tree/updater_prune.cc:74: tree pruning end, 1 roots, 20 extra nodes, 8 pruned nodes, max_depth=5\u001b[0m\n",
      "\u001b[34m[112]#011train-error:0.098533#011validation-error:0.1503\u001b[0m\n",
      "\u001b[34m[11:36:00] src/tree/updater_prune.cc:74: tree pruning end, 1 roots, 16 extra nodes, 8 pruned nodes, max_depth=5\u001b[0m\n",
      "\u001b[34m[113]#011train-error:0.097667#011validation-error:0.1488\u001b[0m\n",
      "\u001b[34m[11:36:02] src/tree/updater_prune.cc:74: tree pruning end, 1 roots, 18 extra nodes, 8 pruned nodes, max_depth=5\u001b[0m\n",
      "\u001b[34m[114]#011train-error:0.097733#011validation-error:0.1484\u001b[0m\n",
      "\u001b[34m[11:36:03] src/tree/updater_prune.cc:74: tree pruning end, 1 roots, 28 extra nodes, 8 pruned nodes, max_depth=5\u001b[0m\n",
      "\u001b[34m[115]#011train-error:0.096933#011validation-error:0.1482\u001b[0m\n",
      "\u001b[34m[11:36:05] src/tree/updater_prune.cc:74: tree pruning end, 1 roots, 26 extra nodes, 6 pruned nodes, max_depth=5\u001b[0m\n",
      "\u001b[34m[116]#011train-error:0.097#011validation-error:0.1478\u001b[0m\n",
      "\u001b[34m[11:36:06] src/tree/updater_prune.cc:74: tree pruning end, 1 roots, 24 extra nodes, 8 pruned nodes, max_depth=5\u001b[0m\n",
      "\u001b[34m[117]#011train-error:0.096267#011validation-error:0.147\u001b[0m\n",
      "\u001b[34m[11:36:08] src/tree/updater_prune.cc:74: tree pruning end, 1 roots, 16 extra nodes, 4 pruned nodes, max_depth=5\u001b[0m\n",
      "\u001b[34m[118]#011train-error:0.094533#011validation-error:0.147\u001b[0m\n",
      "\u001b[34m[11:36:09] src/tree/updater_prune.cc:74: tree pruning end, 1 roots, 12 extra nodes, 2 pruned nodes, max_depth=5\u001b[0m\n",
      "\u001b[34m[119]#011train-error:0.094867#011validation-error:0.147\u001b[0m\n",
      "\u001b[34m[11:36:10] src/tree/updater_prune.cc:74: tree pruning end, 1 roots, 26 extra nodes, 14 pruned nodes, max_depth=5\u001b[0m\n",
      "\u001b[34m[120]#011train-error:0.094467#011validation-error:0.1463\u001b[0m\n",
      "\u001b[34m[11:36:12] src/tree/updater_prune.cc:74: tree pruning end, 1 roots, 16 extra nodes, 14 pruned nodes, max_depth=5\u001b[0m\n",
      "\u001b[34m[121]#011train-error:0.093867#011validation-error:0.1457\u001b[0m\n",
      "\u001b[34m[11:36:13] src/tree/updater_prune.cc:74: tree pruning end, 1 roots, 14 extra nodes, 10 pruned nodes, max_depth=5\u001b[0m\n",
      "\u001b[34m[122]#011train-error:0.0938#011validation-error:0.1456\u001b[0m\n",
      "\u001b[34m[11:36:15] src/tree/updater_prune.cc:74: tree pruning end, 1 roots, 26 extra nodes, 8 pruned nodes, max_depth=5\u001b[0m\n",
      "\u001b[34m[123]#011train-error:0.0936#011validation-error:0.1467\u001b[0m\n",
      "\u001b[34m[11:36:16] src/tree/updater_prune.cc:74: tree pruning end, 1 roots, 26 extra nodes, 6 pruned nodes, max_depth=5\u001b[0m\n",
      "\u001b[34m[124]#011train-error:0.093133#011validation-error:0.1458\u001b[0m\n",
      "\u001b[34m[11:36:17] src/tree/updater_prune.cc:74: tree pruning end, 1 roots, 14 extra nodes, 4 pruned nodes, max_depth=5\u001b[0m\n",
      "\u001b[34m[125]#011train-error:0.092333#011validation-error:0.1455\u001b[0m\n",
      "\u001b[34m[11:36:19] src/tree/updater_prune.cc:74: tree pruning end, 1 roots, 10 extra nodes, 10 pruned nodes, max_depth=5\u001b[0m\n",
      "\u001b[34m[126]#011train-error:0.092333#011validation-error:0.1452\u001b[0m\n",
      "\u001b[34m[11:36:20] src/tree/updater_prune.cc:74: tree pruning end, 1 roots, 16 extra nodes, 2 pruned nodes, max_depth=5\u001b[0m\n",
      "\u001b[34m[127]#011train-error:0.0922#011validation-error:0.1446\u001b[0m\n",
      "\u001b[34m[11:36:21] src/tree/updater_prune.cc:74: tree pruning end, 1 roots, 10 extra nodes, 10 pruned nodes, max_depth=5\u001b[0m\n",
      "\u001b[34m[128]#011train-error:0.0922#011validation-error:0.1446\u001b[0m\n",
      "\u001b[34m[11:36:23] src/tree/updater_prune.cc:74: tree pruning end, 1 roots, 10 extra nodes, 0 pruned nodes, max_depth=5\u001b[0m\n",
      "\u001b[34m[129]#011train-error:0.091733#011validation-error:0.1442\u001b[0m\n",
      "\u001b[34m[11:36:24] src/tree/updater_prune.cc:74: tree pruning end, 1 roots, 14 extra nodes, 6 pruned nodes, max_depth=5\u001b[0m\n",
      "\u001b[34m[130]#011train-error:0.0914#011validation-error:0.1448\u001b[0m\n",
      "\u001b[34m[11:36:26] src/tree/updater_prune.cc:74: tree pruning end, 1 roots, 22 extra nodes, 4 pruned nodes, max_depth=5\u001b[0m\n",
      "\u001b[34m[131]#011train-error:0.091#011validation-error:0.1446\u001b[0m\n",
      "\u001b[34m[11:36:27] src/tree/updater_prune.cc:74: tree pruning end, 1 roots, 18 extra nodes, 4 pruned nodes, max_depth=5\u001b[0m\n",
      "\u001b[34m[132]#011train-error:0.090067#011validation-error:0.1448\u001b[0m\n",
      "\u001b[34m[11:36:28] src/tree/updater_prune.cc:74: tree pruning end, 1 roots, 18 extra nodes, 8 pruned nodes, max_depth=5\u001b[0m\n",
      "\u001b[34m[133]#011train-error:0.0902#011validation-error:0.1455\u001b[0m\n",
      "\u001b[34m[11:36:30] src/tree/updater_prune.cc:74: tree pruning end, 1 roots, 14 extra nodes, 8 pruned nodes, max_depth=5\u001b[0m\n",
      "\u001b[34m[134]#011train-error:0.089667#011validation-error:0.1449\u001b[0m\n",
      "\u001b[34m[11:36:31] src/tree/updater_prune.cc:74: tree pruning end, 1 roots, 24 extra nodes, 4 pruned nodes, max_depth=5\u001b[0m\n",
      "\u001b[34m[135]#011train-error:0.0884#011validation-error:0.1451\u001b[0m\n",
      "\u001b[34m[11:36:32] src/tree/updater_prune.cc:74: tree pruning end, 1 roots, 16 extra nodes, 2 pruned nodes, max_depth=5\u001b[0m\n",
      "\u001b[34m[136]#011train-error:0.088333#011validation-error:0.1444\u001b[0m\n",
      "\u001b[34m[11:36:34] src/tree/updater_prune.cc:74: tree pruning end, 1 roots, 30 extra nodes, 6 pruned nodes, max_depth=5\u001b[0m\n",
      "\u001b[34m[137]#011train-error:0.0872#011validation-error:0.1437\u001b[0m\n",
      "\u001b[34m[11:36:35] src/tree/updater_prune.cc:74: tree pruning end, 1 roots, 16 extra nodes, 4 pruned nodes, max_depth=5\u001b[0m\n",
      "\u001b[34m[138]#011train-error:0.0874#011validation-error:0.1436\u001b[0m\n",
      "\u001b[34m[11:36:36] src/tree/updater_prune.cc:74: tree pruning end, 1 roots, 14 extra nodes, 10 pruned nodes, max_depth=5\u001b[0m\n",
      "\u001b[34m[139]#011train-error:0.087067#011validation-error:0.1436\u001b[0m\n",
      "\u001b[34m[11:36:38] src/tree/updater_prune.cc:74: tree pruning end, 1 roots, 12 extra nodes, 10 pruned nodes, max_depth=5\u001b[0m\n",
      "\u001b[34m[140]#011train-error:0.086133#011validation-error:0.1432\u001b[0m\n",
      "\u001b[34m[11:36:39] src/tree/updater_prune.cc:74: tree pruning end, 1 roots, 20 extra nodes, 8 pruned nodes, max_depth=5\u001b[0m\n",
      "\u001b[34m[141]#011train-error:0.086133#011validation-error:0.1424\u001b[0m\n",
      "\u001b[34m[11:36:41] src/tree/updater_prune.cc:74: tree pruning end, 1 roots, 14 extra nodes, 2 pruned nodes, max_depth=5\u001b[0m\n",
      "\u001b[34m[142]#011train-error:0.086267#011validation-error:0.1427\u001b[0m\n",
      "\u001b[34m[11:36:42] src/tree/updater_prune.cc:74: tree pruning end, 1 roots, 10 extra nodes, 12 pruned nodes, max_depth=5\u001b[0m\n",
      "\u001b[34m[143]#011train-error:0.085867#011validation-error:0.1423\u001b[0m\n",
      "\u001b[34m[11:36:43] src/tree/updater_prune.cc:74: tree pruning end, 1 roots, 14 extra nodes, 14 pruned nodes, max_depth=5\u001b[0m\n",
      "\u001b[34m[144]#011train-error:0.085933#011validation-error:0.1425\u001b[0m\n",
      "\u001b[34m[11:36:45] src/tree/updater_prune.cc:74: tree pruning end, 1 roots, 20 extra nodes, 8 pruned nodes, max_depth=5\u001b[0m\n",
      "\u001b[34m[145]#011train-error:0.085533#011validation-error:0.1419\u001b[0m\n",
      "\u001b[34m[11:36:46] src/tree/updater_prune.cc:74: tree pruning end, 1 roots, 10 extra nodes, 6 pruned nodes, max_depth=5\u001b[0m\n",
      "\u001b[34m[146]#011train-error:0.085467#011validation-error:0.1416\u001b[0m\n",
      "\u001b[34m[11:36:47] src/tree/updater_prune.cc:74: tree pruning end, 1 roots, 12 extra nodes, 18 pruned nodes, max_depth=5\u001b[0m\n",
      "\u001b[34m[147]#011train-error:0.084667#011validation-error:0.1417\u001b[0m\n",
      "\u001b[34m[11:36:49] src/tree/updater_prune.cc:74: tree pruning end, 1 roots, 10 extra nodes, 4 pruned nodes, max_depth=5\u001b[0m\n",
      "\u001b[34m[148]#011train-error:0.084267#011validation-error:0.1418\u001b[0m\n",
      "\u001b[34m[11:36:50] src/tree/updater_prune.cc:74: tree pruning end, 1 roots, 18 extra nodes, 12 pruned nodes, max_depth=5\u001b[0m\n",
      "\u001b[34m[149]#011train-error:0.083533#011validation-error:0.141\u001b[0m\n",
      "\u001b[34m[11:36:52] src/tree/updater_prune.cc:74: tree pruning end, 1 roots, 14 extra nodes, 10 pruned nodes, max_depth=5\u001b[0m\n",
      "\u001b[34m[150]#011train-error:0.083733#011validation-error:0.1401\u001b[0m\n",
      "\u001b[34m[11:36:53] src/tree/updater_prune.cc:74: tree pruning end, 1 roots, 18 extra nodes, 14 pruned nodes, max_depth=5\u001b[0m\n",
      "\u001b[34m[151]#011train-error:0.083067#011validation-error:0.1402\u001b[0m\n",
      "\u001b[34m[11:36:54] src/tree/updater_prune.cc:74: tree pruning end, 1 roots, 12 extra nodes, 2 pruned nodes, max_depth=5\u001b[0m\n",
      "\u001b[34m[152]#011train-error:0.0828#011validation-error:0.1398\u001b[0m\n",
      "\u001b[34m[11:36:56] src/tree/updater_prune.cc:74: tree pruning end, 1 roots, 12 extra nodes, 6 pruned nodes, max_depth=5\u001b[0m\n",
      "\u001b[34m[153]#011train-error:0.083267#011validation-error:0.1396\u001b[0m\n",
      "\u001b[34m[11:36:57] src/tree/updater_prune.cc:74: tree pruning end, 1 roots, 16 extra nodes, 8 pruned nodes, max_depth=5\u001b[0m\n",
      "\u001b[34m[154]#011train-error:0.0824#011validation-error:0.1391\u001b[0m\n",
      "\u001b[34m[11:36:58] src/tree/updater_prune.cc:74: tree pruning end, 1 roots, 12 extra nodes, 4 pruned nodes, max_depth=5\u001b[0m\n",
      "\u001b[34m[155]#011train-error:0.082333#011validation-error:0.1388\u001b[0m\n",
      "\u001b[34m[11:37:00] src/tree/updater_prune.cc:74: tree pruning end, 1 roots, 10 extra nodes, 6 pruned nodes, max_depth=5\u001b[0m\n",
      "\u001b[34m[156]#011train-error:0.082133#011validation-error:0.1385\u001b[0m\n",
      "\u001b[34m[11:37:01] src/tree/updater_prune.cc:74: tree pruning end, 1 roots, 12 extra nodes, 2 pruned nodes, max_depth=5\u001b[0m\n",
      "\u001b[34m[157]#011train-error:0.081867#011validation-error:0.138\u001b[0m\n",
      "\u001b[34m[11:37:03] src/tree/updater_prune.cc:74: tree pruning end, 1 roots, 24 extra nodes, 6 pruned nodes, max_depth=5\u001b[0m\n",
      "\u001b[34m[158]#011train-error:0.081533#011validation-error:0.1378\u001b[0m\n",
      "\u001b[34m[11:37:04] src/tree/updater_prune.cc:74: tree pruning end, 1 roots, 14 extra nodes, 4 pruned nodes, max_depth=5\u001b[0m\n",
      "\u001b[34m[159]#011train-error:0.081333#011validation-error:0.1379\u001b[0m\n",
      "\u001b[34m[11:37:06] src/tree/updater_prune.cc:74: tree pruning end, 1 roots, 22 extra nodes, 2 pruned nodes, max_depth=5\u001b[0m\n",
      "\u001b[34m[160]#011train-error:0.081067#011validation-error:0.1378\u001b[0m\n",
      "\u001b[34m[11:37:08] src/tree/updater_prune.cc:74: tree pruning end, 1 roots, 10 extra nodes, 4 pruned nodes, max_depth=5\u001b[0m\n",
      "\u001b[34m[161]#011train-error:0.081#011validation-error:0.1378\u001b[0m\n",
      "\u001b[34m[11:37:09] src/tree/updater_prune.cc:74: tree pruning end, 1 roots, 22 extra nodes, 8 pruned nodes, max_depth=5\u001b[0m\n",
      "\u001b[34m[162]#011train-error:0.081#011validation-error:0.1369\u001b[0m\n",
      "\u001b[34m[11:37:10] src/tree/updater_prune.cc:74: tree pruning end, 1 roots, 10 extra nodes, 8 pruned nodes, max_depth=5\u001b[0m\n",
      "\u001b[34m[163]#011train-error:0.0806#011validation-error:0.138\u001b[0m\n",
      "\u001b[34m[11:37:12] src/tree/updater_prune.cc:74: tree pruning end, 1 roots, 18 extra nodes, 22 pruned nodes, max_depth=5\u001b[0m\n",
      "\u001b[34m[164]#011train-error:0.081#011validation-error:0.1378\u001b[0m\n",
      "\u001b[34m[11:37:13] src/tree/updater_prune.cc:74: tree pruning end, 1 roots, 16 extra nodes, 2 pruned nodes, max_depth=5\u001b[0m\n",
      "\u001b[34m[165]#011train-error:0.0804#011validation-error:0.1376\u001b[0m\n",
      "\u001b[34m[11:37:15] src/tree/updater_prune.cc:74: tree pruning end, 1 roots, 16 extra nodes, 12 pruned nodes, max_depth=5\u001b[0m\n",
      "\u001b[34m[166]#011train-error:0.080267#011validation-error:0.1367\u001b[0m\n",
      "\u001b[34m[11:37:16] src/tree/updater_prune.cc:74: tree pruning end, 1 roots, 14 extra nodes, 6 pruned nodes, max_depth=5\u001b[0m\n",
      "\u001b[34m[167]#011train-error:0.079867#011validation-error:0.1362\u001b[0m\n",
      "\u001b[34m[11:37:17] src/tree/updater_prune.cc:74: tree pruning end, 1 roots, 14 extra nodes, 4 pruned nodes, max_depth=5\u001b[0m\n",
      "\u001b[34m[168]#011train-error:0.079733#011validation-error:0.1369\u001b[0m\n",
      "\u001b[34m[11:37:19] src/tree/updater_prune.cc:74: tree pruning end, 1 roots, 12 extra nodes, 24 pruned nodes, max_depth=5\u001b[0m\n",
      "\u001b[34m[169]#011train-error:0.080267#011validation-error:0.1365\u001b[0m\n",
      "\u001b[34m[11:37:20] src/tree/updater_prune.cc:74: tree pruning end, 1 roots, 22 extra nodes, 4 pruned nodes, max_depth=5\u001b[0m\n",
      "\u001b[34m[170]#011train-error:0.079733#011validation-error:0.1371\u001b[0m\n",
      "\u001b[34m[11:37:21] src/tree/updater_prune.cc:74: tree pruning end, 1 roots, 12 extra nodes, 8 pruned nodes, max_depth=5\u001b[0m\n",
      "\u001b[34m[171]#011train-error:0.079467#011validation-error:0.1368\u001b[0m\n",
      "\u001b[34m[11:37:23] src/tree/updater_prune.cc:74: tree pruning end, 1 roots, 10 extra nodes, 16 pruned nodes, max_depth=5\u001b[0m\n",
      "\u001b[34m[172]#011train-error:0.079733#011validation-error:0.1364\u001b[0m\n",
      "\u001b[34m[11:37:24] src/tree/updater_prune.cc:74: tree pruning end, 1 roots, 18 extra nodes, 10 pruned nodes, max_depth=5\u001b[0m\n",
      "\u001b[34m[173]#011train-error:0.0788#011validation-error:0.136\u001b[0m\n",
      "\u001b[34m[11:37:26] src/tree/updater_prune.cc:74: tree pruning end, 1 roots, 26 extra nodes, 8 pruned nodes, max_depth=5\u001b[0m\n",
      "\u001b[34m[174]#011train-error:0.077267#011validation-error:0.1365\u001b[0m\n",
      "\u001b[34m[11:37:27] src/tree/updater_prune.cc:74: tree pruning end, 1 roots, 12 extra nodes, 12 pruned nodes, max_depth=5\u001b[0m\n",
      "\u001b[34m[175]#011train-error:0.077333#011validation-error:0.1369\u001b[0m\n",
      "\u001b[34m[11:37:28] src/tree/updater_prune.cc:74: tree pruning end, 1 roots, 14 extra nodes, 0 pruned nodes, max_depth=5\u001b[0m\n",
      "\u001b[34m[176]#011train-error:0.077#011validation-error:0.137\u001b[0m\n",
      "\u001b[34m[11:37:30] src/tree/updater_prune.cc:74: tree pruning end, 1 roots, 12 extra nodes, 4 pruned nodes, max_depth=5\u001b[0m\n",
      "\u001b[34m[177]#011train-error:0.076867#011validation-error:0.1375\u001b[0m\n",
      "\u001b[34m[11:37:31] src/tree/updater_prune.cc:74: tree pruning end, 1 roots, 10 extra nodes, 4 pruned nodes, max_depth=5\u001b[0m\n",
      "\u001b[34m[178]#011train-error:0.076667#011validation-error:0.1372\u001b[0m\n",
      "\u001b[34m[11:37:32] src/tree/updater_prune.cc:74: tree pruning end, 1 roots, 18 extra nodes, 8 pruned nodes, max_depth=5\u001b[0m\n",
      "\u001b[34m[179]#011train-error:0.076133#011validation-error:0.1369\u001b[0m\n",
      "\u001b[34m[11:37:34] src/tree/updater_prune.cc:74: tree pruning end, 1 roots, 22 extra nodes, 12 pruned nodes, max_depth=5\u001b[0m\n",
      "\u001b[34m[180]#011train-error:0.075267#011validation-error:0.1369\u001b[0m\n",
      "\u001b[34m[11:37:35] src/tree/updater_prune.cc:74: tree pruning end, 1 roots, 12 extra nodes, 8 pruned nodes, max_depth=5\u001b[0m\n",
      "\u001b[34m[181]#011train-error:0.0752#011validation-error:0.1371\u001b[0m\n",
      "\u001b[34m[11:37:36] src/tree/updater_prune.cc:74: tree pruning end, 1 roots, 12 extra nodes, 2 pruned nodes, max_depth=5\u001b[0m\n",
      "\u001b[34m[182]#011train-error:0.075#011validation-error:0.1372\u001b[0m\n",
      "\u001b[34m[11:37:38] src/tree/updater_prune.cc:74: tree pruning end, 1 roots, 12 extra nodes, 6 pruned nodes, max_depth=5\u001b[0m\n",
      "\u001b[34m[183]#011train-error:0.074667#011validation-error:0.1368\u001b[0m\n",
      "\u001b[34mStopping. Best iteration:\u001b[0m\n",
      "\u001b[34m[173]#011train-error:0.0788#011validation-error:0.136\n",
      "\u001b[0m\n",
      "\n",
      "2021-05-25 11:38:23 Uploading - Uploading generated training model\n",
      "2021-05-25 11:38:23 Completed - Training job completed\n",
      "Training seconds: 361\n",
      "Billable seconds: 361\n"
     ]
    }
   ],
   "source": [
    "xgb.fit({'train': s3_input_train, 'validation': s3_input_validation})"
   ]
  },
  {
   "cell_type": "markdown",
   "metadata": {},
   "source": [
    "## Step 5: Testing the model\n",
    "\n",
    "Now that we've fit our XGBoost model, it's time to see how well it performs. To do this we will use SageMakers Batch Transform functionality. Batch Transform is a convenient way to perform inference on a large dataset in a way that is not realtime. That is, we don't necessarily need to use our model's results immediately and instead we can perform inference on a large number of samples. An example of this in industry might be performing an end of month report. This method of inference can also be useful to us as it means that we can perform inference on our entire test set. \n",
    "\n",
    "To perform a Batch Transformation we need to first create a transformer objects from our trained estimator object."
   ]
  },
  {
   "cell_type": "code",
   "execution_count": 77,
   "metadata": {},
   "outputs": [
    {
     "name": "stderr",
     "output_type": "stream",
     "text": [
      "Parameter image will be renamed to image_uri in SageMaker Python SDK v2.\n",
      "Using already existing model: xgboost-2021-05-25-11-29-34-273\n"
     ]
    }
   ],
   "source": [
    "xgb_transformer = xgb.transformer(instance_count = 1, instance_type = 'ml.m4.xlarge')"
   ]
  },
  {
   "cell_type": "markdown",
   "metadata": {},
   "source": [
    "Next we actually perform the transform job. When doing so we need to make sure to specify the type of data we are sending so that it is serialized correctly in the background. In our case we are providing our model with csv data so we specify `text/csv`. Also, if the test data that we have provided is too large to process all at once then we need to specify how the data file should be split up. Since each line is a single entry in our data set we tell SageMaker that it can split the input on each line."
   ]
  },
  {
   "cell_type": "code",
   "execution_count": 78,
   "metadata": {},
   "outputs": [],
   "source": [
    "xgb_transformer.transform(test_location, content_type='text/csv', split_type='Line')"
   ]
  },
  {
   "cell_type": "markdown",
   "metadata": {},
   "source": [
    "Currently the transform job is running but it is doing so in the background. Since we wish to wait until the transform job is done and we would like a bit of feedback we can run the `wait()` method."
   ]
  },
  {
   "cell_type": "code",
   "execution_count": 79,
   "metadata": {},
   "outputs": [
    {
     "name": "stdout",
     "output_type": "stream",
     "text": [
      "............................\u001b[34mArguments: serve\u001b[0m\n",
      "\u001b[34m[2021-05-26 05:27:30 +0000] [1] [INFO] Starting gunicorn 19.9.0\u001b[0m\n",
      "\u001b[34m[2021-05-26 05:27:30 +0000] [1] [INFO] Listening at: http://0.0.0.0:8080 (1)\u001b[0m\n",
      "\u001b[34m[2021-05-26 05:27:30 +0000] [1] [INFO] Using worker: gevent\u001b[0m\n",
      "\u001b[34m[2021-05-26 05:27:30 +0000] [20] [INFO] Booting worker with pid: 20\u001b[0m\n",
      "\u001b[34m[2021-05-26 05:27:30 +0000] [21] [INFO] Booting worker with pid: 21\u001b[0m\n",
      "\u001b[34m/opt/amazon/lib/python3.7/site-packages/gunicorn/workers/ggevent.py:65: MonkeyPatchWarning: Monkey-patching ssl after ssl has already been imported may lead to errors, including RecursionError on Python 3.6. It may also silently lead to incorrect behaviour on Python 3.7. Please monkey-patch earlier. See https://github.com/gevent/gevent/issues/1016. Modules that had direct imports (NOT patched): ['urllib3.util.ssl_ (/opt/amazon/lib/python3.7/site-packages/urllib3/util/ssl_.py)', 'urllib3.util (/opt/amazon/lib/python3.7/site-packages/urllib3/util/__init__.py)']. \n",
      "  monkey.patch_all(subprocess=True)\u001b[0m\n",
      "\u001b[34m[2021-05-26:05:27:30:INFO] Model loaded successfully for worker : 20\u001b[0m\n",
      "\u001b[34m[2021-05-26 05:27:30 +0000] [22] [INFO] Booting worker with pid: 22\u001b[0m\n",
      "\u001b[34m/opt/amazon/lib/python3.7/site-packages/gunicorn/workers/ggevent.py:65: MonkeyPatchWarning: Monkey-patching ssl after ssl has already been imported may lead to errors, including RecursionError on Python 3.6. It may also silently lead to incorrect behaviour on Python 3.7. Please monkey-patch earlier. See https://github.com/gevent/gevent/issues/1016. Modules that had direct imports (NOT patched): ['urllib3.util.ssl_ (/opt/amazon/lib/python3.7/site-packages/urllib3/util/ssl_.py)', 'urllib3.util (/opt/amazon/lib/python3.7/site-packages/urllib3/util/__init__.py)']. \n",
      "  monkey.patch_all(subprocess=True)\u001b[0m\n",
      "\u001b[34m[2021-05-26:05:27:30:INFO] Model loaded successfully for worker : 21\u001b[0m\n",
      "\u001b[34m[2021-05-26 05:27:30 +0000] [23] [INFO] Booting worker with pid: 23\u001b[0m\n",
      "\u001b[34m/opt/amazon/lib/python3.7/site-packages/gunicorn/workers/ggevent.py:65: MonkeyPatchWarning: Monkey-patching ssl after ssl has already been imported may lead to errors, including RecursionError on Python 3.6. It may also silently lead to incorrect behaviour on Python 3.7. Please monkey-patch earlier. See https://github.com/gevent/gevent/issues/1016. Modules that had direct imports (NOT patched): ['urllib3.util.ssl_ (/opt/amazon/lib/python3.7/site-packages/urllib3/util/ssl_.py)', 'urllib3.util (/opt/amazon/lib/python3.7/site-packages/urllib3/util/__init__.py)']. \n",
      "  monkey.patch_all(subprocess=True)\u001b[0m\n",
      "\u001b[34m[2021-05-26:05:27:30:INFO] Model loaded successfully for worker : 22\u001b[0m\n",
      "\u001b[34m/opt/amazon/lib/python3.7/site-packages/gunicorn/workers/ggevent.py:65: MonkeyPatchWarning: Monkey-patching ssl after ssl has already been imported may lead to errors, including RecursionError on Python 3.6. It may also silently lead to incorrect behaviour on Python 3.7. Please monkey-patch earlier. See https://github.com/gevent/gevent/issues/1016. Modules that had direct imports (NOT patched): ['urllib3.util.ssl_ (/opt/amazon/lib/python3.7/site-packages/urllib3/util/ssl_.py)', 'urllib3.util (/opt/amazon/lib/python3.7/site-packages/urllib3/util/__init__.py)']. \n",
      "  monkey.patch_all(subprocess=True)\u001b[0m\n",
      "\u001b[34m[2021-05-26:05:27:30:INFO] Model loaded successfully for worker : 23\u001b[0m\n",
      "\u001b[34m[2021-05-26:05:27:37:INFO] Sniff delimiter as ','\u001b[0m\n",
      "\u001b[34m[2021-05-26:05:27:37:INFO] Determined delimiter of CSV input is ','\u001b[0m\n",
      "\u001b[34m[2021-05-26:05:27:38:INFO] Sniff delimiter as ','\u001b[0m\n",
      "\u001b[34m[2021-05-26:05:27:38:INFO] Determined delimiter of CSV input is ','\u001b[0m\n",
      "\u001b[35m[2021-05-26:05:27:37:INFO] Sniff delimiter as ','\u001b[0m\n",
      "\u001b[35m[2021-05-26:05:27:37:INFO] Determined delimiter of CSV input is ','\u001b[0m\n",
      "\u001b[35m[2021-05-26:05:27:38:INFO] Sniff delimiter as ','\u001b[0m\n",
      "\u001b[35m[2021-05-26:05:27:38:INFO] Determined delimiter of CSV input is ','\u001b[0m\n",
      "\u001b[34m[2021-05-26:05:27:38:INFO] Sniff delimiter as ','\u001b[0m\n",
      "\u001b[34m[2021-05-26:05:27:38:INFO] Determined delimiter of CSV input is ','\u001b[0m\n",
      "\u001b[35m[2021-05-26:05:27:38:INFO] Sniff delimiter as ','\u001b[0m\n",
      "\u001b[35m[2021-05-26:05:27:38:INFO] Determined delimiter of CSV input is ','\u001b[0m\n",
      "\u001b[34m[2021-05-26:05:27:38:INFO] Sniff delimiter as ','\u001b[0m\n",
      "\u001b[34m[2021-05-26:05:27:38:INFO] Determined delimiter of CSV input is ','\u001b[0m\n",
      "\u001b[35m[2021-05-26:05:27:38:INFO] Sniff delimiter as ','\u001b[0m\n",
      "\u001b[35m[2021-05-26:05:27:38:INFO] Determined delimiter of CSV input is ','\u001b[0m\n",
      "\u001b[34m[2021-05-26:05:27:41:INFO] Sniff delimiter as ','\u001b[0m\n",
      "\u001b[35m[2021-05-26:05:27:41:INFO] Sniff delimiter as ','\u001b[0m\n",
      "\u001b[34m[2021-05-26:05:27:41:INFO] Determined delimiter of CSV input is ','\u001b[0m\n",
      "\u001b[34m[2021-05-26:05:27:42:INFO] Sniff delimiter as ','\u001b[0m\n",
      "\u001b[34m[2021-05-26:05:27:42:INFO] Determined delimiter of CSV input is ','\u001b[0m\n",
      "\u001b[35m[2021-05-26:05:27:41:INFO] Determined delimiter of CSV input is ','\u001b[0m\n",
      "\u001b[35m[2021-05-26:05:27:42:INFO] Sniff delimiter as ','\u001b[0m\n",
      "\u001b[35m[2021-05-26:05:27:42:INFO] Determined delimiter of CSV input is ','\u001b[0m\n",
      "\u001b[34m[2021-05-26:05:27:42:INFO] Sniff delimiter as ','\u001b[0m\n",
      "\u001b[34m[2021-05-26:05:27:42:INFO] Determined delimiter of CSV input is ','\u001b[0m\n",
      "\u001b[34m[2021-05-26:05:27:42:INFO] Sniff delimiter as ','\u001b[0m\n",
      "\u001b[34m[2021-05-26:05:27:42:INFO] Determined delimiter of CSV input is ','\u001b[0m\n",
      "\u001b[35m[2021-05-26:05:27:42:INFO] Sniff delimiter as ','\u001b[0m\n",
      "\u001b[35m[2021-05-26:05:27:42:INFO] Determined delimiter of CSV input is ','\u001b[0m\n",
      "\u001b[35m[2021-05-26:05:27:42:INFO] Sniff delimiter as ','\u001b[0m\n",
      "\u001b[35m[2021-05-26:05:27:42:INFO] Determined delimiter of CSV input is ','\u001b[0m\n",
      "\u001b[34m[2021-05-26:05:27:45:INFO] Sniff delimiter as ','\u001b[0m\n",
      "\u001b[35m[2021-05-26:05:27:45:INFO] Sniff delimiter as ','\u001b[0m\n",
      "\u001b[34m[2021-05-26:05:27:45:INFO] Determined delimiter of CSV input is ','\u001b[0m\n",
      "\u001b[34m[2021-05-26:05:27:45:INFO] Sniff delimiter as ','\u001b[0m\n",
      "\u001b[34m[2021-05-26:05:27:45:INFO] Determined delimiter of CSV input is ','\u001b[0m\n",
      "\u001b[35m[2021-05-26:05:27:45:INFO] Determined delimiter of CSV input is ','\u001b[0m\n",
      "\u001b[35m[2021-05-26:05:27:45:INFO] Sniff delimiter as ','\u001b[0m\n",
      "\u001b[35m[2021-05-26:05:27:45:INFO] Determined delimiter of CSV input is ','\u001b[0m\n",
      "\u001b[34m[2021-05-26:05:27:46:INFO] Sniff delimiter as ','\u001b[0m\n",
      "\u001b[34m[2021-05-26:05:27:46:INFO] Determined delimiter of CSV input is ','\u001b[0m\n",
      "\u001b[34m[2021-05-26:05:27:46:INFO] Sniff delimiter as ','\u001b[0m\n",
      "\u001b[34m[2021-05-26:05:27:46:INFO] Determined delimiter of CSV input is ','\u001b[0m\n",
      "\u001b[35m[2021-05-26:05:27:46:INFO] Sniff delimiter as ','\u001b[0m\n",
      "\u001b[35m[2021-05-26:05:27:46:INFO] Determined delimiter of CSV input is ','\u001b[0m\n",
      "\u001b[35m[2021-05-26:05:27:46:INFO] Sniff delimiter as ','\u001b[0m\n",
      "\u001b[35m[2021-05-26:05:27:46:INFO] Determined delimiter of CSV input is ','\u001b[0m\n",
      "\u001b[34m[2021-05-26:05:27:50:INFO] Sniff delimiter as ','\u001b[0m\n",
      "\u001b[34m[2021-05-26:05:27:50:INFO] Determined delimiter of CSV input is ','\u001b[0m\n",
      "\u001b[35m[2021-05-26:05:27:50:INFO] Sniff delimiter as ','\u001b[0m\n",
      "\u001b[35m[2021-05-26:05:27:50:INFO] Determined delimiter of CSV input is ','\u001b[0m\n",
      "\u001b[34m[2021-05-26:05:27:50:INFO] Sniff delimiter as ','\u001b[0m\n",
      "\u001b[34m[2021-05-26:05:27:50:INFO] Determined delimiter of CSV input is ','\u001b[0m\n",
      "\u001b[35m[2021-05-26:05:27:50:INFO] Sniff delimiter as ','\u001b[0m\n",
      "\u001b[35m[2021-05-26:05:27:50:INFO] Determined delimiter of CSV input is ','\u001b[0m\n",
      "\u001b[34m[2021-05-26:05:27:53:INFO] Sniff delimiter as ','\u001b[0m\n",
      "\u001b[34m[2021-05-26:05:27:53:INFO] Determined delimiter of CSV input is ','\u001b[0m\n",
      "\u001b[35m[2021-05-26:05:27:53:INFO] Sniff delimiter as ','\u001b[0m\n",
      "\u001b[35m[2021-05-26:05:27:53:INFO] Determined delimiter of CSV input is ','\u001b[0m\n",
      "\u001b[34m[2021-05-26:05:27:53:INFO] Sniff delimiter as ','\u001b[0m\n",
      "\u001b[34m[2021-05-26:05:27:53:INFO] Determined delimiter of CSV input is ','\u001b[0m\n",
      "\u001b[34m[2021-05-26:05:27:53:INFO] Sniff delimiter as ','\u001b[0m\n",
      "\u001b[34m[2021-05-26:05:27:53:INFO] Determined delimiter of CSV input is ','\u001b[0m\n",
      "\u001b[34m[2021-05-26:05:27:54:INFO] Sniff delimiter as ','\u001b[0m\n",
      "\u001b[35m[2021-05-26:05:27:53:INFO] Sniff delimiter as ','\u001b[0m\n",
      "\u001b[35m[2021-05-26:05:27:53:INFO] Determined delimiter of CSV input is ','\u001b[0m\n",
      "\u001b[35m[2021-05-26:05:27:53:INFO] Sniff delimiter as ','\u001b[0m\n",
      "\u001b[35m[2021-05-26:05:27:53:INFO] Determined delimiter of CSV input is ','\u001b[0m\n",
      "\u001b[35m[2021-05-26:05:27:54:INFO] Sniff delimiter as ','\u001b[0m\n",
      "\u001b[34m[2021-05-26:05:27:54:INFO] Determined delimiter of CSV input is ','\u001b[0m\n",
      "\u001b[35m[2021-05-26:05:27:54:INFO] Determined delimiter of CSV input is ','\u001b[0m\n",
      "\u001b[34m[2021-05-26:05:27:57:INFO] Determined delimiter of CSV input is ','\u001b[0m\n",
      "\u001b[35m[2021-05-26:05:27:57:INFO] Determined delimiter of CSV input is ','\u001b[0m\n",
      "\u001b[34m[2021-05-26:05:27:57:INFO] Sniff delimiter as ','\u001b[0m\n",
      "\u001b[34m[2021-05-26:05:27:57:INFO] Determined delimiter of CSV input is ','\u001b[0m\n",
      "\u001b[34m[2021-05-26:05:27:57:INFO] Sniff delimiter as ','\u001b[0m\n",
      "\u001b[34m[2021-05-26:05:27:57:INFO] Determined delimiter of CSV input is ','\u001b[0m\n",
      "\u001b[34m[2021-05-26:05:27:57:INFO] Sniff delimiter as ','\u001b[0m\n",
      "\u001b[34m[2021-05-26:05:27:57:INFO] Determined delimiter of CSV input is ','\u001b[0m\n",
      "\u001b[35m[2021-05-26:05:27:57:INFO] Sniff delimiter as ','\u001b[0m\n",
      "\u001b[35m[2021-05-26:05:27:57:INFO] Determined delimiter of CSV input is ','\u001b[0m\n",
      "\u001b[35m[2021-05-26:05:27:57:INFO] Sniff delimiter as ','\u001b[0m\n",
      "\u001b[35m[2021-05-26:05:27:57:INFO] Determined delimiter of CSV input is ','\u001b[0m\n",
      "\u001b[35m[2021-05-26:05:27:57:INFO] Sniff delimiter as ','\u001b[0m\n",
      "\u001b[35m[2021-05-26:05:27:57:INFO] Determined delimiter of CSV input is ','\u001b[0m\n",
      "\u001b[34m[2021-05-26:05:28:00:INFO] Sniff delimiter as ','\u001b[0m\n",
      "\u001b[34m[2021-05-26:05:28:00:INFO] Determined delimiter of CSV input is ','\u001b[0m\n",
      "\u001b[35m[2021-05-26:05:28:00:INFO] Sniff delimiter as ','\u001b[0m\n",
      "\u001b[35m[2021-05-26:05:28:00:INFO] Determined delimiter of CSV input is ','\u001b[0m\n",
      "\u001b[34m[2021-05-26:05:28:01:INFO] Sniff delimiter as ','\u001b[0m\n",
      "\u001b[34m[2021-05-26:05:28:01:INFO] Determined delimiter of CSV input is ','\u001b[0m\n",
      "\u001b[34m[2021-05-26:05:28:01:INFO] Sniff delimiter as ','\u001b[0m\n",
      "\u001b[34m[2021-05-26:05:28:01:INFO] Determined delimiter of CSV input is ','\u001b[0m\n",
      "\u001b[34m[2021-05-26:05:28:01:INFO] Sniff delimiter as ','\u001b[0m\n",
      "\u001b[34m[2021-05-26:05:28:01:INFO] Determined delimiter of CSV input is ','\u001b[0m\n",
      "\u001b[35m[2021-05-26:05:28:01:INFO] Sniff delimiter as ','\u001b[0m\n",
      "\u001b[35m[2021-05-26:05:28:01:INFO] Determined delimiter of CSV input is ','\u001b[0m\n",
      "\u001b[35m[2021-05-26:05:28:01:INFO] Sniff delimiter as ','\u001b[0m\n",
      "\u001b[35m[2021-05-26:05:28:01:INFO] Determined delimiter of CSV input is ','\u001b[0m\n",
      "\u001b[35m[2021-05-26:05:28:01:INFO] Sniff delimiter as ','\u001b[0m\n",
      "\u001b[35m[2021-05-26:05:28:01:INFO] Determined delimiter of CSV input is ','\u001b[0m\n",
      "\u001b[34m[2021-05-26:05:28:04:INFO] Sniff delimiter as ','\u001b[0m\n",
      "\u001b[34m[2021-05-26:05:28:04:INFO] Determined delimiter of CSV input is ','\u001b[0m\n",
      "\u001b[34m[2021-05-26:05:28:05:INFO] Sniff delimiter as ','\u001b[0m\n",
      "\u001b[34m[2021-05-26:05:28:05:INFO] Determined delimiter of CSV input is ','\u001b[0m\n",
      "\u001b[35m[2021-05-26:05:28:04:INFO] Sniff delimiter as ','\u001b[0m\n",
      "\u001b[35m[2021-05-26:05:28:04:INFO] Determined delimiter of CSV input is ','\u001b[0m\n",
      "\u001b[35m[2021-05-26:05:28:05:INFO] Sniff delimiter as ','\u001b[0m\n",
      "\u001b[35m[2021-05-26:05:28:05:INFO] Determined delimiter of CSV input is ','\u001b[0m\n",
      "\u001b[34m[2021-05-26:05:28:05:INFO] Sniff delimiter as ','\u001b[0m\n",
      "\u001b[34m[2021-05-26:05:28:05:INFO] Determined delimiter of CSV input is ','\u001b[0m\n",
      "\u001b[34m[2021-05-26:05:28:05:INFO] Sniff delimiter as ','\u001b[0m\n",
      "\u001b[34m[2021-05-26:05:28:05:INFO] Determined delimiter of CSV input is ','\u001b[0m\n",
      "\u001b[35m[2021-05-26:05:28:05:INFO] Sniff delimiter as ','\u001b[0m\n",
      "\u001b[35m[2021-05-26:05:28:05:INFO] Determined delimiter of CSV input is ','\u001b[0m\n",
      "\u001b[35m[2021-05-26:05:28:05:INFO] Sniff delimiter as ','\u001b[0m\n",
      "\u001b[35m[2021-05-26:05:28:05:INFO] Determined delimiter of CSV input is ','\u001b[0m\n",
      "\u001b[34m[2021-05-26:05:28:09:INFO] Sniff delimiter as ','\u001b[0m\n",
      "\u001b[34m[2021-05-26:05:28:09:INFO] Determined delimiter of CSV input is ','\u001b[0m\n",
      "\u001b[35m[2021-05-26:05:28:09:INFO] Sniff delimiter as ','\u001b[0m\n",
      "\u001b[35m[2021-05-26:05:28:09:INFO] Determined delimiter of CSV input is ','\u001b[0m\n",
      "\u001b[34m[2021-05-26:05:28:09:INFO] Sniff delimiter as ','\u001b[0m\n",
      "\u001b[34m[2021-05-26:05:28:09:INFO] Determined delimiter of CSV input is ','\u001b[0m\n",
      "\u001b[35m[2021-05-26:05:28:09:INFO] Sniff delimiter as ','\u001b[0m\n",
      "\u001b[35m[2021-05-26:05:28:09:INFO] Determined delimiter of CSV input is ','\u001b[0m\n",
      "\u001b[34m[2021-05-26:05:28:12:INFO] Sniff delimiter as ','\u001b[0m\n",
      "\u001b[34m[2021-05-26:05:28:12:INFO] Determined delimiter of CSV input is ','\u001b[0m\n",
      "\u001b[34m[2021-05-26:05:28:12:INFO] Sniff delimiter as ','\u001b[0m\n",
      "\u001b[34m[2021-05-26:05:28:12:INFO] Determined delimiter of CSV input is ','\u001b[0m\n",
      "\u001b[34m[2021-05-26:05:28:12:INFO] Sniff delimiter as ','\u001b[0m\n",
      "\u001b[34m[2021-05-26:05:28:12:INFO] Determined delimiter of CSV input is ','\u001b[0m\n",
      "\u001b[34m[2021-05-26:05:28:13:INFO] Sniff delimiter as ','\u001b[0m\n",
      "\u001b[34m[2021-05-26:05:28:13:INFO] Determined delimiter of CSV input is ','\u001b[0m\n",
      "\u001b[35m[2021-05-26:05:28:12:INFO] Sniff delimiter as ','\u001b[0m\n",
      "\u001b[35m[2021-05-26:05:28:12:INFO] Determined delimiter of CSV input is ','\u001b[0m\n",
      "\u001b[35m[2021-05-26:05:28:12:INFO] Sniff delimiter as ','\u001b[0m\n",
      "\u001b[35m[2021-05-26:05:28:12:INFO] Determined delimiter of CSV input is ','\u001b[0m\n",
      "\u001b[35m[2021-05-26:05:28:12:INFO] Sniff delimiter as ','\u001b[0m\n",
      "\u001b[35m[2021-05-26:05:28:12:INFO] Determined delimiter of CSV input is ','\u001b[0m\n",
      "\u001b[35m[2021-05-26:05:28:13:INFO] Sniff delimiter as ','\u001b[0m\n",
      "\u001b[35m[2021-05-26:05:28:13:INFO] Determined delimiter of CSV input is ','\u001b[0m\n",
      "\n",
      "\u001b[32m2021-05-26T05:27:34.187:[sagemaker logs]: MaxConcurrentTransforms=4, MaxPayloadInMB=6, BatchStrategy=MULTI_RECORD\u001b[0m\n"
     ]
    }
   ],
   "source": [
    "xgb_transformer.wait()"
   ]
  },
  {
   "cell_type": "markdown",
   "metadata": {},
   "source": [
    "Now the transform job has executed and the result, the estimated sentiment of each review, has been saved on S3. Since we would rather work on this file locally we can perform a bit of notebook magic to copy the file to the `data_dir`."
   ]
  },
  {
   "cell_type": "code",
   "execution_count": 48,
   "metadata": {},
   "outputs": [
    {
     "name": "stdout",
     "output_type": "stream",
     "text": [
      "download: s3://sagemaker-us-east-1-291406185151/xgboost-2021-05-25-11-46-34-943/test.csv.out to ../data/sentiment_web_app/test.csv.out\n"
     ]
    }
   ],
   "source": [
    "!aws s3 cp --recursive $xgb_transformer.output_path $data_dir"
   ]
  },
  {
   "cell_type": "markdown",
   "metadata": {},
   "source": [
    "The last step is now to read in the output from our model, convert the output to something a little more usable, in this case we want the sentiment to be either `1` (positive) or `0` (negative), and then compare to the ground truth labels."
   ]
  },
  {
   "cell_type": "code",
   "execution_count": 49,
   "metadata": {},
   "outputs": [],
   "source": [
    "predictions = pd.read_csv(os.path.join(data_dir, 'test.csv.out'), header=None)\n",
    "predictions = [round(num) for num in predictions.squeeze().values]"
   ]
  },
  {
   "cell_type": "code",
   "execution_count": 50,
   "metadata": {},
   "outputs": [
    {
     "data": {
      "text/plain": [
       "0.86076"
      ]
     },
     "execution_count": 50,
     "metadata": {},
     "output_type": "execute_result"
    }
   ],
   "source": [
    "from sklearn.metrics import accuracy_score\n",
    "accuracy_score(test_y, predictions)"
   ]
  },
  {
   "cell_type": "markdown",
   "metadata": {},
   "source": [
    "## Step 6: Deploying the model\n",
    "\n",
    "Once we construct and fit our model, SageMaker stores the resulting model artifacts and we can use those to deploy an endpoint (inference code). To see this, look in the SageMaker console and you should see that a model has been created along with a link to the S3 location where the model artifacts have been stored.\n",
    "\n",
    "Deploying an endpoint is a lot like training the model with a few important differences. The first is that a deployed model doesn't change the model artifacts, so as you send it various testing instances the model won't change. Another difference is that since we aren't performing a fixed computation, as we were in the training step or while performing a batch transform, the compute instance that gets started stays running until we tell it to stop. This is important to note as if we forget and leave it running we will be charged the entire time.\n",
    "\n",
    "In other words **If you are no longer using a deployed endpoint, shut it down!**"
   ]
  },
  {
   "cell_type": "code",
   "execution_count": 80,
   "metadata": {},
   "outputs": [
    {
     "name": "stderr",
     "output_type": "stream",
     "text": [
      "Parameter image will be renamed to image_uri in SageMaker Python SDK v2.\n",
      "Using already existing model: xgboost-2021-05-25-11-29-34-273\n"
     ]
    },
    {
     "name": "stdout",
     "output_type": "stream",
     "text": [
      "-------------!"
     ]
    }
   ],
   "source": [
    "xgb_predictor = xgb.deploy(initial_instance_count = 1, instance_type = 'ml.m4.xlarge')"
   ]
  },
  {
   "cell_type": "markdown",
   "metadata": {},
   "source": [
    "### Testing the model (again)\n",
    "\n",
    "Now that we have deployed our endpoint, we can send the testing data to it and get back the inference results. We already did this earlier using the batch transform functionality of SageMaker, however, we will test our model again using the newly deployed endpoint so that we can make sure that it works properly and to get a bit of a feel for how the endpoint works.\n",
    "\n",
    "When using the created endpoint it is important to know that we are limited in the amount of information we can send in each call so we need to break the testing data up into chunks and then send each chunk. Also, we need to serialize our data before we send it to the endpoint to ensure that our data is transmitted properly. Fortunately, SageMaker can do the serialization part for us provided we tell it the format of our data."
   ]
  },
  {
   "cell_type": "code",
   "execution_count": 53,
   "metadata": {},
   "outputs": [],
   "source": [
    "from sagemaker.predictor import csv_serializer\n",
    "\n",
    "# We need to tell the endpoint what format the data we are sending is in so that SageMaker can perform the serialization.\n",
    "xgb_predictor.content_type = 'text/csv'\n",
    "xgb_predictor.serializer = csv_serializer"
   ]
  },
  {
   "cell_type": "code",
   "execution_count": 54,
   "metadata": {},
   "outputs": [],
   "source": [
    "# We split the data into chunks and send each chunk seperately, accumulating the results.\n",
    "\n",
    "def predict(data, rows=512):\n",
    "    split_array = np.array_split(data, int(data.shape[0] / float(rows) + 1))\n",
    "    predictions = ''\n",
    "    for array in split_array:\n",
    "        predictions = ','.join([predictions, xgb_predictor.predict(array).decode('utf-8')])\n",
    "    \n",
    "    return np.fromstring(predictions[1:], sep=',')"
   ]
  },
  {
   "cell_type": "code",
   "execution_count": 55,
   "metadata": {},
   "outputs": [],
   "source": [
    "test_X = pd.read_csv(os.path.join(data_dir, 'test.csv'), header=None).values\n",
    "\n",
    "predictions = predict(test_X)\n",
    "predictions = [round(num) for num in predictions]"
   ]
  },
  {
   "cell_type": "markdown",
   "metadata": {},
   "source": [
    "Lastly, we check to see what the accuracy of our model is."
   ]
  },
  {
   "cell_type": "code",
   "execution_count": 56,
   "metadata": {},
   "outputs": [
    {
     "data": {
      "text/plain": [
       "0.86076"
      ]
     },
     "execution_count": 56,
     "metadata": {},
     "output_type": "execute_result"
    }
   ],
   "source": [
    "from sklearn.metrics import accuracy_score\n",
    "accuracy_score(test_y, predictions)"
   ]
  },
  {
   "cell_type": "markdown",
   "metadata": {},
   "source": [
    "And the results here should agree with the model testing that we did earlier using the batch transform job.\n",
    "\n",
    "### Cleaning up\n",
    "\n",
    "Now that we've determined that deploying our model works as expected, we are going to shut it down. Remember that the longer the endpoint is left running, the greater the cost and since we have a bit more work to do before we are able to use our endpoint with our simple web app, we should shut everything down."
   ]
  },
  {
   "cell_type": "code",
   "execution_count": 81,
   "metadata": {},
   "outputs": [],
   "source": [
    "xgb_predictor.delete_endpoint()"
   ]
  },
  {
   "cell_type": "markdown",
   "metadata": {},
   "source": [
    "## Step 7: Putting our model to work\n",
    "\n",
    "As we've mentioned a few times now, our goal is to have our model deployed and then access it using a very simple web app. The intent is for this web app to take some user submitted data (a review), send it off to our endpoint (the model) and then display the result.\n",
    "\n",
    "However, there is a small catch. Currently the only way we can access the endpoint to send it data is using the SageMaker API. We can, if we wish, expose the actual URL that our model's endpoint is receiving data from, however, if we just send it data ourselves we will not get anything in return. This is because the endpoint created by SageMaker requires the entity accessing it have the correct permissions. So, we would need to somehow authenticate our web app with AWS.\n",
    "\n",
    "Having a website that authenticates to AWS seems a bit beyond the scope of this lesson so we will opt for an alternative approach. Namely, we will create a new endpoint which does not require authentication and which acts as a proxy for the SageMaker endpoint.\n",
    "\n",
    "As an additional constraint, we will try to avoid doing any data processing in the web app itself. Remember that when we constructed and tested our model we started with a movie review, then we simplified it by removing any html formatting and punctuation, then we constructed a bag of words embedding and the resulting vector is what we sent to our model. All of this needs to be done to our user input as well.\n",
    "\n",
    "Fortunately we can do all of this data processing in the backend, using Amazon's Lambda service.\n",
    "\n",
    "<img src=\"Web App Diagram.svg\">\n",
    "\n",
    "The diagram above gives an overview of how the various services will work together. On the far right is the model which we trained above and which will be deployed using SageMaker. On the far left is our web app that collects a user's movie review, sends it off and expects a positive or negative sentiment in return.\n",
    "\n",
    "In the middle is where some of the magic happens. We will construct a Lambda function, which you can think of as a straightforward Python function that can be executed whenever a specified event occurs. This Python function will do the data processing we need to perform on a user submitted review. In addition, we will give this function permission to send and recieve data from a SageMaker endpoint.\n",
    "\n",
    "Lastly, the method we will use to execute the Lambda function is a new endpoint that we will create using API Gateway. This endpoint will be a url that listens for data to be sent to it. Once it gets some data it will pass that data on to the Lambda function and then return whatever the Lambda function returns. Essentially it will act as an interface that lets our web app communicate with the Lambda function.\n",
    "\n",
    "### Processing a single review\n",
    "\n",
    "For now, suppose we are given a movie review by our user in the form of a string, like so:"
   ]
  },
  {
   "cell_type": "code",
   "execution_count": 59,
   "metadata": {},
   "outputs": [],
   "source": [
    "test_review = \"Nothing but a disgusting materialistic pageant of glistening abed remote control greed zombies, totally devoid of any heart or heat. A romantic comedy that has zero romantic chemestry and zero laughs!\""
   ]
  },
  {
   "cell_type": "markdown",
   "metadata": {},
   "source": [
    "How do we go from this string to the bag of words feature vector that is expected by our model?\n",
    "\n",
    "If we recall at the beginning of this notebook, the first step is to remove any unnecessary characters using the `review_to_words` method. Remember that we intentionally did this in a very simplistic way. This is because we are going to have to copy this method to our (eventual) Lambda function (we will go into more detail later) and this means it needs to be rather simplistic."
   ]
  },
  {
   "cell_type": "code",
   "execution_count": 60,
   "metadata": {},
   "outputs": [
    {
     "name": "stdout",
     "output_type": "stream",
     "text": [
      "nothing but a disgusting materialistic pageant of glistening abed remote control greed zombies totally devoid of any heart or heat a romantic comedy that has zero romantic chemestry and zero laughs\n"
     ]
    }
   ],
   "source": [
    "test_words = review_to_words(test_review)\n",
    "print(test_words)"
   ]
  },
  {
   "cell_type": "markdown",
   "metadata": {},
   "source": [
    "Next, we need to construct a bag of words embedding of the `test_words` string. To do this, remember that a bag of words embedding uses a `vocabulary` consisting of the most frequently appearing words in a set of documents. Then, for each word in the vocabulary we record the number of times that word appears in `test_words`. We constructed the `vocabulary` earlier using the training set for our problem so encoding `test_words` is relatively straightforward."
   ]
  },
  {
   "cell_type": "code",
   "execution_count": 61,
   "metadata": {},
   "outputs": [],
   "source": [
    "def bow_encoding(words, vocabulary):\n",
    "    bow = [0] * len(vocabulary) # Start by setting the count for each word in the vocabulary to zero.\n",
    "    for word in words.split():  # For each word in the string\n",
    "        if word in vocabulary:  # If the word is one that occurs in the vocabulary, increase its count.\n",
    "            bow[vocabulary[word]] += 1\n",
    "    return bow"
   ]
  },
  {
   "cell_type": "code",
   "execution_count": 62,
   "metadata": {},
   "outputs": [
    {
     "name": "stdout",
     "output_type": "stream",
     "text": [
      "[0, 0, 0, 0, 0, 0, 0, 0, 0, 0, 0, 0, 0, 0, 0, 0, 0, 0, 0, 0, 0, 0, 0, 0, 0, 0, 0, 0, 0, 0, 0, 0, 0, 0, 0, 0, 0, 0, 0, 0, 0, 0, 0, 0, 0, 0, 0, 0, 0, 0, 0, 0, 0, 0, 0, 0, 0, 0, 0, 0, 0, 0, 0, 0, 0, 0, 0, 0, 0, 0, 0, 0, 0, 0, 0, 0, 0, 0, 0, 0, 0, 0, 0, 0, 0, 0, 0, 0, 0, 0, 0, 0, 0, 0, 0, 0, 0, 0, 0, 0, 0, 0, 0, 0, 0, 0, 0, 0, 0, 0, 0, 0, 0, 0, 0, 0, 0, 0, 0, 0, 0, 0, 0, 0, 0, 0, 0, 0, 0, 0, 0, 0, 0, 0, 0, 0, 0, 0, 0, 0, 0, 0, 0, 0, 0, 0, 0, 0, 0, 0, 0, 0, 0, 0, 0, 0, 0, 0, 0, 0, 0, 0, 0, 0, 0, 0, 0, 0, 0, 0, 0, 0, 0, 0, 0, 0, 0, 0, 0, 0, 0, 0, 0, 0, 0, 0, 0, 0, 0, 0, 0, 0, 0, 0, 0, 0, 0, 0, 0, 0, 0, 0, 0, 0, 0, 0, 0, 0, 0, 0, 0, 0, 0, 0, 0, 0, 0, 0, 0, 0, 0, 0, 0, 0, 0, 0, 1, 0, 0, 0, 0, 0, 0, 0, 0, 0, 0, 0, 0, 0, 0, 0, 0, 0, 0, 0, 0, 0, 0, 0, 0, 0, 0, 0, 0, 0, 1, 0, 0, 0, 0, 0, 0, 0, 0, 0, 0, 0, 0, 0, 0, 0, 0, 0, 0, 0, 0, 0, 0, 0, 0, 0, 0, 0, 0, 0, 0, 0, 0, 0, 0, 0, 0, 0, 0, 0, 0, 0, 0, 0, 0, 0, 0, 0, 0, 0, 0, 0, 0, 0, 0, 0, 0, 0, 0, 0, 0, 0, 0, 0, 0, 0, 0, 0, 0, 0, 0, 0, 0, 0, 0, 0, 0, 0, 0, 0, 0, 0, 0, 0, 0, 0, 0, 0, 0, 0, 0, 0, 0, 0, 0, 0, 0, 0, 0, 0, 0, 0, 0, 0, 0, 0, 0, 0, 0, 0, 0, 0, 0, 0, 0, 0, 0, 0, 0, 0, 0, 0, 0, 0, 0, 0, 0, 0, 0, 0, 0, 0, 0, 0, 0, 0, 0, 0, 0, 0, 0, 0, 0, 0, 0, 0, 0, 0, 0, 0, 0, 0, 0, 0, 0, 0, 0, 0, 0, 0, 0, 0, 0, 0, 0, 0, 0, 0, 0, 0, 0, 0, 0, 0, 0, 0, 0, 0, 0, 0, 0, 0, 0, 0, 0, 0, 0, 0, 0, 0, 0, 0, 0, 0, 0, 0, 0, 0, 0, 0, 0, 0, 0, 0, 0, 0, 0, 0, 0, 0, 0, 0, 0, 0, 0, 0, 0, 0, 0, 0, 0, 0, 0, 0, 0, 0, 0, 0, 0, 0, 0, 0, 0, 0, 0, 0, 0, 0, 0, 0, 0, 0, 0, 0, 0, 0, 0, 0, 0, 0, 0, 0, 0, 0, 0, 0, 0, 0, 0, 0, 0, 0, 0, 0, 0, 0, 0, 0, 0, 0, 0, 0, 0, 0, 0, 0, 0, 0, 0, 0, 0, 0, 0, 0, 0, 0, 0, 0, 0, 0, 0, 0, 0, 0, 0, 0, 0, 0, 0, 0, 0, 0, 0, 0, 0, 0, 0, 0, 0, 0, 0, 0, 0, 0, 0, 0, 0, 0, 0, 0, 0, 0, 0, 0, 0, 0, 0, 0, 0, 0, 0, 0, 0, 0, 0, 0, 0, 0, 0, 0, 0, 0, 0, 0, 0, 0, 0, 0, 0, 0, 0, 0, 0, 0, 0, 0, 0, 0, 0, 0, 0, 0, 0, 0, 0, 0, 0, 0, 0, 0, 0, 0, 0, 0, 0, 0, 0, 0, 0, 0, 1, 0, 0, 0, 0, 0, 0, 0, 0, 0, 0, 0, 0, 0, 0, 0, 0, 0, 0, 0, 0, 0, 0, 0, 0, 0, 0, 0, 0, 0, 0, 0, 0, 0, 0, 0, 0, 0, 0, 0, 0, 0, 0, 0, 0, 0, 0, 0, 0, 0, 0, 0, 0, 0, 0, 0, 0, 0, 0, 0, 0, 0, 0, 0, 0, 0, 0, 0, 0, 0, 0, 0, 0, 0, 0, 0, 0, 0, 0, 0, 0, 0, 0, 0, 0, 0, 0, 0, 0, 0, 0, 0, 0, 0, 0, 0, 0, 0, 0, 0, 0, 0, 0, 0, 0, 0, 0, 0, 0, 0, 0, 0, 0, 0, 0, 0, 0, 0, 0, 0, 0, 0, 0, 0, 0, 0, 0, 0, 0, 0, 0, 0, 0, 0, 0, 0, 0, 0, 0, 0, 0, 0, 0, 0, 0, 0, 0, 0, 0, 0, 0, 0, 0, 0, 0, 0, 0, 0, 0, 0, 0, 0, 0, 0, 0, 0, 0, 0, 0, 0, 0, 0, 0, 0, 0, 0, 0, 0, 0, 0, 0, 0, 0, 0, 0, 0, 0, 0, 0, 0, 0, 0, 0, 0, 0, 0, 0, 0, 0, 0, 0, 0, 0, 0, 0, 0, 0, 0, 0, 0, 0, 0, 0, 0, 0, 0, 0, 0, 0, 0, 0, 0, 0, 0, 0, 0, 0, 0, 0, 0, 0, 0, 0, 0, 0, 0, 0, 0, 0, 0, 0, 0, 0, 0, 0, 0, 0, 0, 0, 0, 0, 0, 0, 0, 1, 0, 0, 0, 0, 0, 0, 0, 0, 0, 0, 0, 0, 0, 0, 0, 0, 0, 0, 0, 0, 0, 0, 0, 0, 0, 0, 0, 0, 0, 0, 0, 0, 0, 0, 0, 0, 0, 0, 0, 0, 0, 0, 0, 0, 0, 0, 0, 0, 0, 0, 0, 0, 0, 0, 0, 0, 0, 0, 0, 0, 0, 0, 0, 0, 0, 0, 0, 0, 0, 0, 0, 0, 0, 0, 0, 0, 0, 0, 0, 0, 0, 0, 0, 0, 0, 0, 1, 0, 0, 0, 0, 0, 0, 0, 0, 0, 0, 0, 0, 0, 0, 0, 0, 0, 0, 0, 0, 0, 0, 0, 0, 0, 0, 0, 0, 0, 0, 0, 0, 0, 0, 0, 0, 0, 0, 0, 0, 0, 0, 0, 0, 0, 0, 0, 0, 0, 0, 0, 0, 0, 0, 0, 0, 0, 0, 0, 0, 0, 0, 0, 0, 0, 0, 0, 0, 0, 0, 0, 0, 0, 0, 0, 0, 0, 0, 0, 0, 0, 0, 0, 0, 0, 0, 0, 0, 0, 0, 0, 0, 0, 0, 0, 0, 0, 0, 0, 0, 0, 0, 0, 0, 0, 0, 0, 0, 0, 0, 0, 0, 0, 0, 0, 0, 0, 0, 0, 0, 0, 0, 0, 0, 0, 0, 0, 0, 0, 0, 0, 0, 0, 0, 0, 0, 0, 0, 0, 0, 0, 0, 0, 0, 0, 0, 0, 0, 0, 0, 0, 0, 0, 0, 0, 0, 0, 0, 0, 0, 0, 0, 0, 0, 0, 0, 0, 0, 0, 0, 0, 0, 0, 0, 0, 0, 0, 0, 0, 0, 0, 0, 0, 0, 0, 0, 0, 0, 0, 0, 0, 0, 0, 0, 0, 0, 0, 0, 0, 0, 0, 0, 0, 0, 0, 0, 0, 0, 0, 0, 0, 0, 0, 0, 0, 0, 0, 0, 0, 0, 0, 0, 0, 0, 0, 0, 0, 0, 0, 0, 0, 0, 0, 0, 0, 0, 0, 0, 0, 0, 0, 0, 0, 0, 0, 0, 0, 0, 0, 0, 0, 0, 1, 0, 0, 0, 0, 0, 0, 0, 0, 0, 0, 0, 0, 0, 0, 0, 0, 0, 0, 0, 0, 0, 0, 0, 0, 0, 0, 0, 0, 0, 0, 0, 0, 0, 0, 0, 0, 0, 0, 0, 0, 0, 0, 0, 0, 0, 0, 0, 0, 0, 0, 0, 0, 0, 0, 0, 1, 0, 0, 0, 0, 0, 0, 0, 0, 0, 0, 0, 0, 0, 0, 0, 0, 0, 0, 0, 0, 0, 0, 0, 0, 0, 0, 0, 0, 0, 0, 0, 0, 0, 0, 0, 0, 0, 0, 0, 0, 0, 0, 0, 0, 0, 0, 0, 0, 0, 0, 0, 0, 0, 0, 0, 0, 0, 0, 0, 0, 0, 0, 0, 0, 0, 0, 0, 0, 0, 0, 0, 0, 0, 0, 0, 0, 0, 0, 0, 0, 0, 0, 0, 0, 0, 0, 0, 0, 0, 0, 0, 0, 0, 0, 0, 0, 0, 0, 0, 0, 0, 0, 0, 0, 0, 0, 0, 0, 0, 0, 0, 0, 0, 0, 0, 0, 0, 0, 0, 0, 0, 0, 0, 0, 0, 0, 0, 0, 0, 0, 0, 0, 0, 0, 0, 0, 0, 0, 0, 0, 0, 0, 0, 0, 0, 0, 0, 0, 0, 0, 0, 0, 0, 0, 0, 0, 0, 0, 0, 0, 0, 0, 0, 0, 0, 0, 0, 0, 0, 0, 0, 0, 0, 0, 0, 0, 0, 0, 0, 0, 0, 0, 0, 0, 0, 0, 0, 0, 0, 0, 0, 0, 0, 0, 0, 0, 0, 0, 0, 0, 0, 0, 0, 0, 0, 0, 0, 0, 0, 0, 0, 0, 0, 0, 0, 0, 0, 0, 0, 0, 0, 0, 0, 0, 0, 0, 0, 0, 0, 0, 0, 0, 0, 0, 0, 0, 0, 0, 0, 0, 0, 0, 0, 0, 0, 0, 0, 0, 0, 0, 0, 0, 0, 0, 0, 0, 0, 0, 0, 0, 0, 0, 0, 0, 0, 0, 0, 0, 0, 0, 0, 0, 0, 0, 0, 0, 0, 0, 0, 0, 0, 0, 0, 0, 0, 0, 0, 0, 0, 0, 0, 0, 0, 0, 0, 0, 0, 0, 0, 0, 0, 0, 0, 0, 0, 0, 0, 0, 0, 0, 0, 0, 0, 0, 0, 0, 0, 0, 0, 0, 0, 0, 0, 0, 0, 0, 0, 0, 0, 0, 0, 0, 0, 0, 0, 0, 0, 0, 0, 0, 0, 0, 0, 0, 0, 0, 0, 0, 0, 0, 0, 0, 0, 0, 0, 0, 0, 0, 0, 0, 0, 0, 0, 0, 0, 0, 0, 0, 0, 0, 0, 0, 0, 0, 0, 0, 0, 0, 0, 0, 0, 0, 0, 0, 0, 0, 0, 0, 0, 0, 0, 0, 0, 0, 0, 0, 0, 0, 0, 0, 0, 0, 0, 0, 0, 0, 0, 0, 0, 0, 0, 0, 0, 0, 0, 0, 0, 0, 0, 0, 0, 0, 0, 0, 0, 0, 0, 0, 0, 0, 0, 0, 0, 0, 0, 0, 0, 0, 0, 0, 0, 0, 0, 0, 0, 0, 0, 0, 0, 0, 0, 0, 0, 0, 0, 0, 0, 0, 0, 0, 0, 0, 0, 0, 0, 0, 0, 0, 0, 0, 0, 0, 0, 0, 0, 0, 0, 0, 0, 0, 0, 0, 0, 0, 0, 0, 0, 0, 0, 0, 0, 0, 0, 0, 0, 0, 0, 0, 0, 0, 0, 0, 0, 0, 0, 0, 0, 0, 0, 0, 0, 0, 0, 0, 0, 0, 0, 0, 0, 0, 0, 0, 0, 0, 0, 0, 0, 0, 0, 0, 0, 0, 0, 0, 0, 0, 0, 0, 0, 0, 0, 0, 0, 0, 0, 0, 0, 0, 0, 0, 0, 0, 0, 0, 0, 0, 0, 0, 0, 0, 0, 0, 0, 0, 0, 0, 0, 0, 0, 0, 0, 0, 0, 0, 0, 0, 0, 0, 0, 0, 0, 0, 0, 0, 0, 0, 0, 0, 0, 0, 0, 0, 0, 0, 0, 0, 0, 0, 0, 0, 0, 0, 0, 0, 0, 0, 0, 0, 0, 0, 0, 0, 0, 0, 0, 0, 0, 0, 0, 0, 0, 0, 0, 0, 0, 0, 0, 0, 0, 0, 0, 0, 0, 0, 0, 0, 0, 0, 0, 0, 0, 0, 0, 0, 0, 0, 0, 0, 0, 0, 0, 0, 0, 0, 0, 0, 0, 0, 0, 0, 0, 0, 0, 0, 0, 0, 0, 0, 0, 0, 0, 0, 0, 0, 0, 0, 0, 0, 0, 0, 0, 1, 0, 0, 0, 0, 0, 0, 0, 0, 0, 0, 0, 0, 0, 0, 0, 0, 0, 0, 0, 0, 0, 0, 0, 0, 0, 0, 0, 0, 0, 0, 0, 0, 0, 0, 0, 0, 0, 0, 0, 0, 0, 0, 0, 0, 0, 0, 0, 0, 0, 0, 0, 0, 0, 0, 0, 0, 0, 0, 0, 0, 0, 0, 0, 0, 0, 0, 0, 0, 0, 0, 0, 0, 0, 0, 1, 0, 0, 0, 0, 0, 0, 0, 0, 0, 0, 0, 0, 0, 0, 0, 0, 0, 0, 0, 0, 1, 0, 0, 1, 0, 0, 0, 0, 0, 0, 0, 0, 0, 0, 0, 0, 0, 0, 0, 0, 0, 0, 0, 0, 0, 0, 0, 0, 0, 0, 0, 0, 0, 0, 0, 0, 0, 0, 0, 0, 0, 0, 0, 0, 0, 0, 0, 0, 0, 0, 0, 0, 0, 0, 0, 0, 0, 0, 0, 0, 0, 0, 0, 0, 0, 0, 0, 0, 0, 0, 0, 0, 0, 0, 0, 0, 0, 0, 0, 0, 0, 0, 0, 0, 0, 0, 0, 0, 0, 0, 0, 0, 0, 0, 0, 0, 0, 0, 0, 0, 0, 0, 0, 0, 0, 0, 0, 0, 0, 0, 0, 0, 0, 0, 0, 0, 0, 0, 0, 0, 0, 0, 0, 0, 0, 0, 0, 0, 0, 0, 0, 0, 0, 0, 0, 0, 0, 0, 0, 0, 0, 0, 0, 0, 0, 0, 0, 0, 0, 0, 0, 0, 0, 0, 0, 0, 0, 0, 0, 0, 0, 0, 0, 0, 0, 0, 0, 0, 0, 0, 0, 0, 0, 0, 0, 0, 0, 0, 0, 0, 0, 0, 0, 0, 0, 0, 0, 0, 0, 0, 0, 0, 0, 0, 0, 0, 0, 0, 0, 0, 0, 0, 0, 0, 0, 0, 0, 0, 0, 0, 0, 0, 0, 0, 0, 0, 0, 0, 0, 0, 0, 0, 0, 0, 0, 0, 0, 0, 0, 0, 0, 0, 0, 0, 0, 0, 0, 0, 0, 0, 0, 0, 0, 0, 0, 0, 0, 0, 0, 0, 0, 0, 0, 0, 0, 0, 0, 0, 0, 0, 0, 0, 0, 0, 0, 0, 0, 0, 0, 0, 0, 0, 0, 0, 0, 0, 0, 0, 0, 0, 0, 0, 0, 0, 0, 0, 0, 0, 0, 0, 0, 0, 0, 0, 0, 0, 0, 0, 0, 0, 0, 0, 0, 0, 0, 0, 0, 0, 0, 0, 0, 0, 0, 0, 0, 0, 0, 0, 0, 0, 0, 0, 0, 0, 0, 0, 0, 0, 0, 0, 0, 0, 0, 0, 0, 0, 0, 0, 0, 0, 0, 0, 0, 0, 0, 0, 0, 0, 0, 0, 0, 0, 0, 0, 0, 0, 0, 0, 0, 0, 0, 0, 0, 0, 0, 0, 0, 0, 0, 0, 0, 0, 0, 0, 0, 0, 0, 0, 0, 0, 0, 0, 0, 0, 0, 0, 0, 0, 0, 0, 0, 0, 0, 0, 0, 0, 0, 0, 0, 0, 0, 0, 0, 0, 0, 0, 0, 0, 0, 0, 0, 0, 0, 0, 0, 0, 0, 0, 0, 0, 0, 0, 0, 0, 0, 0, 0, 0, 0, 0, 0, 0, 0, 0, 0, 0, 0, 0, 0, 0, 0, 0, 0, 0, 0, 0, 0, 0, 0, 0, 0, 0, 0, 0, 0, 0, 0, 0, 0, 0, 0, 0, 0, 0, 0, 0, 0, 0, 0, 0, 1, 0, 0, 0, 0, 0, 0, 0, 0, 0, 0, 0, 0, 0, 0, 0, 0, 0, 0, 0, 0, 0, 0, 0, 0, 0, 0, 0, 0, 0, 0, 0, 0, 0, 0, 0, 0, 0, 0, 0, 0, 0, 0, 0, 0, 0, 0, 0, 0, 0, 0, 0, 0, 0, 0, 0, 0, 0, 0, 0, 0, 0, 0, 0, 0, 0, 0, 0, 0, 0, 0, 0, 0, 0, 0, 0, 0, 0, 0, 0, 0, 0, 0, 0, 0, 0, 0, 0, 0, 0, 0, 0, 0, 0, 0, 0, 0, 0, 0, 0, 0, 0, 0, 0, 0, 0, 0, 0, 0, 0, 0, 0, 0, 0, 0, 0, 0, 0, 0, 0, 0, 0, 0, 0, 0, 0, 0, 0, 0, 0, 0, 0, 0, 0, 0, 0, 0, 0, 0, 0, 0, 0, 0, 0, 0, 0, 0, 0, 0, 0, 0, 0, 0, 0, 0, 0, 0, 0, 0, 0, 0, 0, 0, 0, 0, 0, 0, 0, 0, 0, 0, 0, 0, 0, 0, 0, 0, 0, 0, 0, 0, 0, 0, 0, 0, 0, 0, 0, 0, 0, 0, 0, 0, 0, 0, 0, 0, 0, 0, 0, 0, 0, 0, 0, 0, 0, 0, 0, 0, 0, 0, 0, 0, 0, 0, 0, 0, 0, 0, 0, 0, 0, 0, 0, 0, 0, 0, 0, 0, 0, 0, 0, 0, 0, 0, 0, 0, 0, 0, 0, 0, 0, 0, 0, 0, 0, 0, 0, 0, 0, 0, 0, 0, 0, 0, 0, 0, 0, 0, 0, 0, 0, 0, 0, 0, 0, 0, 0, 0, 0, 0, 0, 0, 0, 0, 0, 0, 0, 0, 0, 0, 0, 0, 0, 0, 0, 0, 0, 0, 0, 0, 0, 0, 0, 0, 0, 0, 0, 0, 0, 0, 0, 0, 0, 0, 0, 0, 0, 0, 0, 0, 0, 0, 0, 0, 0, 0, 0, 0, 0, 0, 0, 0, 0, 0, 0, 0, 0, 0, 0, 0, 0, 0, 0, 0, 0, 0, 0, 0, 0, 0, 0, 0, 0, 0, 0, 0, 0, 0, 0, 0, 0, 0, 0, 0, 0, 0, 0, 0, 0, 0, 0, 0, 0, 0, 0, 0, 0, 0, 0, 0, 0, 0, 0, 0, 0, 0, 0, 0, 0, 0, 0, 0, 0, 0, 0, 0, 0, 0, 0, 0, 0, 0, 0, 0, 0, 0, 0, 0, 0, 0, 0, 0, 0, 0, 0, 0, 0, 0, 0, 0, 0, 0, 0, 0, 0, 0, 0, 0, 0, 0, 0, 0, 0, 0, 0, 0, 0, 0, 0, 0, 0, 0, 0, 0, 0, 0, 0, 0, 0, 0, 0, 0, 0, 0, 0, 0, 0, 0, 0, 0, 0, 0, 0, 0, 0, 0, 0, 0, 0, 0, 0, 0, 0, 0, 0, 0, 0, 0, 0, 0, 0, 0, 0, 0, 0, 0, 0, 0, 0, 0, 0, 0, 0, 0, 0, 0, 0, 0, 0, 0, 0, 0, 0, 0, 0, 0, 0, 0, 0, 0, 0, 0, 0, 0, 0, 0, 0, 0, 0, 0, 0, 0, 1, 0, 0, 0, 0, 0, 0, 0, 0, 0, 0, 0, 0, 0, 0, 0, 0, 0, 0, 0, 0, 0, 0, 0, 0, 0, 0, 0, 0, 0, 0, 0, 0, 0, 0, 0, 2, 0, 0, 0, 0, 0, 0, 0, 0, 0, 0, 0, 0, 0, 0, 0, 0, 0, 0, 0, 0, 0, 0, 0, 0, 0, 0, 0, 0, 0, 0, 0, 0, 0, 0, 0, 0, 0, 0, 0, 0, 1, 0, 0, 0, 0, 0, 0, 0, 0, 0, 0, 0, 0, 0, 0, 0, 0, 0, 0, 0, 0, 0, 0, 0, 0, 0, 0, 0, 0, 0, 0, 0, 0, 0, 0, 0, 0, 0, 0, 0, 0, 0, 0, 0, 0, 0, 0, 0, 0, 0, 0, 0, 0, 0, 0, 0, 0, 0, 0, 0, 0, 0, 0, 0, 0, 0, 0, 0, 0, 0, 0, 0, 0, 0, 0, 0, 0, 0, 0, 0, 0, 0, 0, 0, 0, 0, 0, 0, 0, 0, 0, 0, 0, 0, 0, 0, 0, 0, 0, 0, 0, 0, 0, 0, 0, 0, 0, 0, 0, 0, 0, 0, 0, 0, 0, 0, 0, 0, 0, 0, 0, 0, 0, 0, 0, 0, 0, 0, 0, 0, 0, 0, 0, 0, 0, 0, 0, 0, 0, 0, 0, 0, 0, 0, 0, 0, 0, 0, 0, 0, 0, 0, 0, 0, 0, 0, 0, 0, 0, 0, 0, 0, 0, 0, 0, 0, 0, 0, 0, 0, 0, 0, 0, 0, 0, 0, 0, 0, 0, 0, 0, 0, 0, 0, 0, 0, 0, 0, 0, 0, 0, 0, 0, 0, 0, 0, 0, 0, 0, 0, 0, 0, 0, 0, 0, 0, 0, 0, 0, 0, 0, 0, 0, 0, 0, 0, 0, 0, 0, 0, 0, 0, 0, 0, 0, 0, 0, 0, 0, 0, 0, 0, 0, 0, 0, 0, 0, 0, 0, 0, 0, 0, 0, 0, 0, 0, 0, 0, 0, 0, 0, 0, 0, 0, 0, 0, 0, 0, 0, 0, 0, 0, 0, 0, 0, 0, 0, 0, 0, 0, 0, 0, 0, 0, 0, 0, 0, 0, 0, 0, 0, 0, 0, 0, 0, 0, 0, 0, 0, 0, 0, 0, 0, 0, 0, 0, 0, 0, 0, 0, 0, 0, 0, 0, 0, 0, 0, 0, 0, 0, 0, 0, 0, 0, 0, 0, 0, 0, 0, 0, 0, 0, 0, 0, 0, 0, 0, 0, 0, 0, 0, 0, 0, 0, 0, 0, 0, 0, 0, 0, 0, 0, 0, 0, 0, 0, 0, 0, 0, 0, 0, 0, 0, 0, 0, 0, 0, 0, 0, 0, 0, 0, 0, 0, 0, 0, 0, 0, 0, 0, 0, 0, 0, 0, 0, 0, 0, 0, 0, 0, 0, 0, 0, 0, 0, 0, 0, 0, 0, 0, 0, 0, 0, 0, 0, 0, 0, 0, 0, 0, 0, 0, 0, 0, 0, 0, 0, 0, 0, 0, 0, 0, 0, 0, 0, 0, 0, 0, 0, 0, 0, 0, 0, 0, 0, 0, 0, 0, 0, 0, 0, 0, 0, 0, 0, 0, 0, 0, 0, 0, 0, 0, 0, 0, 0, 0, 0, 0, 0, 0, 0, 0, 0, 0, 0, 0, 0, 0, 0, 0, 0, 0, 0, 0, 0, 0, 0, 0, 0, 0, 0, 0, 0, 0, 0, 0, 0, 0, 0, 0, 0, 0, 0, 0, 0, 0, 0, 0, 0, 0, 0, 0, 0, 0, 0, 0, 0, 0, 1, 0, 0, 0, 0, 0, 0, 0, 0, 0, 0, 0, 0, 0, 0, 0, 0, 0, 0, 0, 0, 0, 0, 0, 0, 0, 0, 0, 0, 0, 0, 0, 0, 0, 0, 0, 0, 0, 0, 0, 0, 0, 0, 0, 0, 0, 0, 0, 0, 0, 0, 0, 0, 0, 0, 0, 0, 0, 0, 0, 0, 0, 0, 0, 0, 0, 0, 0, 0, 0, 0, 0, 0, 0, 0, 0, 0, 0, 0, 0, 0, 0, 0, 0, 0, 0, 0, 0, 0, 0, 0, 0, 0, 0, 0, 0, 0, 0, 0, 0, 0, 0, 0, 0, 0, 0, 0, 0, 0, 0, 0, 2, 0, 0, 0, 0, 0, 0, 0, 0, 0, 0, 0, 0, 0, 0, 0, 0, 0, 0, 0, 0, 0, 0, 0, 0, 0, 0, 0, 0, 0, 0, 0, 0, 0, 0, 0, 0, 0, 0, 0, 0, 0, 0, 0, 0, 0, 0, 0, 0, 0, 0, 0, 0, 0, 0, 0, 0, 0, 0, 0, 0, 0, 0, 0, 0, 0, 0, 0, 0, 0, 0, 0, 0, 0, 0, 0, 0, 0, 0, 0, 0, 0, 0, 0, 0, 0, 0, 0, 0, 0, 0, 0, 0, 0, 0, 0, 0, 0, 0, 0, 0, 0, 0, 0, 0, 0, 0, 0, 0, 0, 0, 0, 0, 0, 0, 0, 0, 0, 0, 0, 0, 0, 0, 0, 0, 0, 0, 0, 0, 0, 0, 0, 0, 0, 0, 0, 0, 0, 0, 0, 0, 0, 0, 0, 0, 0, 0, 0, 0, 0, 0, 0, 0, 0, 0, 0, 0, 0, 0, 0, 0, 0, 0, 0, 0, 0, 0, 0, 0, 0, 0, 0, 0, 0, 0, 0, 0, 0, 0, 0, 0, 0, 0, 0, 0, 0, 0, 0, 0, 0, 0, 0, 0, 0, 0, 0, 0, 0, 0, 0, 0, 0, 0, 0, 0, 0, 0, 0, 0, 0, 0, 0, 0, 0, 0, 0, 0, 0, 0, 0, 0, 0, 0, 0, 0, 0, 0, 0, 0, 0, 0, 0, 0, 0, 0, 0, 0, 0, 0, 0, 0, 0, 0, 0, 0, 0, 0, 0, 0, 0, 0, 0, 0, 0, 0, 0, 0, 0, 0, 0, 0, 0, 0, 0, 0, 0, 0, 0, 0, 0, 0, 0, 0, 0, 0, 0, 0, 0, 0, 0, 0, 0, 0, 0, 0, 0, 0, 0, 0, 0, 0, 0, 0, 0, 0, 0, 0, 0, 0, 0, 0, 0, 0, 0, 0, 0, 0, 0, 0, 0, 0, 0, 0, 0, 0, 0, 0, 0, 0, 0, 0, 0, 0, 0, 0, 0, 0, 0, 0, 0, 0, 0, 0, 0, 0, 0, 0, 0, 0, 0, 0, 0, 0, 0, 0, 0, 0, 0, 0, 0, 0, 0, 0, 0, 0, 0, 0, 0, 0, 0, 0, 0, 0, 0, 0, 0, 0, 0, 0, 0, 0, 0, 0, 0, 0, 0, 0, 0, 0, 0, 0, 0, 0, 0, 0, 0, 0, 0, 0, 0, 0, 0, 0, 0, 0, 0, 0, 0, 0, 0, 0, 0, 0, 0, 0, 0, 0, 0, 0, 0, 0, 0, 0, 0, 0, 0, 0, 0, 0, 0, 0, 0, 0, 0, 0, 0, 0, 0, 0, 0, 0, 0, 0, 0, 0, 0, 0, 0, 0, 0, 0, 0, 0, 0, 0, 0, 0, 0, 0, 0, 0, 0, 0, 0, 0, 0, 0, 0, 0, 0, 0, 0, 0, 0, 0, 0, 0, 0, 0, 0, 0, 0, 0, 0, 0, 0, 0, 0, 0, 0, 0, 0, 0, 0, 0, 0, 0, 0, 0, 0, 0, 0, 0, 0, 0, 0, 0, 0, 0, 0, 0, 0, 0, 0, 0, 0, 0, 0, 0, 0, 0, 0, 0, 0, 0, 0, 0, 0, 0, 0, 0, 0, 0, 0, 0, 0, 0, 0, 0, 0, 0, 0, 0, 0, 0, 0, 0, 0, 0, 0, 0, 0, 0, 0, 0, 0, 0, 0, 0, 0, 0, 0, 0, 0, 0, 0, 0, 0, 0, 0, 0, 0, 0, 0, 0, 0, 0, 0, 0, 0, 0, 0, 0, 0, 0, 0, 0, 0, 0, 0, 0, 0, 0, 0, 0, 0, 0, 0, 0, 0, 0, 0, 0, 0, 0, 0, 0, 0, 0, 0, 0, 0, 0, 0, 0, 0, 0, 0, 0, 0, 0, 0, 0, 0, 0, 0, 0, 0, 0, 0, 0, 0, 0, 0, 0, 0, 0, 0, 0, 0, 0, 0, 0, 0, 0, 0, 0, 0, 0, 0, 0, 0, 0, 0, 0, 0, 0, 0, 0, 0, 0, 0, 0, 0, 0, 0, 0, 0, 0, 0, 0, 0, 0, 0, 0, 0, 0, 0, 0, 0, 0, 0, 0, 0, 0, 0, 0, 0, 0, 0, 0, 0, 0, 0, 0, 0, 0, 0, 0, 0, 0, 1, 0, 0, 0, 0, 0, 0, 0, 0, 0, 0, 0, 0, 0, 0, 0, 0, 0, 0, 0, 0, 0, 0, 0, 0, 0, 0, 0, 0, 0, 0, 0, 0, 0, 0, 0, 0, 0, 0, 0, 0, 0, 0, 0, 0, 0, 0, 0, 0, 0, 0, 0, 0, 0, 0, 0, 0, 0, 0, 0, 0, 0, 0, 0, 0, 0, 0, 0, 0, 0, 0, 0, 0, 0, 0, 0, 0, 0, 0, 0, 0, 0, 0, 0, 0, 0, 0, 0, 0, 0, 0, 0, 0, 0, 0, 0, 0, 0, 0, 0, 0, 0, 0, 0, 0, 0, 0, 0, 1, 0, 0, 0, 0, 0, 0, 0, 0, 0, 0, 0, 0, 0, 0, 0, 0, 0, 0, 0, 0, 0, 0, 0, 0, 0, 0, 0, 0, 0, 0, 0, 0, 0, 0, 0, 0, 0, 0, 0, 0, 0, 0, 0, 0, 0, 0, 0, 0, 0, 0, 0, 0, 0, 0, 0, 0, 0, 0, 0, 0, 0, 0, 0, 0, 0, 0, 0, 0, 0, 0, 0, 0, 0, 0, 0, 0, 0, 0, 0, 0, 0, 0, 0, 0, 0, 0, 0, 0, 0, 0, 0, 0, 0, 0, 0, 0, 0, 0, 0, 0, 0, 0, 0, 0, 0, 0, 0, 0, 0, 0, 0, 0, 0, 0, 0, 0, 0, 0, 0, 0, 0, 0, 0, 0, 0, 0, 0, 0, 0, 0, 0, 0, 0, 0, 0, 0, 0, 0, 0, 0, 0, 0, 0, 0, 0, 0, 0, 0, 0, 0, 0, 0, 0, 0, 0, 0, 0, 0, 0, 0, 0, 0, 0, 0, 0, 0, 0, 0, 0, 0, 0, 0, 0, 0, 0, 0, 0, 0, 0, 0, 0, 0, 0, 0, 0, 0, 0, 0, 0, 0, 0, 0, 0, 0, 0, 0, 0, 0, 0, 0, 0, 0, 0, 0, 0, 0, 0, 0, 0, 0, 0, 0, 0, 0, 0, 0, 0, 0, 0, 0, 0, 0, 0, 0, 0, 0, 0, 0, 0, 0, 0, 0, 0, 0, 0, 0, 0, 0, 0, 0, 0, 0, 0, 0, 0, 0, 0, 0, 0, 0, 0, 0, 0, 0, 0, 0, 0, 0, 0, 0, 0, 0, 0, 0, 0, 0, 0, 0, 0, 0, 0, 0, 0, 0, 0, 0, 0, 0, 0, 0, 0, 0, 0, 0, 0, 0, 0, 0, 0, 0, 0, 0, 0, 0, 0, 0, 0, 0, 0, 0, 0, 0, 0, 0, 0, 0, 0, 0, 0, 0, 0, 0, 0, 0, 0, 0, 0, 0, 0, 0, 0, 0, 0, 0, 0, 0, 0, 0, 0, 0, 0, 0, 0, 0, 0, 0, 0, 0, 0, 0, 0, 0, 0, 0, 0, 0, 0, 0, 0, 0, 0, 0, 0, 0, 0, 0, 0, 0, 0, 0, 0, 0, 0, 0, 0, 0, 0, 0, 0, 0, 0, 0, 0, 0, 0, 0, 0, 0, 0, 0, 0, 0, 0, 0, 0, 0, 0, 0, 0, 0, 0, 0, 0, 0, 0, 0, 0, 0, 0, 0, 0, 0, 0, 0, 0, 0, 0, 0, 0, 0, 0, 0, 0, 0, 0, 0, 0, 0, 0, 0, 0, 0, 0, 0, 0, 0, 0, 0, 0, 0, 0, 0, 0, 0, 0, 0, 0, 0, 0, 0, 0, 0, 0, 0, 0, 0, 0, 0, 0, 0, 0, 0, 0, 0, 0, 0, 0, 0, 0, 0, 0, 0, 0, 2, 0, 1, 0]\n"
     ]
    }
   ],
   "source": [
    "test_bow = bow_encoding(test_words, vocabulary)\n",
    "print(test_bow)"
   ]
  },
  {
   "cell_type": "code",
   "execution_count": 63,
   "metadata": {},
   "outputs": [
    {
     "data": {
      "text/plain": [
       "5000"
      ]
     },
     "execution_count": 63,
     "metadata": {},
     "output_type": "execute_result"
    }
   ],
   "source": [
    "len(test_bow)"
   ]
  },
  {
   "cell_type": "markdown",
   "metadata": {},
   "source": [
    "So now we know how to construct a bag of words encoding of a user provided review, how to we send it to our endpoint? First, we need to start the endpoint back up."
   ]
  },
  {
   "cell_type": "code",
   "execution_count": 64,
   "metadata": {},
   "outputs": [
    {
     "name": "stderr",
     "output_type": "stream",
     "text": [
      "Parameter image will be renamed to image_uri in SageMaker Python SDK v2.\n",
      "Using already existing model: xgboost-2021-05-25-11-29-34-273\n"
     ]
    },
    {
     "name": "stdout",
     "output_type": "stream",
     "text": [
      "---------------!"
     ]
    }
   ],
   "source": [
    "xgb_predictor = xgb.deploy(initial_instance_count = 1, instance_type = 'ml.m4.xlarge')"
   ]
  },
  {
   "cell_type": "markdown",
   "metadata": {},
   "source": [
    "At this point we could just do the same thing that we did earlier when we tested our deployed model and send `test_bow` to our endpoint using the `xgb_predictor` object. However, when we eventually construct our Lambda function we won't have access to this object, so how do we call a SageMaker endpoint?\n",
    "\n",
    "It turns out that Python functions that are used in Lambda have access to another Amazon library called `boto3`. This library provides an API for working with Amazon services, including SageMaker. To start with, we need to get a handle to the SageMaker runtime."
   ]
  },
  {
   "cell_type": "code",
   "execution_count": 65,
   "metadata": {},
   "outputs": [],
   "source": [
    "import boto3\n",
    "\n",
    "runtime = boto3.Session().client('sagemaker-runtime')"
   ]
  },
  {
   "cell_type": "markdown",
   "metadata": {},
   "source": [
    "And now that we have access to the SageMaker runtime, we can ask it to make use of (invoke) an endpoint that has already been created. However, we need to provide SageMaker with the name of the deployed endpoint. To find this out we can print it out using the `xgb_predictor` object."
   ]
  },
  {
   "cell_type": "code",
   "execution_count": 66,
   "metadata": {},
   "outputs": [
    {
     "data": {
      "text/plain": [
       "'xgboost-2021-05-25-11-29-34-273'"
      ]
     },
     "execution_count": 66,
     "metadata": {},
     "output_type": "execute_result"
    }
   ],
   "source": [
    "xgb_predictor.endpoint"
   ]
  },
  {
   "cell_type": "markdown",
   "metadata": {},
   "source": [
    "Using the SageMaker runtime and the name of our endpoint, we can invoke the endpoint and send it the `test_bow` data."
   ]
  },
  {
   "cell_type": "code",
   "execution_count": 67,
   "metadata": {},
   "outputs": [
    {
     "ename": "ParamValidationError",
     "evalue": "Parameter validation failed:\nInvalid type for parameter Body, value: [0, 0, 0, 0, 0, 0, 0, 0, 0, 0, 0, 0, 0, 0, 0, 0, 0, 0, 0, 0, 0, 0, 0, 0, 0, 0, 0, 0, 0, 0, 0, 0, 0, 0, 0, 0, 0, 0, 0, 0, 0, 0, 0, 0, 0, 0, 0, 0, 0, 0, 0, 0, 0, 0, 0, 0, 0, 0, 0, 0, 0, 0, 0, 0, 0, 0, 0, 0, 0, 0, 0, 0, 0, 0, 0, 0, 0, 0, 0, 0, 0, 0, 0, 0, 0, 0, 0, 0, 0, 0, 0, 0, 0, 0, 0, 0, 0, 0, 0, 0, 0, 0, 0, 0, 0, 0, 0, 0, 0, 0, 0, 0, 0, 0, 0, 0, 0, 0, 0, 0, 0, 0, 0, 0, 0, 0, 0, 0, 0, 0, 0, 0, 0, 0, 0, 0, 0, 0, 0, 0, 0, 0, 0, 0, 0, 0, 0, 0, 0, 0, 0, 0, 0, 0, 0, 0, 0, 0, 0, 0, 0, 0, 0, 0, 0, 0, 0, 0, 0, 0, 0, 0, 0, 0, 0, 0, 0, 0, 0, 0, 0, 0, 0, 0, 0, 0, 0, 0, 0, 0, 0, 0, 0, 0, 0, 0, 0, 0, 0, 0, 0, 0, 0, 0, 0, 0, 0, 0, 0, 0, 0, 0, 0, 0, 0, 0, 0, 0, 0, 0, 0, 0, 0, 0, 0, 0, 1, 0, 0, 0, 0, 0, 0, 0, 0, 0, 0, 0, 0, 0, 0, 0, 0, 0, 0, 0, 0, 0, 0, 0, 0, 0, 0, 0, 0, 0, 1, 0, 0, 0, 0, 0, 0, 0, 0, 0, 0, 0, 0, 0, 0, 0, 0, 0, 0, 0, 0, 0, 0, 0, 0, 0, 0, 0, 0, 0, 0, 0, 0, 0, 0, 0, 0, 0, 0, 0, 0, 0, 0, 0, 0, 0, 0, 0, 0, 0, 0, 0, 0, 0, 0, 0, 0, 0, 0, 0, 0, 0, 0, 0, 0, 0, 0, 0, 0, 0, 0, 0, 0, 0, 0, 0, 0, 0, 0, 0, 0, 0, 0, 0, 0, 0, 0, 0, 0, 0, 0, 0, 0, 0, 0, 0, 0, 0, 0, 0, 0, 0, 0, 0, 0, 0, 0, 0, 0, 0, 0, 0, 0, 0, 0, 0, 0, 0, 0, 0, 0, 0, 0, 0, 0, 0, 0, 0, 0, 0, 0, 0, 0, 0, 0, 0, 0, 0, 0, 0, 0, 0, 0, 0, 0, 0, 0, 0, 0, 0, 0, 0, 0, 0, 0, 0, 0, 0, 0, 0, 0, 0, 0, 0, 0, 0, 0, 0, 0, 0, 0, 0, 0, 0, 0, 0, 0, 0, 0, 0, 0, 0, 0, 0, 0, 0, 0, 0, 0, 0, 0, 0, 0, 0, 0, 0, 0, 0, 0, 0, 0, 0, 0, 0, 0, 0, 0, 0, 0, 0, 0, 0, 0, 0, 0, 0, 0, 0, 0, 0, 0, 0, 0, 0, 0, 0, 0, 0, 0, 0, 0, 0, 0, 0, 0, 0, 0, 0, 0, 0, 0, 0, 0, 0, 0, 0, 0, 0, 0, 0, 0, 0, 0, 0, 0, 0, 0, 0, 0, 0, 0, 0, 0, 0, 0, 0, 0, 0, 0, 0, 0, 0, 0, 0, 0, 0, 0, 0, 0, 0, 0, 0, 0, 0, 0, 0, 0, 0, 0, 0, 0, 0, 0, 0, 0, 0, 0, 0, 0, 0, 0, 0, 0, 0, 0, 0, 0, 0, 0, 0, 0, 0, 0, 0, 0, 0, 0, 0, 0, 0, 0, 0, 0, 0, 0, 0, 0, 0, 0, 0, 0, 0, 0, 0, 0, 0, 0, 0, 0, 0, 0, 0, 0, 0, 0, 0, 0, 0, 0, 0, 0, 0, 0, 0, 0, 0, 0, 0, 0, 0, 0, 0, 0, 0, 0, 0, 0, 0, 0, 0, 0, 0, 0, 0, 0, 0, 0, 0, 0, 0, 1, 0, 0, 0, 0, 0, 0, 0, 0, 0, 0, 0, 0, 0, 0, 0, 0, 0, 0, 0, 0, 0, 0, 0, 0, 0, 0, 0, 0, 0, 0, 0, 0, 0, 0, 0, 0, 0, 0, 0, 0, 0, 0, 0, 0, 0, 0, 0, 0, 0, 0, 0, 0, 0, 0, 0, 0, 0, 0, 0, 0, 0, 0, 0, 0, 0, 0, 0, 0, 0, 0, 0, 0, 0, 0, 0, 0, 0, 0, 0, 0, 0, 0, 0, 0, 0, 0, 0, 0, 0, 0, 0, 0, 0, 0, 0, 0, 0, 0, 0, 0, 0, 0, 0, 0, 0, 0, 0, 0, 0, 0, 0, 0, 0, 0, 0, 0, 0, 0, 0, 0, 0, 0, 0, 0, 0, 0, 0, 0, 0, 0, 0, 0, 0, 0, 0, 0, 0, 0, 0, 0, 0, 0, 0, 0, 0, 0, 0, 0, 0, 0, 0, 0, 0, 0, 0, 0, 0, 0, 0, 0, 0, 0, 0, 0, 0, 0, 0, 0, 0, 0, 0, 0, 0, 0, 0, 0, 0, 0, 0, 0, 0, 0, 0, 0, 0, 0, 0, 0, 0, 0, 0, 0, 0, 0, 0, 0, 0, 0, 0, 0, 0, 0, 0, 0, 0, 0, 0, 0, 0, 0, 0, 0, 0, 0, 0, 0, 0, 0, 0, 0, 0, 0, 0, 0, 0, 0, 0, 0, 0, 0, 0, 0, 0, 0, 0, 0, 0, 0, 0, 0, 0, 0, 0, 0, 0, 0, 0, 0, 0, 0, 0, 0, 0, 1, 0, 0, 0, 0, 0, 0, 0, 0, 0, 0, 0, 0, 0, 0, 0, 0, 0, 0, 0, 0, 0, 0, 0, 0, 0, 0, 0, 0, 0, 0, 0, 0, 0, 0, 0, 0, 0, 0, 0, 0, 0, 0, 0, 0, 0, 0, 0, 0, 0, 0, 0, 0, 0, 0, 0, 0, 0, 0, 0, 0, 0, 0, 0, 0, 0, 0, 0, 0, 0, 0, 0, 0, 0, 0, 0, 0, 0, 0, 0, 0, 0, 0, 0, 0, 0, 0, 1, 0, 0, 0, 0, 0, 0, 0, 0, 0, 0, 0, 0, 0, 0, 0, 0, 0, 0, 0, 0, 0, 0, 0, 0, 0, 0, 0, 0, 0, 0, 0, 0, 0, 0, 0, 0, 0, 0, 0, 0, 0, 0, 0, 0, 0, 0, 0, 0, 0, 0, 0, 0, 0, 0, 0, 0, 0, 0, 0, 0, 0, 0, 0, 0, 0, 0, 0, 0, 0, 0, 0, 0, 0, 0, 0, 0, 0, 0, 0, 0, 0, 0, 0, 0, 0, 0, 0, 0, 0, 0, 0, 0, 0, 0, 0, 0, 0, 0, 0, 0, 0, 0, 0, 0, 0, 0, 0, 0, 0, 0, 0, 0, 0, 0, 0, 0, 0, 0, 0, 0, 0, 0, 0, 0, 0, 0, 0, 0, 0, 0, 0, 0, 0, 0, 0, 0, 0, 0, 0, 0, 0, 0, 0, 0, 0, 0, 0, 0, 0, 0, 0, 0, 0, 0, 0, 0, 0, 0, 0, 0, 0, 0, 0, 0, 0, 0, 0, 0, 0, 0, 0, 0, 0, 0, 0, 0, 0, 0, 0, 0, 0, 0, 0, 0, 0, 0, 0, 0, 0, 0, 0, 0, 0, 0, 0, 0, 0, 0, 0, 0, 0, 0, 0, 0, 0, 0, 0, 0, 0, 0, 0, 0, 0, 0, 0, 0, 0, 0, 0, 0, 0, 0, 0, 0, 0, 0, 0, 0, 0, 0, 0, 0, 0, 0, 0, 0, 0, 0, 0, 0, 0, 0, 0, 0, 0, 0, 0, 0, 0, 0, 0, 0, 1, 0, 0, 0, 0, 0, 0, 0, 0, 0, 0, 0, 0, 0, 0, 0, 0, 0, 0, 0, 0, 0, 0, 0, 0, 0, 0, 0, 0, 0, 0, 0, 0, 0, 0, 0, 0, 0, 0, 0, 0, 0, 0, 0, 0, 0, 0, 0, 0, 0, 0, 0, 0, 0, 0, 0, 1, 0, 0, 0, 0, 0, 0, 0, 0, 0, 0, 0, 0, 0, 0, 0, 0, 0, 0, 0, 0, 0, 0, 0, 0, 0, 0, 0, 0, 0, 0, 0, 0, 0, 0, 0, 0, 0, 0, 0, 0, 0, 0, 0, 0, 0, 0, 0, 0, 0, 0, 0, 0, 0, 0, 0, 0, 0, 0, 0, 0, 0, 0, 0, 0, 0, 0, 0, 0, 0, 0, 0, 0, 0, 0, 0, 0, 0, 0, 0, 0, 0, 0, 0, 0, 0, 0, 0, 0, 0, 0, 0, 0, 0, 0, 0, 0, 0, 0, 0, 0, 0, 0, 0, 0, 0, 0, 0, 0, 0, 0, 0, 0, 0, 0, 0, 0, 0, 0, 0, 0, 0, 0, 0, 0, 0, 0, 0, 0, 0, 0, 0, 0, 0, 0, 0, 0, 0, 0, 0, 0, 0, 0, 0, 0, 0, 0, 0, 0, 0, 0, 0, 0, 0, 0, 0, 0, 0, 0, 0, 0, 0, 0, 0, 0, 0, 0, 0, 0, 0, 0, 0, 0, 0, 0, 0, 0, 0, 0, 0, 0, 0, 0, 0, 0, 0, 0, 0, 0, 0, 0, 0, 0, 0, 0, 0, 0, 0, 0, 0, 0, 0, 0, 0, 0, 0, 0, 0, 0, 0, 0, 0, 0, 0, 0, 0, 0, 0, 0, 0, 0, 0, 0, 0, 0, 0, 0, 0, 0, 0, 0, 0, 0, 0, 0, 0, 0, 0, 0, 0, 0, 0, 0, 0, 0, 0, 0, 0, 0, 0, 0, 0, 0, 0, 0, 0, 0, 0, 0, 0, 0, 0, 0, 0, 0, 0, 0, 0, 0, 0, 0, 0, 0, 0, 0, 0, 0, 0, 0, 0, 0, 0, 0, 0, 0, 0, 0, 0, 0, 0, 0, 0, 0, 0, 0, 0, 0, 0, 0, 0, 0, 0, 0, 0, 0, 0, 0, 0, 0, 0, 0, 0, 0, 0, 0, 0, 0, 0, 0, 0, 0, 0, 0, 0, 0, 0, 0, 0, 0, 0, 0, 0, 0, 0, 0, 0, 0, 0, 0, 0, 0, 0, 0, 0, 0, 0, 0, 0, 0, 0, 0, 0, 0, 0, 0, 0, 0, 0, 0, 0, 0, 0, 0, 0, 0, 0, 0, 0, 0, 0, 0, 0, 0, 0, 0, 0, 0, 0, 0, 0, 0, 0, 0, 0, 0, 0, 0, 0, 0, 0, 0, 0, 0, 0, 0, 0, 0, 0, 0, 0, 0, 0, 0, 0, 0, 0, 0, 0, 0, 0, 0, 0, 0, 0, 0, 0, 0, 0, 0, 0, 0, 0, 0, 0, 0, 0, 0, 0, 0, 0, 0, 0, 0, 0, 0, 0, 0, 0, 0, 0, 0, 0, 0, 0, 0, 0, 0, 0, 0, 0, 0, 0, 0, 0, 0, 0, 0, 0, 0, 0, 0, 0, 0, 0, 0, 0, 0, 0, 0, 0, 0, 0, 0, 0, 0, 0, 0, 0, 0, 0, 0, 0, 0, 0, 0, 0, 0, 0, 0, 0, 0, 0, 0, 0, 0, 0, 0, 0, 0, 0, 0, 0, 0, 0, 0, 0, 0, 0, 0, 0, 0, 0, 0, 0, 0, 0, 0, 0, 0, 0, 0, 0, 0, 0, 0, 0, 0, 0, 0, 0, 0, 0, 0, 0, 0, 0, 0, 0, 0, 0, 0, 0, 0, 0, 0, 0, 0, 0, 0, 0, 0, 0, 0, 0, 0, 0, 0, 0, 0, 0, 0, 0, 0, 0, 0, 0, 0, 0, 0, 0, 0, 0, 0, 0, 0, 0, 0, 0, 0, 0, 0, 0, 0, 0, 0, 0, 0, 0, 0, 0, 0, 0, 0, 0, 0, 0, 0, 0, 0, 0, 0, 0, 0, 0, 0, 0, 0, 0, 0, 0, 0, 0, 0, 0, 0, 0, 0, 0, 0, 0, 0, 0, 0, 0, 0, 0, 0, 0, 0, 0, 0, 0, 0, 0, 0, 0, 0, 0, 0, 0, 0, 0, 0, 0, 0, 0, 0, 0, 0, 0, 0, 0, 0, 0, 0, 0, 0, 0, 0, 0, 0, 0, 0, 0, 0, 0, 0, 0, 0, 0, 0, 0, 0, 0, 0, 0, 0, 0, 0, 0, 0, 0, 1, 0, 0, 0, 0, 0, 0, 0, 0, 0, 0, 0, 0, 0, 0, 0, 0, 0, 0, 0, 0, 0, 0, 0, 0, 0, 0, 0, 0, 0, 0, 0, 0, 0, 0, 0, 0, 0, 0, 0, 0, 0, 0, 0, 0, 0, 0, 0, 0, 0, 0, 0, 0, 0, 0, 0, 0, 0, 0, 0, 0, 0, 0, 0, 0, 0, 0, 0, 0, 0, 0, 0, 0, 0, 0, 1, 0, 0, 0, 0, 0, 0, 0, 0, 0, 0, 0, 0, 0, 0, 0, 0, 0, 0, 0, 0, 1, 0, 0, 1, 0, 0, 0, 0, 0, 0, 0, 0, 0, 0, 0, 0, 0, 0, 0, 0, 0, 0, 0, 0, 0, 0, 0, 0, 0, 0, 0, 0, 0, 0, 0, 0, 0, 0, 0, 0, 0, 0, 0, 0, 0, 0, 0, 0, 0, 0, 0, 0, 0, 0, 0, 0, 0, 0, 0, 0, 0, 0, 0, 0, 0, 0, 0, 0, 0, 0, 0, 0, 0, 0, 0, 0, 0, 0, 0, 0, 0, 0, 0, 0, 0, 0, 0, 0, 0, 0, 0, 0, 0, 0, 0, 0, 0, 0, 0, 0, 0, 0, 0, 0, 0, 0, 0, 0, 0, 0, 0, 0, 0, 0, 0, 0, 0, 0, 0, 0, 0, 0, 0, 0, 0, 0, 0, 0, 0, 0, 0, 0, 0, 0, 0, 0, 0, 0, 0, 0, 0, 0, 0, 0, 0, 0, 0, 0, 0, 0, 0, 0, 0, 0, 0, 0, 0, 0, 0, 0, 0, 0, 0, 0, 0, 0, 0, 0, 0, 0, 0, 0, 0, 0, 0, 0, 0, 0, 0, 0, 0, 0, 0, 0, 0, 0, 0, 0, 0, 0, 0, 0, 0, 0, 0, 0, 0, 0, 0, 0, 0, 0, 0, 0, 0, 0, 0, 0, 0, 0, 0, 0, 0, 0, 0, 0, 0, 0, 0, 0, 0, 0, 0, 0, 0, 0, 0, 0, 0, 0, 0, 0, 0, 0, 0, 0, 0, 0, 0, 0, 0, 0, 0, 0, 0, 0, 0, 0, 0, 0, 0, 0, 0, 0, 0, 0, 0, 0, 0, 0, 0, 0, 0, 0, 0, 0, 0, 0, 0, 0, 0, 0, 0, 0, 0, 0, 0, 0, 0, 0, 0, 0, 0, 0, 0, 0, 0, 0, 0, 0, 0, 0, 0, 0, 0, 0, 0, 0, 0, 0, 0, 0, 0, 0, 0, 0, 0, 0, 0, 0, 0, 0, 0, 0, 0, 0, 0, 0, 0, 0, 0, 0, 0, 0, 0, 0, 0, 0, 0, 0, 0, 0, 0, 0, 0, 0, 0, 0, 0, 0, 0, 0, 0, 0, 0, 0, 0, 0, 0, 0, 0, 0, 0, 0, 0, 0, 0, 0, 0, 0, 0, 0, 0, 0, 0, 0, 0, 0, 0, 0, 0, 0, 0, 0, 0, 0, 0, 0, 0, 0, 0, 0, 0, 0, 0, 0, 0, 0, 0, 0, 0, 0, 0, 0, 0, 0, 0, 0, 0, 0, 0, 0, 0, 0, 0, 0, 0, 0, 0, 0, 0, 0, 0, 0, 0, 0, 0, 0, 0, 0, 0, 0, 0, 0, 0, 0, 0, 0, 0, 0, 0, 0, 0, 0, 0, 0, 0, 0, 0, 0, 0, 0, 0, 0, 0, 0, 0, 0, 0, 0, 0, 0, 0, 0, 0, 0, 0, 0, 0, 0, 0, 0, 0, 0, 0, 0, 0, 0, 0, 0, 1, 0, 0, 0, 0, 0, 0, 0, 0, 0, 0, 0, 0, 0, 0, 0, 0, 0, 0, 0, 0, 0, 0, 0, 0, 0, 0, 0, 0, 0, 0, 0, 0, 0, 0, 0, 0, 0, 0, 0, 0, 0, 0, 0, 0, 0, 0, 0, 0, 0, 0, 0, 0, 0, 0, 0, 0, 0, 0, 0, 0, 0, 0, 0, 0, 0, 0, 0, 0, 0, 0, 0, 0, 0, 0, 0, 0, 0, 0, 0, 0, 0, 0, 0, 0, 0, 0, 0, 0, 0, 0, 0, 0, 0, 0, 0, 0, 0, 0, 0, 0, 0, 0, 0, 0, 0, 0, 0, 0, 0, 0, 0, 0, 0, 0, 0, 0, 0, 0, 0, 0, 0, 0, 0, 0, 0, 0, 0, 0, 0, 0, 0, 0, 0, 0, 0, 0, 0, 0, 0, 0, 0, 0, 0, 0, 0, 0, 0, 0, 0, 0, 0, 0, 0, 0, 0, 0, 0, 0, 0, 0, 0, 0, 0, 0, 0, 0, 0, 0, 0, 0, 0, 0, 0, 0, 0, 0, 0, 0, 0, 0, 0, 0, 0, 0, 0, 0, 0, 0, 0, 0, 0, 0, 0, 0, 0, 0, 0, 0, 0, 0, 0, 0, 0, 0, 0, 0, 0, 0, 0, 0, 0, 0, 0, 0, 0, 0, 0, 0, 0, 0, 0, 0, 0, 0, 0, 0, 0, 0, 0, 0, 0, 0, 0, 0, 0, 0, 0, 0, 0, 0, 0, 0, 0, 0, 0, 0, 0, 0, 0, 0, 0, 0, 0, 0, 0, 0, 0, 0, 0, 0, 0, 0, 0, 0, 0, 0, 0, 0, 0, 0, 0, 0, 0, 0, 0, 0, 0, 0, 0, 0, 0, 0, 0, 0, 0, 0, 0, 0, 0, 0, 0, 0, 0, 0, 0, 0, 0, 0, 0, 0, 0, 0, 0, 0, 0, 0, 0, 0, 0, 0, 0, 0, 0, 0, 0, 0, 0, 0, 0, 0, 0, 0, 0, 0, 0, 0, 0, 0, 0, 0, 0, 0, 0, 0, 0, 0, 0, 0, 0, 0, 0, 0, 0, 0, 0, 0, 0, 0, 0, 0, 0, 0, 0, 0, 0, 0, 0, 0, 0, 0, 0, 0, 0, 0, 0, 0, 0, 0, 0, 0, 0, 0, 0, 0, 0, 0, 0, 0, 0, 0, 0, 0, 0, 0, 0, 0, 0, 0, 0, 0, 0, 0, 0, 0, 0, 0, 0, 0, 0, 0, 0, 0, 0, 0, 0, 0, 0, 0, 0, 0, 0, 0, 0, 0, 0, 0, 0, 0, 0, 0, 0, 0, 0, 0, 0, 0, 0, 0, 0, 0, 0, 0, 0, 0, 0, 0, 0, 0, 0, 0, 0, 0, 0, 0, 0, 0, 0, 0, 0, 0, 0, 0, 0, 0, 0, 0, 0, 0, 0, 0, 0, 0, 0, 0, 0, 0, 0, 0, 0, 0, 0, 0, 0, 0, 0, 0, 0, 0, 0, 0, 0, 0, 0, 0, 0, 0, 0, 0, 0, 0, 0, 0, 0, 0, 0, 0, 0, 0, 0, 0, 0, 0, 0, 0, 0, 0, 0, 0, 0, 0, 0, 0, 1, 0, 0, 0, 0, 0, 0, 0, 0, 0, 0, 0, 0, 0, 0, 0, 0, 0, 0, 0, 0, 0, 0, 0, 0, 0, 0, 0, 0, 0, 0, 0, 0, 0, 0, 0, 2, 0, 0, 0, 0, 0, 0, 0, 0, 0, 0, 0, 0, 0, 0, 0, 0, 0, 0, 0, 0, 0, 0, 0, 0, 0, 0, 0, 0, 0, 0, 0, 0, 0, 0, 0, 0, 0, 0, 0, 0, 1, 0, 0, 0, 0, 0, 0, 0, 0, 0, 0, 0, 0, 0, 0, 0, 0, 0, 0, 0, 0, 0, 0, 0, 0, 0, 0, 0, 0, 0, 0, 0, 0, 0, 0, 0, 0, 0, 0, 0, 0, 0, 0, 0, 0, 0, 0, 0, 0, 0, 0, 0, 0, 0, 0, 0, 0, 0, 0, 0, 0, 0, 0, 0, 0, 0, 0, 0, 0, 0, 0, 0, 0, 0, 0, 0, 0, 0, 0, 0, 0, 0, 0, 0, 0, 0, 0, 0, 0, 0, 0, 0, 0, 0, 0, 0, 0, 0, 0, 0, 0, 0, 0, 0, 0, 0, 0, 0, 0, 0, 0, 0, 0, 0, 0, 0, 0, 0, 0, 0, 0, 0, 0, 0, 0, 0, 0, 0, 0, 0, 0, 0, 0, 0, 0, 0, 0, 0, 0, 0, 0, 0, 0, 0, 0, 0, 0, 0, 0, 0, 0, 0, 0, 0, 0, 0, 0, 0, 0, 0, 0, 0, 0, 0, 0, 0, 0, 0, 0, 0, 0, 0, 0, 0, 0, 0, 0, 0, 0, 0, 0, 0, 0, 0, 0, 0, 0, 0, 0, 0, 0, 0, 0, 0, 0, 0, 0, 0, 0, 0, 0, 0, 0, 0, 0, 0, 0, 0, 0, 0, 0, 0, 0, 0, 0, 0, 0, 0, 0, 0, 0, 0, 0, 0, 0, 0, 0, 0, 0, 0, 0, 0, 0, 0, 0, 0, 0, 0, 0, 0, 0, 0, 0, 0, 0, 0, 0, 0, 0, 0, 0, 0, 0, 0, 0, 0, 0, 0, 0, 0, 0, 0, 0, 0, 0, 0, 0, 0, 0, 0, 0, 0, 0, 0, 0, 0, 0, 0, 0, 0, 0, 0, 0, 0, 0, 0, 0, 0, 0, 0, 0, 0, 0, 0, 0, 0, 0, 0, 0, 0, 0, 0, 0, 0, 0, 0, 0, 0, 0, 0, 0, 0, 0, 0, 0, 0, 0, 0, 0, 0, 0, 0, 0, 0, 0, 0, 0, 0, 0, 0, 0, 0, 0, 0, 0, 0, 0, 0, 0, 0, 0, 0, 0, 0, 0, 0, 0, 0, 0, 0, 0, 0, 0, 0, 0, 0, 0, 0, 0, 0, 0, 0, 0, 0, 0, 0, 0, 0, 0, 0, 0, 0, 0, 0, 0, 0, 0, 0, 0, 0, 0, 0, 0, 0, 0, 0, 0, 0, 0, 0, 0, 0, 0, 0, 0, 0, 0, 0, 0, 0, 0, 0, 0, 0, 0, 0, 0, 0, 0, 0, 0, 0, 0, 0, 0, 0, 0, 0, 0, 0, 0, 0, 0, 0, 0, 0, 0, 0, 0, 0, 0, 0, 0, 0, 0, 0, 0, 0, 0, 0, 0, 0, 0, 0, 0, 0, 0, 0, 0, 0, 0, 0, 0, 0, 0, 0, 0, 0, 0, 0, 0, 0, 0, 0, 0, 0, 0, 0, 0, 0, 0, 0, 0, 0, 0, 0, 0, 0, 0, 0, 0, 0, 0, 0, 0, 0, 0, 0, 0, 0, 0, 0, 0, 0, 0, 0, 0, 0, 1, 0, 0, 0, 0, 0, 0, 0, 0, 0, 0, 0, 0, 0, 0, 0, 0, 0, 0, 0, 0, 0, 0, 0, 0, 0, 0, 0, 0, 0, 0, 0, 0, 0, 0, 0, 0, 0, 0, 0, 0, 0, 0, 0, 0, 0, 0, 0, 0, 0, 0, 0, 0, 0, 0, 0, 0, 0, 0, 0, 0, 0, 0, 0, 0, 0, 0, 0, 0, 0, 0, 0, 0, 0, 0, 0, 0, 0, 0, 0, 0, 0, 0, 0, 0, 0, 0, 0, 0, 0, 0, 0, 0, 0, 0, 0, 0, 0, 0, 0, 0, 0, 0, 0, 0, 0, 0, 0, 0, 0, 0, 2, 0, 0, 0, 0, 0, 0, 0, 0, 0, 0, 0, 0, 0, 0, 0, 0, 0, 0, 0, 0, 0, 0, 0, 0, 0, 0, 0, 0, 0, 0, 0, 0, 0, 0, 0, 0, 0, 0, 0, 0, 0, 0, 0, 0, 0, 0, 0, 0, 0, 0, 0, 0, 0, 0, 0, 0, 0, 0, 0, 0, 0, 0, 0, 0, 0, 0, 0, 0, 0, 0, 0, 0, 0, 0, 0, 0, 0, 0, 0, 0, 0, 0, 0, 0, 0, 0, 0, 0, 0, 0, 0, 0, 0, 0, 0, 0, 0, 0, 0, 0, 0, 0, 0, 0, 0, 0, 0, 0, 0, 0, 0, 0, 0, 0, 0, 0, 0, 0, 0, 0, 0, 0, 0, 0, 0, 0, 0, 0, 0, 0, 0, 0, 0, 0, 0, 0, 0, 0, 0, 0, 0, 0, 0, 0, 0, 0, 0, 0, 0, 0, 0, 0, 0, 0, 0, 0, 0, 0, 0, 0, 0, 0, 0, 0, 0, 0, 0, 0, 0, 0, 0, 0, 0, 0, 0, 0, 0, 0, 0, 0, 0, 0, 0, 0, 0, 0, 0, 0, 0, 0, 0, 0, 0, 0, 0, 0, 0, 0, 0, 0, 0, 0, 0, 0, 0, 0, 0, 0, 0, 0, 0, 0, 0, 0, 0, 0, 0, 0, 0, 0, 0, 0, 0, 0, 0, 0, 0, 0, 0, 0, 0, 0, 0, 0, 0, 0, 0, 0, 0, 0, 0, 0, 0, 0, 0, 0, 0, 0, 0, 0, 0, 0, 0, 0, 0, 0, 0, 0, 0, 0, 0, 0, 0, 0, 0, 0, 0, 0, 0, 0, 0, 0, 0, 0, 0, 0, 0, 0, 0, 0, 0, 0, 0, 0, 0, 0, 0, 0, 0, 0, 0, 0, 0, 0, 0, 0, 0, 0, 0, 0, 0, 0, 0, 0, 0, 0, 0, 0, 0, 0, 0, 0, 0, 0, 0, 0, 0, 0, 0, 0, 0, 0, 0, 0, 0, 0, 0, 0, 0, 0, 0, 0, 0, 0, 0, 0, 0, 0, 0, 0, 0, 0, 0, 0, 0, 0, 0, 0, 0, 0, 0, 0, 0, 0, 0, 0, 0, 0, 0, 0, 0, 0, 0, 0, 0, 0, 0, 0, 0, 0, 0, 0, 0, 0, 0, 0, 0, 0, 0, 0, 0, 0, 0, 0, 0, 0, 0, 0, 0, 0, 0, 0, 0, 0, 0, 0, 0, 0, 0, 0, 0, 0, 0, 0, 0, 0, 0, 0, 0, 0, 0, 0, 0, 0, 0, 0, 0, 0, 0, 0, 0, 0, 0, 0, 0, 0, 0, 0, 0, 0, 0, 0, 0, 0, 0, 0, 0, 0, 0, 0, 0, 0, 0, 0, 0, 0, 0, 0, 0, 0, 0, 0, 0, 0, 0, 0, 0, 0, 0, 0, 0, 0, 0, 0, 0, 0, 0, 0, 0, 0, 0, 0, 0, 0, 0, 0, 0, 0, 0, 0, 0, 0, 0, 0, 0, 0, 0, 0, 0, 0, 0, 0, 0, 0, 0, 0, 0, 0, 0, 0, 0, 0, 0, 0, 0, 0, 0, 0, 0, 0, 0, 0, 0, 0, 0, 0, 0, 0, 0, 0, 0, 0, 0, 0, 0, 0, 0, 0, 0, 0, 0, 0, 0, 0, 0, 0, 0, 0, 0, 0, 0, 0, 0, 0, 0, 0, 0, 0, 0, 0, 0, 0, 0, 0, 0, 0, 0, 0, 0, 0, 0, 0, 0, 0, 0, 0, 0, 0, 0, 0, 0, 0, 0, 0, 0, 0, 0, 0, 0, 0, 0, 0, 0, 0, 0, 0, 0, 0, 0, 0, 0, 0, 0, 0, 0, 0, 0, 0, 0, 0, 0, 0, 0, 0, 0, 0, 0, 0, 0, 0, 0, 0, 0, 0, 0, 0, 0, 0, 0, 0, 0, 0, 0, 0, 0, 0, 0, 0, 0, 0, 0, 0, 0, 0, 0, 0, 0, 0, 0, 0, 0, 0, 0, 0, 0, 0, 0, 0, 0, 0, 0, 0, 0, 0, 0, 0, 0, 0, 0, 0, 0, 0, 0, 0, 0, 0, 0, 0, 0, 0, 0, 0, 0, 0, 0, 0, 0, 0, 0, 0, 0, 0, 0, 0, 0, 0, 0, 0, 0, 0, 1, 0, 0, 0, 0, 0, 0, 0, 0, 0, 0, 0, 0, 0, 0, 0, 0, 0, 0, 0, 0, 0, 0, 0, 0, 0, 0, 0, 0, 0, 0, 0, 0, 0, 0, 0, 0, 0, 0, 0, 0, 0, 0, 0, 0, 0, 0, 0, 0, 0, 0, 0, 0, 0, 0, 0, 0, 0, 0, 0, 0, 0, 0, 0, 0, 0, 0, 0, 0, 0, 0, 0, 0, 0, 0, 0, 0, 0, 0, 0, 0, 0, 0, 0, 0, 0, 0, 0, 0, 0, 0, 0, 0, 0, 0, 0, 0, 0, 0, 0, 0, 0, 0, 0, 0, 0, 0, 0, 1, 0, 0, 0, 0, 0, 0, 0, 0, 0, 0, 0, 0, 0, 0, 0, 0, 0, 0, 0, 0, 0, 0, 0, 0, 0, 0, 0, 0, 0, 0, 0, 0, 0, 0, 0, 0, 0, 0, 0, 0, 0, 0, 0, 0, 0, 0, 0, 0, 0, 0, 0, 0, 0, 0, 0, 0, 0, 0, 0, 0, 0, 0, 0, 0, 0, 0, 0, 0, 0, 0, 0, 0, 0, 0, 0, 0, 0, 0, 0, 0, 0, 0, 0, 0, 0, 0, 0, 0, 0, 0, 0, 0, 0, 0, 0, 0, 0, 0, 0, 0, 0, 0, 0, 0, 0, 0, 0, 0, 0, 0, 0, 0, 0, 0, 0, 0, 0, 0, 0, 0, 0, 0, 0, 0, 0, 0, 0, 0, 0, 0, 0, 0, 0, 0, 0, 0, 0, 0, 0, 0, 0, 0, 0, 0, 0, 0, 0, 0, 0, 0, 0, 0, 0, 0, 0, 0, 0, 0, 0, 0, 0, 0, 0, 0, 0, 0, 0, 0, 0, 0, 0, 0, 0, 0, 0, 0, 0, 0, 0, 0, 0, 0, 0, 0, 0, 0, 0, 0, 0, 0, 0, 0, 0, 0, 0, 0, 0, 0, 0, 0, 0, 0, 0, 0, 0, 0, 0, 0, 0, 0, 0, 0, 0, 0, 0, 0, 0, 0, 0, 0, 0, 0, 0, 0, 0, 0, 0, 0, 0, 0, 0, 0, 0, 0, 0, 0, 0, 0, 0, 0, 0, 0, 0, 0, 0, 0, 0, 0, 0, 0, 0, 0, 0, 0, 0, 0, 0, 0, 0, 0, 0, 0, 0, 0, 0, 0, 0, 0, 0, 0, 0, 0, 0, 0, 0, 0, 0, 0, 0, 0, 0, 0, 0, 0, 0, 0, 0, 0, 0, 0, 0, 0, 0, 0, 0, 0, 0, 0, 0, 0, 0, 0, 0, 0, 0, 0, 0, 0, 0, 0, 0, 0, 0, 0, 0, 0, 0, 0, 0, 0, 0, 0, 0, 0, 0, 0, 0, 0, 0, 0, 0, 0, 0, 0, 0, 0, 0, 0, 0, 0, 0, 0, 0, 0, 0, 0, 0, 0, 0, 0, 0, 0, 0, 0, 0, 0, 0, 0, 0, 0, 0, 0, 0, 0, 0, 0, 0, 0, 0, 0, 0, 0, 0, 0, 0, 0, 0, 0, 0, 0, 0, 0, 0, 0, 0, 0, 0, 0, 0, 0, 0, 0, 0, 0, 0, 0, 0, 0, 0, 0, 0, 0, 0, 0, 0, 0, 0, 0, 0, 0, 0, 0, 0, 0, 0, 0, 0, 0, 0, 0, 0, 0, 0, 0, 0, 0, 0, 0, 0, 0, 0, 0, 0, 0, 0, 0, 0, 0, 0, 0, 0, 0, 0, 0, 0, 0, 0, 0, 0, 0, 0, 0, 0, 0, 0, 0, 0, 0, 0, 0, 0, 0, 0, 2, 0, 1, 0], type: <class 'list'>, valid types: <class 'bytes'>, <class 'bytearray'>, file-like object",
     "output_type": "error",
     "traceback": [
      "\u001b[0;31m---------------------------------------------------------------------------\u001b[0m",
      "\u001b[0;31mParamValidationError\u001b[0m                      Traceback (most recent call last)",
      "\u001b[0;32m<ipython-input-67-c9ab54ae3a48>\u001b[0m in \u001b[0;36m<module>\u001b[0;34m\u001b[0m\n\u001b[1;32m      1\u001b[0m response = runtime.invoke_endpoint(EndpointName = xgb_predictor.endpoint, # The name of the endpoint we created\n\u001b[1;32m      2\u001b[0m                                        \u001b[0mContentType\u001b[0m \u001b[0;34m=\u001b[0m \u001b[0;34m'text/csv'\u001b[0m\u001b[0;34m,\u001b[0m                     \u001b[0;31m# The data format that is expected\u001b[0m\u001b[0;34m\u001b[0m\u001b[0;34m\u001b[0m\u001b[0m\n\u001b[0;32m----> 3\u001b[0;31m                                        Body = test_bow)\n\u001b[0m",
      "\u001b[0;32m~/anaconda3/envs/python3/lib/python3.6/site-packages/botocore/client.py\u001b[0m in \u001b[0;36m_api_call\u001b[0;34m(self, *args, **kwargs)\u001b[0m\n\u001b[1;32m    384\u001b[0m                     \"%s() only accepts keyword arguments.\" % py_operation_name)\n\u001b[1;32m    385\u001b[0m             \u001b[0;31m# The \"self\" in this scope is referring to the BaseClient.\u001b[0m\u001b[0;34m\u001b[0m\u001b[0;34m\u001b[0m\u001b[0;34m\u001b[0m\u001b[0m\n\u001b[0;32m--> 386\u001b[0;31m             \u001b[0;32mreturn\u001b[0m \u001b[0mself\u001b[0m\u001b[0;34m.\u001b[0m\u001b[0m_make_api_call\u001b[0m\u001b[0;34m(\u001b[0m\u001b[0moperation_name\u001b[0m\u001b[0;34m,\u001b[0m \u001b[0mkwargs\u001b[0m\u001b[0;34m)\u001b[0m\u001b[0;34m\u001b[0m\u001b[0;34m\u001b[0m\u001b[0m\n\u001b[0m\u001b[1;32m    387\u001b[0m \u001b[0;34m\u001b[0m\u001b[0m\n\u001b[1;32m    388\u001b[0m         \u001b[0m_api_call\u001b[0m\u001b[0;34m.\u001b[0m\u001b[0m__name__\u001b[0m \u001b[0;34m=\u001b[0m \u001b[0mstr\u001b[0m\u001b[0;34m(\u001b[0m\u001b[0mpy_operation_name\u001b[0m\u001b[0;34m)\u001b[0m\u001b[0;34m\u001b[0m\u001b[0;34m\u001b[0m\u001b[0m\n",
      "\u001b[0;32m~/anaconda3/envs/python3/lib/python3.6/site-packages/botocore/client.py\u001b[0m in \u001b[0;36m_make_api_call\u001b[0;34m(self, operation_name, api_params)\u001b[0m\n\u001b[1;32m    676\u001b[0m         }\n\u001b[1;32m    677\u001b[0m         request_dict = self._convert_to_request_dict(\n\u001b[0;32m--> 678\u001b[0;31m             api_params, operation_model, context=request_context)\n\u001b[0m\u001b[1;32m    679\u001b[0m \u001b[0;34m\u001b[0m\u001b[0m\n\u001b[1;32m    680\u001b[0m         \u001b[0mservice_id\u001b[0m \u001b[0;34m=\u001b[0m \u001b[0mself\u001b[0m\u001b[0;34m.\u001b[0m\u001b[0m_service_model\u001b[0m\u001b[0;34m.\u001b[0m\u001b[0mservice_id\u001b[0m\u001b[0;34m.\u001b[0m\u001b[0mhyphenize\u001b[0m\u001b[0;34m(\u001b[0m\u001b[0;34m)\u001b[0m\u001b[0;34m\u001b[0m\u001b[0;34m\u001b[0m\u001b[0m\n",
      "\u001b[0;32m~/anaconda3/envs/python3/lib/python3.6/site-packages/botocore/client.py\u001b[0m in \u001b[0;36m_convert_to_request_dict\u001b[0;34m(self, api_params, operation_model, context)\u001b[0m\n\u001b[1;32m    724\u001b[0m             api_params, operation_model, context)\n\u001b[1;32m    725\u001b[0m         request_dict = self._serializer.serialize_to_request(\n\u001b[0;32m--> 726\u001b[0;31m             api_params, operation_model)\n\u001b[0m\u001b[1;32m    727\u001b[0m         \u001b[0;32mif\u001b[0m \u001b[0;32mnot\u001b[0m \u001b[0mself\u001b[0m\u001b[0;34m.\u001b[0m\u001b[0m_client_config\u001b[0m\u001b[0;34m.\u001b[0m\u001b[0minject_host_prefix\u001b[0m\u001b[0;34m:\u001b[0m\u001b[0;34m\u001b[0m\u001b[0;34m\u001b[0m\u001b[0m\n\u001b[1;32m    728\u001b[0m             \u001b[0mrequest_dict\u001b[0m\u001b[0;34m.\u001b[0m\u001b[0mpop\u001b[0m\u001b[0;34m(\u001b[0m\u001b[0;34m'host_prefix'\u001b[0m\u001b[0;34m,\u001b[0m \u001b[0;32mNone\u001b[0m\u001b[0;34m)\u001b[0m\u001b[0;34m\u001b[0m\u001b[0;34m\u001b[0m\u001b[0m\n",
      "\u001b[0;32m~/anaconda3/envs/python3/lib/python3.6/site-packages/botocore/validate.py\u001b[0m in \u001b[0;36mserialize_to_request\u001b[0;34m(self, parameters, operation_model)\u001b[0m\n\u001b[1;32m    291\u001b[0m                                                     operation_model.input_shape)\n\u001b[1;32m    292\u001b[0m             \u001b[0;32mif\u001b[0m \u001b[0mreport\u001b[0m\u001b[0;34m.\u001b[0m\u001b[0mhas_errors\u001b[0m\u001b[0;34m(\u001b[0m\u001b[0;34m)\u001b[0m\u001b[0;34m:\u001b[0m\u001b[0;34m\u001b[0m\u001b[0;34m\u001b[0m\u001b[0m\n\u001b[0;32m--> 293\u001b[0;31m                 \u001b[0;32mraise\u001b[0m \u001b[0mParamValidationError\u001b[0m\u001b[0;34m(\u001b[0m\u001b[0mreport\u001b[0m\u001b[0;34m=\u001b[0m\u001b[0mreport\u001b[0m\u001b[0;34m.\u001b[0m\u001b[0mgenerate_report\u001b[0m\u001b[0;34m(\u001b[0m\u001b[0;34m)\u001b[0m\u001b[0;34m)\u001b[0m\u001b[0;34m\u001b[0m\u001b[0;34m\u001b[0m\u001b[0m\n\u001b[0m\u001b[1;32m    294\u001b[0m         return self._serializer.serialize_to_request(parameters,\n\u001b[1;32m    295\u001b[0m                                                      operation_model)\n",
      "\u001b[0;31mParamValidationError\u001b[0m: Parameter validation failed:\nInvalid type for parameter Body, value: [0, 0, 0, 0, 0, 0, 0, 0, 0, 0, 0, 0, 0, 0, 0, 0, 0, 0, 0, 0, 0, 0, 0, 0, 0, 0, 0, 0, 0, 0, 0, 0, 0, 0, 0, 0, 0, 0, 0, 0, 0, 0, 0, 0, 0, 0, 0, 0, 0, 0, 0, 0, 0, 0, 0, 0, 0, 0, 0, 0, 0, 0, 0, 0, 0, 0, 0, 0, 0, 0, 0, 0, 0, 0, 0, 0, 0, 0, 0, 0, 0, 0, 0, 0, 0, 0, 0, 0, 0, 0, 0, 0, 0, 0, 0, 0, 0, 0, 0, 0, 0, 0, 0, 0, 0, 0, 0, 0, 0, 0, 0, 0, 0, 0, 0, 0, 0, 0, 0, 0, 0, 0, 0, 0, 0, 0, 0, 0, 0, 0, 0, 0, 0, 0, 0, 0, 0, 0, 0, 0, 0, 0, 0, 0, 0, 0, 0, 0, 0, 0, 0, 0, 0, 0, 0, 0, 0, 0, 0, 0, 0, 0, 0, 0, 0, 0, 0, 0, 0, 0, 0, 0, 0, 0, 0, 0, 0, 0, 0, 0, 0, 0, 0, 0, 0, 0, 0, 0, 0, 0, 0, 0, 0, 0, 0, 0, 0, 0, 0, 0, 0, 0, 0, 0, 0, 0, 0, 0, 0, 0, 0, 0, 0, 0, 0, 0, 0, 0, 0, 0, 0, 0, 0, 0, 0, 0, 1, 0, 0, 0, 0, 0, 0, 0, 0, 0, 0, 0, 0, 0, 0, 0, 0, 0, 0, 0, 0, 0, 0, 0, 0, 0, 0, 0, 0, 0, 1, 0, 0, 0, 0, 0, 0, 0, 0, 0, 0, 0, 0, 0, 0, 0, 0, 0, 0, 0, 0, 0, 0, 0, 0, 0, 0, 0, 0, 0, 0, 0, 0, 0, 0, 0, 0, 0, 0, 0, 0, 0, 0, 0, 0, 0, 0, 0, 0, 0, 0, 0, 0, 0, 0, 0, 0, 0, 0, 0, 0, 0, 0, 0, 0, 0, 0, 0, 0, 0, 0, 0, 0, 0, 0, 0, 0, 0, 0, 0, 0, 0, 0, 0, 0, 0, 0, 0, 0, 0, 0, 0, 0, 0, 0, 0, 0, 0, 0, 0, 0, 0, 0, 0, 0, 0, 0, 0, 0, 0, 0, 0, 0, 0, 0, 0, 0, 0, 0, 0, 0, 0, 0, 0, 0, 0, 0, 0, 0, 0, 0, 0, 0, 0, 0, 0, 0, 0, 0, 0, 0, 0, 0, 0, 0, 0, 0, 0, 0, 0, 0, 0, 0, 0, 0, 0, 0, 0, 0, 0, 0, 0, 0, 0, 0, 0, 0, 0, 0, 0, 0, 0, 0, 0, 0, 0, 0, 0, 0, 0, 0, 0, 0, 0, 0, 0, 0, 0, 0, 0, 0, 0, 0, 0, 0, 0, 0, 0, 0, 0, 0, 0, 0, 0, 0, 0, 0, 0, 0, 0, 0, 0, 0, 0, 0, 0, 0, 0, 0, 0, 0, 0, 0, 0, 0, 0, 0, 0, 0, 0, 0, 0, 0, 0, 0, 0, 0, 0, 0, 0, 0, 0, 0, 0, 0, 0, 0, 0, 0, 0, 0, 0, 0, 0, 0, 0, 0, 0, 0, 0, 0, 0, 0, 0, 0, 0, 0, 0, 0, 0, 0, 0, 0, 0, 0, 0, 0, 0, 0, 0, 0, 0, 0, 0, 0, 0, 0, 0, 0, 0, 0, 0, 0, 0, 0, 0, 0, 0, 0, 0, 0, 0, 0, 0, 0, 0, 0, 0, 0, 0, 0, 0, 0, 0, 0, 0, 0, 0, 0, 0, 0, 0, 0, 0, 0, 0, 0, 0, 0, 0, 0, 0, 0, 0, 0, 0, 0, 0, 0, 0, 0, 0, 0, 0, 0, 0, 0, 0, 0, 0, 0, 0, 0, 0, 0, 0, 0, 0, 0, 0, 0, 0, 0, 0, 0, 0, 0, 0, 0, 0, 0, 0, 0, 0, 0, 0, 0, 0, 0, 0, 1, 0, 0, 0, 0, 0, 0, 0, 0, 0, 0, 0, 0, 0, 0, 0, 0, 0, 0, 0, 0, 0, 0, 0, 0, 0, 0, 0, 0, 0, 0, 0, 0, 0, 0, 0, 0, 0, 0, 0, 0, 0, 0, 0, 0, 0, 0, 0, 0, 0, 0, 0, 0, 0, 0, 0, 0, 0, 0, 0, 0, 0, 0, 0, 0, 0, 0, 0, 0, 0, 0, 0, 0, 0, 0, 0, 0, 0, 0, 0, 0, 0, 0, 0, 0, 0, 0, 0, 0, 0, 0, 0, 0, 0, 0, 0, 0, 0, 0, 0, 0, 0, 0, 0, 0, 0, 0, 0, 0, 0, 0, 0, 0, 0, 0, 0, 0, 0, 0, 0, 0, 0, 0, 0, 0, 0, 0, 0, 0, 0, 0, 0, 0, 0, 0, 0, 0, 0, 0, 0, 0, 0, 0, 0, 0, 0, 0, 0, 0, 0, 0, 0, 0, 0, 0, 0, 0, 0, 0, 0, 0, 0, 0, 0, 0, 0, 0, 0, 0, 0, 0, 0, 0, 0, 0, 0, 0, 0, 0, 0, 0, 0, 0, 0, 0, 0, 0, 0, 0, 0, 0, 0, 0, 0, 0, 0, 0, 0, 0, 0, 0, 0, 0, 0, 0, 0, 0, 0, 0, 0, 0, 0, 0, 0, 0, 0, 0, 0, 0, 0, 0, 0, 0, 0, 0, 0, 0, 0, 0, 0, 0, 0, 0, 0, 0, 0, 0, 0, 0, 0, 0, 0, 0, 0, 0, 0, 0, 0, 0, 0, 0, 0, 0, 0, 1, 0, 0, 0, 0, 0, 0, 0, 0, 0, 0, 0, 0, 0, 0, 0, 0, 0, 0, 0, 0, 0, 0, 0, 0, 0, 0, 0, 0, 0, 0, 0, 0, 0, 0, 0, 0, 0, 0, 0, 0, 0, 0, 0, 0, 0, 0, 0, 0, 0, 0, 0, 0, 0, 0, 0, 0, 0, 0, 0, 0, 0, 0, 0, 0, 0, 0, 0, 0, 0, 0, 0, 0, 0, 0, 0, 0, 0, 0, 0, 0, 0, 0, 0, 0, 0, 0, 1, 0, 0, 0, 0, 0, 0, 0, 0, 0, 0, 0, 0, 0, 0, 0, 0, 0, 0, 0, 0, 0, 0, 0, 0, 0, 0, 0, 0, 0, 0, 0, 0, 0, 0, 0, 0, 0, 0, 0, 0, 0, 0, 0, 0, 0, 0, 0, 0, 0, 0, 0, 0, 0, 0, 0, 0, 0, 0, 0, 0, 0, 0, 0, 0, 0, 0, 0, 0, 0, 0, 0, 0, 0, 0, 0, 0, 0, 0, 0, 0, 0, 0, 0, 0, 0, 0, 0, 0, 0, 0, 0, 0, 0, 0, 0, 0, 0, 0, 0, 0, 0, 0, 0, 0, 0, 0, 0, 0, 0, 0, 0, 0, 0, 0, 0, 0, 0, 0, 0, 0, 0, 0, 0, 0, 0, 0, 0, 0, 0, 0, 0, 0, 0, 0, 0, 0, 0, 0, 0, 0, 0, 0, 0, 0, 0, 0, 0, 0, 0, 0, 0, 0, 0, 0, 0, 0, 0, 0, 0, 0, 0, 0, 0, 0, 0, 0, 0, 0, 0, 0, 0, 0, 0, 0, 0, 0, 0, 0, 0, 0, 0, 0, 0, 0, 0, 0, 0, 0, 0, 0, 0, 0, 0, 0, 0, 0, 0, 0, 0, 0, 0, 0, 0, 0, 0, 0, 0, 0, 0, 0, 0, 0, 0, 0, 0, 0, 0, 0, 0, 0, 0, 0, 0, 0, 0, 0, 0, 0, 0, 0, 0, 0, 0, 0, 0, 0, 0, 0, 0, 0, 0, 0, 0, 0, 0, 0, 0, 0, 0, 0, 0, 0, 1, 0, 0, 0, 0, 0, 0, 0, 0, 0, 0, 0, 0, 0, 0, 0, 0, 0, 0, 0, 0, 0, 0, 0, 0, 0, 0, 0, 0, 0, 0, 0, 0, 0, 0, 0, 0, 0, 0, 0, 0, 0, 0, 0, 0, 0, 0, 0, 0, 0, 0, 0, 0, 0, 0, 0, 1, 0, 0, 0, 0, 0, 0, 0, 0, 0, 0, 0, 0, 0, 0, 0, 0, 0, 0, 0, 0, 0, 0, 0, 0, 0, 0, 0, 0, 0, 0, 0, 0, 0, 0, 0, 0, 0, 0, 0, 0, 0, 0, 0, 0, 0, 0, 0, 0, 0, 0, 0, 0, 0, 0, 0, 0, 0, 0, 0, 0, 0, 0, 0, 0, 0, 0, 0, 0, 0, 0, 0, 0, 0, 0, 0, 0, 0, 0, 0, 0, 0, 0, 0, 0, 0, 0, 0, 0, 0, 0, 0, 0, 0, 0, 0, 0, 0, 0, 0, 0, 0, 0, 0, 0, 0, 0, 0, 0, 0, 0, 0, 0, 0, 0, 0, 0, 0, 0, 0, 0, 0, 0, 0, 0, 0, 0, 0, 0, 0, 0, 0, 0, 0, 0, 0, 0, 0, 0, 0, 0, 0, 0, 0, 0, 0, 0, 0, 0, 0, 0, 0, 0, 0, 0, 0, 0, 0, 0, 0, 0, 0, 0, 0, 0, 0, 0, 0, 0, 0, 0, 0, 0, 0, 0, 0, 0, 0, 0, 0, 0, 0, 0, 0, 0, 0, 0, 0, 0, 0, 0, 0, 0, 0, 0, 0, 0, 0, 0, 0, 0, 0, 0, 0, 0, 0, 0, 0, 0, 0, 0, 0, 0, 0, 0, 0, 0, 0, 0, 0, 0, 0, 0, 0, 0, 0, 0, 0, 0, 0, 0, 0, 0, 0, 0, 0, 0, 0, 0, 0, 0, 0, 0, 0, 0, 0, 0, 0, 0, 0, 0, 0, 0, 0, 0, 0, 0, 0, 0, 0, 0, 0, 0, 0, 0, 0, 0, 0, 0, 0, 0, 0, 0, 0, 0, 0, 0, 0, 0, 0, 0, 0, 0, 0, 0, 0, 0, 0, 0, 0, 0, 0, 0, 0, 0, 0, 0, 0, 0, 0, 0, 0, 0, 0, 0, 0, 0, 0, 0, 0, 0, 0, 0, 0, 0, 0, 0, 0, 0, 0, 0, 0, 0, 0, 0, 0, 0, 0, 0, 0, 0, 0, 0, 0, 0, 0, 0, 0, 0, 0, 0, 0, 0, 0, 0, 0, 0, 0, 0, 0, 0, 0, 0, 0, 0, 0, 0, 0, 0, 0, 0, 0, 0, 0, 0, 0, 0, 0, 0, 0, 0, 0, 0, 0, 0, 0, 0, 0, 0, 0, 0, 0, 0, 0, 0, 0, 0, 0, 0, 0, 0, 0, 0, 0, 0, 0, 0, 0, 0, 0, 0, 0, 0, 0, 0, 0, 0, 0, 0, 0, 0, 0, 0, 0, 0, 0, 0, 0, 0, 0, 0, 0, 0, 0, 0, 0, 0, 0, 0, 0, 0, 0, 0, 0, 0, 0, 0, 0, 0, 0, 0, 0, 0, 0, 0, 0, 0, 0, 0, 0, 0, 0, 0, 0, 0, 0, 0, 0, 0, 0, 0, 0, 0, 0, 0, 0, 0, 0, 0, 0, 0, 0, 0, 0, 0, 0, 0, 0, 0, 0, 0, 0, 0, 0, 0, 0, 0, 0, 0, 0, 0, 0, 0, 0, 0, 0, 0, 0, 0, 0, 0, 0, 0, 0, 0, 0, 0, 0, 0, 0, 0, 0, 0, 0, 0, 0, 0, 0, 0, 0, 0, 0, 0, 0, 0, 0, 0, 0, 0, 0, 0, 0, 0, 0, 0, 0, 0, 0, 0, 0, 0, 0, 0, 0, 0, 0, 0, 0, 0, 0, 0, 0, 0, 0, 0, 0, 0, 0, 0, 0, 0, 0, 0, 0, 0, 0, 0, 0, 0, 0, 0, 0, 0, 0, 0, 0, 0, 0, 0, 0, 0, 0, 0, 0, 0, 0, 0, 0, 0, 0, 0, 0, 0, 0, 0, 0, 0, 0, 0, 0, 0, 0, 0, 0, 0, 0, 0, 0, 0, 0, 0, 0, 0, 0, 0, 0, 0, 0, 0, 0, 0, 0, 0, 0, 0, 0, 0, 0, 0, 0, 0, 0, 0, 0, 0, 0, 0, 0, 0, 0, 0, 0, 0, 0, 0, 0, 0, 0, 0, 0, 0, 0, 0, 0, 0, 0, 0, 0, 0, 0, 0, 0, 0, 0, 0, 0, 0, 0, 0, 0, 0, 0, 0, 0, 0, 0, 0, 0, 0, 0, 0, 0, 1, 0, 0, 0, 0, 0, 0, 0, 0, 0, 0, 0, 0, 0, 0, 0, 0, 0, 0, 0, 0, 0, 0, 0, 0, 0, 0, 0, 0, 0, 0, 0, 0, 0, 0, 0, 0, 0, 0, 0, 0, 0, 0, 0, 0, 0, 0, 0, 0, 0, 0, 0, 0, 0, 0, 0, 0, 0, 0, 0, 0, 0, 0, 0, 0, 0, 0, 0, 0, 0, 0, 0, 0, 0, 0, 1, 0, 0, 0, 0, 0, 0, 0, 0, 0, 0, 0, 0, 0, 0, 0, 0, 0, 0, 0, 0, 1, 0, 0, 1, 0, 0, 0, 0, 0, 0, 0, 0, 0, 0, 0, 0, 0, 0, 0, 0, 0, 0, 0, 0, 0, 0, 0, 0, 0, 0, 0, 0, 0, 0, 0, 0, 0, 0, 0, 0, 0, 0, 0, 0, 0, 0, 0, 0, 0, 0, 0, 0, 0, 0, 0, 0, 0, 0, 0, 0, 0, 0, 0, 0, 0, 0, 0, 0, 0, 0, 0, 0, 0, 0, 0, 0, 0, 0, 0, 0, 0, 0, 0, 0, 0, 0, 0, 0, 0, 0, 0, 0, 0, 0, 0, 0, 0, 0, 0, 0, 0, 0, 0, 0, 0, 0, 0, 0, 0, 0, 0, 0, 0, 0, 0, 0, 0, 0, 0, 0, 0, 0, 0, 0, 0, 0, 0, 0, 0, 0, 0, 0, 0, 0, 0, 0, 0, 0, 0, 0, 0, 0, 0, 0, 0, 0, 0, 0, 0, 0, 0, 0, 0, 0, 0, 0, 0, 0, 0, 0, 0, 0, 0, 0, 0, 0, 0, 0, 0, 0, 0, 0, 0, 0, 0, 0, 0, 0, 0, 0, 0, 0, 0, 0, 0, 0, 0, 0, 0, 0, 0, 0, 0, 0, 0, 0, 0, 0, 0, 0, 0, 0, 0, 0, 0, 0, 0, 0, 0, 0, 0, 0, 0, 0, 0, 0, 0, 0, 0, 0, 0, 0, 0, 0, 0, 0, 0, 0, 0, 0, 0, 0, 0, 0, 0, 0, 0, 0, 0, 0, 0, 0, 0, 0, 0, 0, 0, 0, 0, 0, 0, 0, 0, 0, 0, 0, 0, 0, 0, 0, 0, 0, 0, 0, 0, 0, 0, 0, 0, 0, 0, 0, 0, 0, 0, 0, 0, 0, 0, 0, 0, 0, 0, 0, 0, 0, 0, 0, 0, 0, 0, 0, 0, 0, 0, 0, 0, 0, 0, 0, 0, 0, 0, 0, 0, 0, 0, 0, 0, 0, 0, 0, 0, 0, 0, 0, 0, 0, 0, 0, 0, 0, 0, 0, 0, 0, 0, 0, 0, 0, 0, 0, 0, 0, 0, 0, 0, 0, 0, 0, 0, 0, 0, 0, 0, 0, 0, 0, 0, 0, 0, 0, 0, 0, 0, 0, 0, 0, 0, 0, 0, 0, 0, 0, 0, 0, 0, 0, 0, 0, 0, 0, 0, 0, 0, 0, 0, 0, 0, 0, 0, 0, 0, 0, 0, 0, 0, 0, 0, 0, 0, 0, 0, 0, 0, 0, 0, 0, 0, 0, 0, 0, 0, 0, 0, 0, 0, 0, 0, 0, 0, 0, 0, 0, 0, 0, 0, 0, 0, 0, 0, 0, 0, 0, 0, 0, 0, 0, 0, 0, 0, 0, 0, 0, 0, 0, 0, 0, 0, 0, 0, 0, 0, 0, 0, 0, 0, 0, 0, 0, 0, 0, 0, 0, 0, 0, 0, 0, 0, 0, 0, 0, 0, 0, 0, 0, 0, 0, 0, 0, 1, 0, 0, 0, 0, 0, 0, 0, 0, 0, 0, 0, 0, 0, 0, 0, 0, 0, 0, 0, 0, 0, 0, 0, 0, 0, 0, 0, 0, 0, 0, 0, 0, 0, 0, 0, 0, 0, 0, 0, 0, 0, 0, 0, 0, 0, 0, 0, 0, 0, 0, 0, 0, 0, 0, 0, 0, 0, 0, 0, 0, 0, 0, 0, 0, 0, 0, 0, 0, 0, 0, 0, 0, 0, 0, 0, 0, 0, 0, 0, 0, 0, 0, 0, 0, 0, 0, 0, 0, 0, 0, 0, 0, 0, 0, 0, 0, 0, 0, 0, 0, 0, 0, 0, 0, 0, 0, 0, 0, 0, 0, 0, 0, 0, 0, 0, 0, 0, 0, 0, 0, 0, 0, 0, 0, 0, 0, 0, 0, 0, 0, 0, 0, 0, 0, 0, 0, 0, 0, 0, 0, 0, 0, 0, 0, 0, 0, 0, 0, 0, 0, 0, 0, 0, 0, 0, 0, 0, 0, 0, 0, 0, 0, 0, 0, 0, 0, 0, 0, 0, 0, 0, 0, 0, 0, 0, 0, 0, 0, 0, 0, 0, 0, 0, 0, 0, 0, 0, 0, 0, 0, 0, 0, 0, 0, 0, 0, 0, 0, 0, 0, 0, 0, 0, 0, 0, 0, 0, 0, 0, 0, 0, 0, 0, 0, 0, 0, 0, 0, 0, 0, 0, 0, 0, 0, 0, 0, 0, 0, 0, 0, 0, 0, 0, 0, 0, 0, 0, 0, 0, 0, 0, 0, 0, 0, 0, 0, 0, 0, 0, 0, 0, 0, 0, 0, 0, 0, 0, 0, 0, 0, 0, 0, 0, 0, 0, 0, 0, 0, 0, 0, 0, 0, 0, 0, 0, 0, 0, 0, 0, 0, 0, 0, 0, 0, 0, 0, 0, 0, 0, 0, 0, 0, 0, 0, 0, 0, 0, 0, 0, 0, 0, 0, 0, 0, 0, 0, 0, 0, 0, 0, 0, 0, 0, 0, 0, 0, 0, 0, 0, 0, 0, 0, 0, 0, 0, 0, 0, 0, 0, 0, 0, 0, 0, 0, 0, 0, 0, 0, 0, 0, 0, 0, 0, 0, 0, 0, 0, 0, 0, 0, 0, 0, 0, 0, 0, 0, 0, 0, 0, 0, 0, 0, 0, 0, 0, 0, 0, 0, 0, 0, 0, 0, 0, 0, 0, 0, 0, 0, 0, 0, 0, 0, 0, 0, 0, 0, 0, 0, 0, 0, 0, 0, 0, 0, 0, 0, 0, 0, 0, 0, 0, 0, 0, 0, 0, 0, 0, 0, 0, 0, 0, 0, 0, 0, 0, 0, 0, 0, 0, 0, 0, 0, 0, 0, 0, 0, 0, 0, 0, 0, 0, 0, 0, 0, 0, 0, 0, 0, 0, 0, 0, 0, 0, 0, 0, 0, 0, 0, 0, 0, 0, 0, 0, 0, 0, 0, 0, 0, 0, 0, 0, 0, 0, 0, 0, 0, 0, 0, 0, 0, 0, 0, 0, 0, 0, 0, 0, 0, 0, 0, 0, 0, 0, 0, 0, 0, 0, 0, 0, 0, 0, 0, 0, 0, 0, 0, 0, 0, 0, 0, 0, 0, 0, 0, 0, 0, 0, 0, 0, 0, 0, 0, 1, 0, 0, 0, 0, 0, 0, 0, 0, 0, 0, 0, 0, 0, 0, 0, 0, 0, 0, 0, 0, 0, 0, 0, 0, 0, 0, 0, 0, 0, 0, 0, 0, 0, 0, 0, 2, 0, 0, 0, 0, 0, 0, 0, 0, 0, 0, 0, 0, 0, 0, 0, 0, 0, 0, 0, 0, 0, 0, 0, 0, 0, 0, 0, 0, 0, 0, 0, 0, 0, 0, 0, 0, 0, 0, 0, 0, 1, 0, 0, 0, 0, 0, 0, 0, 0, 0, 0, 0, 0, 0, 0, 0, 0, 0, 0, 0, 0, 0, 0, 0, 0, 0, 0, 0, 0, 0, 0, 0, 0, 0, 0, 0, 0, 0, 0, 0, 0, 0, 0, 0, 0, 0, 0, 0, 0, 0, 0, 0, 0, 0, 0, 0, 0, 0, 0, 0, 0, 0, 0, 0, 0, 0, 0, 0, 0, 0, 0, 0, 0, 0, 0, 0, 0, 0, 0, 0, 0, 0, 0, 0, 0, 0, 0, 0, 0, 0, 0, 0, 0, 0, 0, 0, 0, 0, 0, 0, 0, 0, 0, 0, 0, 0, 0, 0, 0, 0, 0, 0, 0, 0, 0, 0, 0, 0, 0, 0, 0, 0, 0, 0, 0, 0, 0, 0, 0, 0, 0, 0, 0, 0, 0, 0, 0, 0, 0, 0, 0, 0, 0, 0, 0, 0, 0, 0, 0, 0, 0, 0, 0, 0, 0, 0, 0, 0, 0, 0, 0, 0, 0, 0, 0, 0, 0, 0, 0, 0, 0, 0, 0, 0, 0, 0, 0, 0, 0, 0, 0, 0, 0, 0, 0, 0, 0, 0, 0, 0, 0, 0, 0, 0, 0, 0, 0, 0, 0, 0, 0, 0, 0, 0, 0, 0, 0, 0, 0, 0, 0, 0, 0, 0, 0, 0, 0, 0, 0, 0, 0, 0, 0, 0, 0, 0, 0, 0, 0, 0, 0, 0, 0, 0, 0, 0, 0, 0, 0, 0, 0, 0, 0, 0, 0, 0, 0, 0, 0, 0, 0, 0, 0, 0, 0, 0, 0, 0, 0, 0, 0, 0, 0, 0, 0, 0, 0, 0, 0, 0, 0, 0, 0, 0, 0, 0, 0, 0, 0, 0, 0, 0, 0, 0, 0, 0, 0, 0, 0, 0, 0, 0, 0, 0, 0, 0, 0, 0, 0, 0, 0, 0, 0, 0, 0, 0, 0, 0, 0, 0, 0, 0, 0, 0, 0, 0, 0, 0, 0, 0, 0, 0, 0, 0, 0, 0, 0, 0, 0, 0, 0, 0, 0, 0, 0, 0, 0, 0, 0, 0, 0, 0, 0, 0, 0, 0, 0, 0, 0, 0, 0, 0, 0, 0, 0, 0, 0, 0, 0, 0, 0, 0, 0, 0, 0, 0, 0, 0, 0, 0, 0, 0, 0, 0, 0, 0, 0, 0, 0, 0, 0, 0, 0, 0, 0, 0, 0, 0, 0, 0, 0, 0, 0, 0, 0, 0, 0, 0, 0, 0, 0, 0, 0, 0, 0, 0, 0, 0, 0, 0, 0, 0, 0, 0, 0, 0, 0, 0, 0, 0, 0, 0, 0, 0, 0, 0, 0, 0, 0, 0, 0, 0, 0, 0, 0, 0, 0, 0, 0, 0, 0, 0, 0, 0, 0, 0, 0, 0, 0, 0, 0, 0, 0, 0, 0, 0, 0, 0, 0, 0, 0, 0, 0, 0, 0, 0, 0, 0, 0, 0, 0, 0, 0, 0, 0, 0, 0, 0, 0, 0, 0, 0, 0, 0, 0, 0, 0, 0, 0, 0, 0, 0, 0, 0, 0, 0, 0, 0, 1, 0, 0, 0, 0, 0, 0, 0, 0, 0, 0, 0, 0, 0, 0, 0, 0, 0, 0, 0, 0, 0, 0, 0, 0, 0, 0, 0, 0, 0, 0, 0, 0, 0, 0, 0, 0, 0, 0, 0, 0, 0, 0, 0, 0, 0, 0, 0, 0, 0, 0, 0, 0, 0, 0, 0, 0, 0, 0, 0, 0, 0, 0, 0, 0, 0, 0, 0, 0, 0, 0, 0, 0, 0, 0, 0, 0, 0, 0, 0, 0, 0, 0, 0, 0, 0, 0, 0, 0, 0, 0, 0, 0, 0, 0, 0, 0, 0, 0, 0, 0, 0, 0, 0, 0, 0, 0, 0, 0, 0, 0, 2, 0, 0, 0, 0, 0, 0, 0, 0, 0, 0, 0, 0, 0, 0, 0, 0, 0, 0, 0, 0, 0, 0, 0, 0, 0, 0, 0, 0, 0, 0, 0, 0, 0, 0, 0, 0, 0, 0, 0, 0, 0, 0, 0, 0, 0, 0, 0, 0, 0, 0, 0, 0, 0, 0, 0, 0, 0, 0, 0, 0, 0, 0, 0, 0, 0, 0, 0, 0, 0, 0, 0, 0, 0, 0, 0, 0, 0, 0, 0, 0, 0, 0, 0, 0, 0, 0, 0, 0, 0, 0, 0, 0, 0, 0, 0, 0, 0, 0, 0, 0, 0, 0, 0, 0, 0, 0, 0, 0, 0, 0, 0, 0, 0, 0, 0, 0, 0, 0, 0, 0, 0, 0, 0, 0, 0, 0, 0, 0, 0, 0, 0, 0, 0, 0, 0, 0, 0, 0, 0, 0, 0, 0, 0, 0, 0, 0, 0, 0, 0, 0, 0, 0, 0, 0, 0, 0, 0, 0, 0, 0, 0, 0, 0, 0, 0, 0, 0, 0, 0, 0, 0, 0, 0, 0, 0, 0, 0, 0, 0, 0, 0, 0, 0, 0, 0, 0, 0, 0, 0, 0, 0, 0, 0, 0, 0, 0, 0, 0, 0, 0, 0, 0, 0, 0, 0, 0, 0, 0, 0, 0, 0, 0, 0, 0, 0, 0, 0, 0, 0, 0, 0, 0, 0, 0, 0, 0, 0, 0, 0, 0, 0, 0, 0, 0, 0, 0, 0, 0, 0, 0, 0, 0, 0, 0, 0, 0, 0, 0, 0, 0, 0, 0, 0, 0, 0, 0, 0, 0, 0, 0, 0, 0, 0, 0, 0, 0, 0, 0, 0, 0, 0, 0, 0, 0, 0, 0, 0, 0, 0, 0, 0, 0, 0, 0, 0, 0, 0, 0, 0, 0, 0, 0, 0, 0, 0, 0, 0, 0, 0, 0, 0, 0, 0, 0, 0, 0, 0, 0, 0, 0, 0, 0, 0, 0, 0, 0, 0, 0, 0, 0, 0, 0, 0, 0, 0, 0, 0, 0, 0, 0, 0, 0, 0, 0, 0, 0, 0, 0, 0, 0, 0, 0, 0, 0, 0, 0, 0, 0, 0, 0, 0, 0, 0, 0, 0, 0, 0, 0, 0, 0, 0, 0, 0, 0, 0, 0, 0, 0, 0, 0, 0, 0, 0, 0, 0, 0, 0, 0, 0, 0, 0, 0, 0, 0, 0, 0, 0, 0, 0, 0, 0, 0, 0, 0, 0, 0, 0, 0, 0, 0, 0, 0, 0, 0, 0, 0, 0, 0, 0, 0, 0, 0, 0, 0, 0, 0, 0, 0, 0, 0, 0, 0, 0, 0, 0, 0, 0, 0, 0, 0, 0, 0, 0, 0, 0, 0, 0, 0, 0, 0, 0, 0, 0, 0, 0, 0, 0, 0, 0, 0, 0, 0, 0, 0, 0, 0, 0, 0, 0, 0, 0, 0, 0, 0, 0, 0, 0, 0, 0, 0, 0, 0, 0, 0, 0, 0, 0, 0, 0, 0, 0, 0, 0, 0, 0, 0, 0, 0, 0, 0, 0, 0, 0, 0, 0, 0, 0, 0, 0, 0, 0, 0, 0, 0, 0, 0, 0, 0, 0, 0, 0, 0, 0, 0, 0, 0, 0, 0, 0, 0, 0, 0, 0, 0, 0, 0, 0, 0, 0, 0, 0, 0, 0, 0, 0, 0, 0, 0, 0, 0, 0, 0, 0, 0, 0, 0, 0, 0, 0, 0, 0, 0, 0, 0, 0, 0, 0, 0, 0, 0, 0, 0, 0, 0, 0, 0, 0, 0, 0, 0, 0, 0, 0, 0, 0, 0, 0, 0, 0, 0, 0, 0, 0, 0, 0, 0, 0, 0, 0, 0, 0, 0, 0, 0, 0, 0, 0, 0, 0, 0, 0, 0, 0, 0, 0, 0, 0, 0, 0, 0, 0, 0, 0, 0, 0, 0, 0, 0, 0, 0, 0, 0, 0, 0, 0, 0, 0, 0, 0, 0, 0, 0, 0, 0, 0, 0, 0, 0, 0, 0, 0, 0, 0, 0, 0, 0, 0, 0, 0, 0, 0, 0, 0, 0, 0, 0, 0, 0, 0, 0, 0, 0, 0, 0, 0, 0, 0, 0, 0, 0, 0, 0, 0, 0, 0, 0, 0, 0, 0, 0, 0, 0, 0, 0, 0, 0, 0, 0, 0, 0, 1, 0, 0, 0, 0, 0, 0, 0, 0, 0, 0, 0, 0, 0, 0, 0, 0, 0, 0, 0, 0, 0, 0, 0, 0, 0, 0, 0, 0, 0, 0, 0, 0, 0, 0, 0, 0, 0, 0, 0, 0, 0, 0, 0, 0, 0, 0, 0, 0, 0, 0, 0, 0, 0, 0, 0, 0, 0, 0, 0, 0, 0, 0, 0, 0, 0, 0, 0, 0, 0, 0, 0, 0, 0, 0, 0, 0, 0, 0, 0, 0, 0, 0, 0, 0, 0, 0, 0, 0, 0, 0, 0, 0, 0, 0, 0, 0, 0, 0, 0, 0, 0, 0, 0, 0, 0, 0, 0, 1, 0, 0, 0, 0, 0, 0, 0, 0, 0, 0, 0, 0, 0, 0, 0, 0, 0, 0, 0, 0, 0, 0, 0, 0, 0, 0, 0, 0, 0, 0, 0, 0, 0, 0, 0, 0, 0, 0, 0, 0, 0, 0, 0, 0, 0, 0, 0, 0, 0, 0, 0, 0, 0, 0, 0, 0, 0, 0, 0, 0, 0, 0, 0, 0, 0, 0, 0, 0, 0, 0, 0, 0, 0, 0, 0, 0, 0, 0, 0, 0, 0, 0, 0, 0, 0, 0, 0, 0, 0, 0, 0, 0, 0, 0, 0, 0, 0, 0, 0, 0, 0, 0, 0, 0, 0, 0, 0, 0, 0, 0, 0, 0, 0, 0, 0, 0, 0, 0, 0, 0, 0, 0, 0, 0, 0, 0, 0, 0, 0, 0, 0, 0, 0, 0, 0, 0, 0, 0, 0, 0, 0, 0, 0, 0, 0, 0, 0, 0, 0, 0, 0, 0, 0, 0, 0, 0, 0, 0, 0, 0, 0, 0, 0, 0, 0, 0, 0, 0, 0, 0, 0, 0, 0, 0, 0, 0, 0, 0, 0, 0, 0, 0, 0, 0, 0, 0, 0, 0, 0, 0, 0, 0, 0, 0, 0, 0, 0, 0, 0, 0, 0, 0, 0, 0, 0, 0, 0, 0, 0, 0, 0, 0, 0, 0, 0, 0, 0, 0, 0, 0, 0, 0, 0, 0, 0, 0, 0, 0, 0, 0, 0, 0, 0, 0, 0, 0, 0, 0, 0, 0, 0, 0, 0, 0, 0, 0, 0, 0, 0, 0, 0, 0, 0, 0, 0, 0, 0, 0, 0, 0, 0, 0, 0, 0, 0, 0, 0, 0, 0, 0, 0, 0, 0, 0, 0, 0, 0, 0, 0, 0, 0, 0, 0, 0, 0, 0, 0, 0, 0, 0, 0, 0, 0, 0, 0, 0, 0, 0, 0, 0, 0, 0, 0, 0, 0, 0, 0, 0, 0, 0, 0, 0, 0, 0, 0, 0, 0, 0, 0, 0, 0, 0, 0, 0, 0, 0, 0, 0, 0, 0, 0, 0, 0, 0, 0, 0, 0, 0, 0, 0, 0, 0, 0, 0, 0, 0, 0, 0, 0, 0, 0, 0, 0, 0, 0, 0, 0, 0, 0, 0, 0, 0, 0, 0, 0, 0, 0, 0, 0, 0, 0, 0, 0, 0, 0, 0, 0, 0, 0, 0, 0, 0, 0, 0, 0, 0, 0, 0, 0, 0, 0, 0, 0, 0, 0, 0, 0, 0, 0, 0, 0, 0, 0, 0, 0, 0, 0, 0, 0, 0, 0, 0, 0, 0, 0, 0, 0, 0, 0, 0, 0, 0, 0, 0, 0, 0, 0, 0, 0, 0, 0, 0, 0, 0, 0, 0, 0, 0, 0, 0, 0, 0, 0, 0, 0, 0, 0, 0, 0, 0, 0, 0, 0, 0, 0, 0, 0, 0, 0, 0, 0, 0, 0, 2, 0, 1, 0], type: <class 'list'>, valid types: <class 'bytes'>, <class 'bytearray'>, file-like object"
     ]
    }
   ],
   "source": [
    "response = runtime.invoke_endpoint(EndpointName = xgb_predictor.endpoint, # The name of the endpoint we created\n",
    "                                       ContentType = 'text/csv',                     # The data format that is expected\n",
    "                                       Body = test_bow)"
   ]
  },
  {
   "cell_type": "markdown",
   "metadata": {},
   "source": [
    "So why did we get an error?\n",
    "\n",
    "Because we tried to send the endpoint a list of integers but it expected us to send data of type `text/csv`. So, we need to convert it."
   ]
  },
  {
   "cell_type": "code",
   "execution_count": 68,
   "metadata": {},
   "outputs": [],
   "source": [
    "response = runtime.invoke_endpoint(EndpointName = xgb_predictor.endpoint, # The name of the endpoint we created\n",
    "                                       ContentType = 'text/csv',                     # The data format that is expected\n",
    "                                       Body = ','.join([str(val) for val in test_bow]).encode('utf-8'))"
   ]
  },
  {
   "cell_type": "code",
   "execution_count": 69,
   "metadata": {},
   "outputs": [
    {
     "name": "stdout",
     "output_type": "stream",
     "text": [
      "{'ResponseMetadata': {'RequestId': '49e16a1b-8185-4805-b6dc-fe9794c1811e', 'HTTPStatusCode': 200, 'HTTPHeaders': {'x-amzn-requestid': '49e16a1b-8185-4805-b6dc-fe9794c1811e', 'x-amzn-invoked-production-variant': 'AllTraffic', 'date': 'Tue, 25 May 2021 12:13:31 GMT', 'content-type': 'text/csv; charset=utf-8', 'content-length': '18'}, 'RetryAttempts': 0}, 'ContentType': 'text/csv; charset=utf-8', 'InvokedProductionVariant': 'AllTraffic', 'Body': <botocore.response.StreamingBody object at 0x7efe12d646d8>}\n"
     ]
    }
   ],
   "source": [
    "print(response)"
   ]
  },
  {
   "cell_type": "markdown",
   "metadata": {},
   "source": [
    "As we can see, the response from our model is a somewhat complicated looking dict that contains a bunch of information. The bit that we are most interested in is `'Body'` object which is a streaming object that we need to `read` in order to make use of."
   ]
  },
  {
   "cell_type": "code",
   "execution_count": 70,
   "metadata": {},
   "outputs": [
    {
     "name": "stdout",
     "output_type": "stream",
     "text": [
      "0.3238728642463684\n"
     ]
    }
   ],
   "source": [
    "response = response['Body'].read().decode('utf-8')\n",
    "print(response)"
   ]
  },
  {
   "cell_type": "markdown",
   "metadata": {},
   "source": [
    "Now that we know how to process the incoming user data we can start setting up the infrastructure to make our simple web app work. To do this we will make use of two different services. Amazon's Lambda and API Gateway services.\n",
    "\n",
    "Lambda is a service which allows someone to write some relatively simple code and have it executed whenever a chosen trigger occurs. For example, you may want to update a database whenever new data is uploaded to a folder stored on S3.\n",
    "\n",
    "API Gateway is a service that allows you to create HTTP endpoints (url addresses) which are connected to other AWS services. One of the benefits to this is that you get to decide what credentials, if any, are required to access these endpoints.\n",
    "\n",
    "In our case we are going to set up an HTTP endpoint through API Gateway which is open to the public. Then, whenever anyone sends data to our public endpoint we will trigger a Lambda function which will send the input (in our case a review) to our model's endpoint and then return the result."
   ]
  },
  {
   "cell_type": "markdown",
   "metadata": {},
   "source": [
    "### Setting up a Lambda function\n",
    "\n",
    "The first thing we are going to do is set up a Lambda function. This Lambda function will be executed whenever our public API has data sent to it. When it is executed it will receive the data, perform any sort of processing that is required, send the data (the review) to the SageMaker endpoint we've created and then return the result.\n",
    "\n",
    "#### Part A: Create an IAM Role for the Lambda function\n",
    "\n",
    "Since we want the Lambda function to call a SageMaker endpoint, we need to make sure that it has permission to do so. To do this, we will construct a role that we can later give the Lambda function.\n",
    "\n",
    "Using the AWS Console, navigate to the **IAM** page and click on **Roles**. Then, click on **Create role**. Make sure that the **AWS service** is the type of trusted entity selected and choose **Lambda** as the service that will use this role, then click **Next: Permissions**.\n",
    "\n",
    "In the search box type `sagemaker` and select the check box next to the **AmazonSageMakerFullAccess** policy. Then, click on **Next: Review**.\n",
    "\n",
    "Lastly, give this role a name. Make sure you use a name that you will remember later on, for example `LambdaSageMakerRole`. Then, click on **Create role**."
   ]
  },
  {
   "cell_type": "markdown",
   "metadata": {},
   "source": [
    "#### Part B: Create a Lambda function\n",
    "\n",
    "Now it is time to actually create the Lambda function. Remember from earlier that in order to process the user provided input and send it to our endpoint we need to gather two pieces of information:\n",
    "\n",
    " - The name of the endpoint, and\n",
    " - the vocabulary object.\n",
    "\n",
    "We will copy these pieces of information to our Lambda function after we create it.\n",
    "\n",
    "To start, using the AWS Console, navigate to the AWS Lambda page and click on **Create a function**. When you get to the next page, make sure that **Author from scratch** is selected. Now, name your Lambda function, using a name that you will remember later on, for example `sentiment_analysis_xgboost_func`. Make sure that the **Python 3.6** runtime is selected and then choose the role that you created in the previous part. Then, click on **Create Function**.\n",
    "\n",
    "On the next page you will see some information about the Lambda function you've just created. If you scroll down you should see an editor in which you can write the code that will be executed when your Lambda function is triggered. Collecting the code we wrote above to process a single review and adding it to the provided example `lambda_handler` we arrive at the following.\n",
    "\n",
    "```python\n",
    "# We need to use the low-level library to interact with SageMaker since the SageMaker API\n",
    "# is not available natively through Lambda.\n",
    "import boto3\n",
    "\n",
    "# And we need the regular expression library to do some of the data processing\n",
    "import re\n",
    "\n",
    "REPLACE_NO_SPACE = re.compile(\"(\\.)|(\\;)|(\\:)|(\\!)|(\\')|(\\?)|(\\,)|(\\\")|(\\()|(\\))|(\\[)|(\\])\")\n",
    "REPLACE_WITH_SPACE = re.compile(\"(<br\\s*/><br\\s*/>)|(\\-)|(\\/)\")\n",
    "\n",
    "def review_to_words(review):\n",
    "    words = REPLACE_NO_SPACE.sub(\"\", review.lower())\n",
    "    words = REPLACE_WITH_SPACE.sub(\" \", words)\n",
    "    return words\n",
    "    \n",
    "def bow_encoding(words, vocabulary):\n",
    "    bow = [0] * len(vocabulary) # Start by setting the count for each word in the vocabulary to zero.\n",
    "    for word in words.split():  # For each word in the string\n",
    "        if word in vocabulary:  # If the word is one that occurs in the vocabulary, increase its count.\n",
    "            bow[vocabulary[word]] += 1\n",
    "    return bow\n",
    "\n",
    "\n",
    "def lambda_handler(event, context):\n",
    "    \n",
    "    vocab = \"*** ACTUAL VOCABULARY GOES HERE ***\"\n",
    "    \n",
    "    words = review_to_words(event['body'])\n",
    "    bow = bow_encoding(words, vocab)\n",
    "\n",
    "    # The SageMaker runtime is what allows us to invoke the endpoint that we've created.\n",
    "    runtime = boto3.Session().client('sagemaker-runtime')\n",
    "\n",
    "    # Now we use the SageMaker runtime to invoke our endpoint, sending the review we were given\n",
    "    response = runtime.invoke_endpoint(EndpointName = '***ENDPOINT NAME HERE***',# The name of the endpoint we created\n",
    "                                       ContentType = 'text/csv',                 # The data format that is expected\n",
    "                                       Body = ','.join([str(val) for val in bow]).encode('utf-8')) # The actual review\n",
    "\n",
    "    # The response is an HTTP response whose body contains the result of our inference\n",
    "    result = response['Body'].read().decode('utf-8')\n",
    "    \n",
    "    # Round the result so that our web app only gets '1' or '0' as a response.\n",
    "    result = round(float(result))\n",
    "\n",
    "    return {\n",
    "        'statusCode' : 200,\n",
    "        'headers' : { 'Content-Type' : 'text/plain', 'Access-Control-Allow-Origin' : '*' },\n",
    "        'body' : str(result)\n",
    "    }\n",
    "```"
   ]
  },
  {
   "cell_type": "markdown",
   "metadata": {},
   "source": [
    "Once you have copy and pasted the code above into the Lambda code editor, replace the `**ENDPOINT NAME HERE**` portion with the name of the endpoint that we deployed earlier. You can determine the name of the endpoint using the code cell below."
   ]
  },
  {
   "cell_type": "code",
   "execution_count": 75,
   "metadata": {},
   "outputs": [
    {
     "data": {
      "text/plain": [
       "'xgboost-2021-05-25-11-29-34-273'"
      ]
     },
     "execution_count": 75,
     "metadata": {},
     "output_type": "execute_result"
    }
   ],
   "source": [
    "xgb_predictor.endpoint"
   ]
  },
  {
   "cell_type": "markdown",
   "metadata": {},
   "source": [
    "In addition, you will need to copy the vocabulary dict to the appropriate place in the code at the beginning of the `lambda_handler` method. The cell below prints out the vocabulary dict in a way that is easy to copy and paste."
   ]
  },
  {
   "cell_type": "code",
   "execution_count": 72,
   "metadata": {},
   "outputs": [
    {
     "name": "stdout",
     "output_type": "stream",
     "text": [
      "{'unfortunately': 4654, 'there': 4438, 'was': 4805, 'not': 3040, 'for': 1784, 'rating': 3529, 'or': 3124, 'else': 1448, 'wouldve': 4959, 'chosen': 805, 'it': 2366, 'this': 4457, 'movie': 2926, 'lacks': 2505, 'the': 4426, 'star': 4150, 'power': 3359, 'that': 4424, 'original': 3129, 'had': 2003, 'in': 2257, 'such': 4268, 'carol': 693, 'albert': 174, 'tim': 4494, 'peters': 3248, 'edward': 1426, 'innocence': 2293, 'of': 3083, 'and': 226, 'expert': 1585, 'directing': 1260, 'from': 1840, 'pro': 3406, 'john': 2409, 'father': 1666, 'actress': 105, 'what': 4858, 'made': 2697, 'film': 1716, 'so': 4046, 'charming': 768, 'even': 1533, '1999': 27, 'remake': 3612, 'with': 4911, 'victor': 4731, 'alan': 171, 'more': 2904, 'to': 4507, 'offer': 3087, 'than': 4420, 'sorry': 4076, 'excuse': 1564, 'sequel': 3885, 'before': 440, 'she': 3923, 'did': 1241, 'all': 187, 'ashley': 313, 'johnson': 2411, 'known': 2492, 'her': 2085, 'role': 3726, 'as': 311, 'little': 2624, 'on': 3105, 'prime': 3395, 'time': 4495, 'show': 3953, 'growing': 1983, 'few': 1700, 'bit': 488, 'parts': 3199, 'movies': 2927, 'but': 636, 'dont': 1324, 'know': 2489, 'who': 4871, 'thought': 4462, 'talent': 4354, 'enough': 1491, 'carry': 700, 'own': 3158, 'adding': 117, 'joan': 2404, 'lady': 2507, 'ridiculous': 3693, 'they': 4442, 'couldnt': 1008, 'get': 1899, 'good': 1937, 'actors': 104, 'play': 3296, 'major': 2711, 'roles': 3727, 'like': 2599, 'daddy': 1096, 'miss': 2866, 'annie': 247, 'will': 4886, 'sign': 3970, 'some': 4061, 'british': 589, 'doesnt': 1309, 'surprise': 4312, 'me': 2778, 'bad': 382, 'critics': 1064, 'were': 4848, 'right': 3696, 'have': 2052, 'agreed': 156, 'if': 2222, 'only': 3110, 'tv': 4610, 'poor': 3328, 'an': 223, 'otherwise': 3137, 'lovable': 2668, 'caught': 722, 'part': 3193, 'george': 1893, 'recently': 3567, 'myself': 2953, 'watch': 4811, 'through': 4477, 'end': 1468, 'just': 2437, 'awful': 372, 'cant': 671, 'remember': 3616, 'plot': 3309, 'is': 2360, 'first': 1736, 'which': 4867, 'theres': 4440, 'lot': 2661, 'around': 297, 'direction': 1261, 'editing': 1421, 'watching': 4815, 'scenes': 3811, 'having': 2054, 'voice': 4761, 'ape': 266, 'back': 378, 'nearly': 2981, 'make': 2713, 'warm': 4794, 'up': 4683, 'probably': 3407, 'single': 3996, 'worst': 4952, 'ever': 1538, 'seen': 3865, 'saying': 3800, 'something': 4066, 'because': 432, '10': 0, 'lines': 2612, 'rule': 3753, 'keep': 2449, 'when': 4862, 'nothing': 3047, 'say': 3799, 'about': 67, 'disney': 1289, 'hang': 2022, 'your': 4991, 'head': 2057, 'shame': 3918, 'using': 4698, 'tons': 4520, 'stock': 4193, 'footage': 1782, 'also': 199, 'two': 4620, 'films': 1721, 'series': 3890, 'example': 1553, 'fight': 1707, 'used': 4693, 'last': 2521, 'out': 3141, 'one': 3107, 'weakest': 4825, 'mgm': 2828, 'its': 2370, 'huge': 2185, 'let': 2579, 'down': 1335, 'after': 143, 'classic': 835, 'tarzan': 4367, 'his': 2118, 'mate': 2765, 'possibly': 3351, 'best': 469, 'has': 2043, 'coming': 896, 'into': 2332, 'jungle': 2434, 'tell': 4395, 'fortune': 1806, 'shell': 3927, 'come': 886, 'claim': 828, 'are': 285, 'kind': 2476, 'since': 3990, 'relative': 3599, 'left': 2561, 'money': 2888, 'cut': 1089, 'them': 4432, 'great': 1964, 'white': 4870, 'hunter': 2199, 'secretly': 3851, 'wishes': 4906, 'capture': 676, 'sell': 3871, 'him': 2110, 'pair': 3176, 'heads': 2059, 'where': 4864, 'run': 3755, 'usual': 4699, 'troubles': 4594, 'lots': 2662, 'talk': 4358, 'jane': 2380, 'decides': 1150, 'go': 1924, 'civilization': 827, 'we': 4823, 'long': 2644, 'sequences': 3888, 'making': 2718, 'face': 1616, 'finally': 1724, 'half': 2007, 'hour': 2176, 'put': 3480, 'motion': 2913, 'things': 4451, 'at': 331, 'become': 433, 'interesting': 2325, 'plans': 3292, 'look': 2646, 'very': 4723, 'grim': 1974, 'concerned': 932, 'painfully': 3172, 'dull': 1384, 'clear': 839, 'evidence': 1546, 'troubled': 4593, 'production': 3419, 'seems': 3864, 'been': 438, 'several': 3905, 'different': 1248, 'playing': 3300, 'almost': 193, 'exact': 1550, 'previous': 3387, 'middle': 2833, 'third': 4455, 'shows': 3960, 'signs': 3973, 'stretch': 4221, 'ultimately': 4628, 'went': 4847, 'nowhere': 3056, 'captured': 677, 'party': 3200, 'point': 3316, 'comes': 891, 'life': 2592, 'graphic': 1958, 'violence': 4747, 'caused': 724, 'much': 2934, 'need': 2987, 're': 3535, 'shoot': 3942, 'wonder': 4926, 'how': 2181, 'managed': 2723, 'continue': 969, 'here': 2086, 'isnt': 2362, 'except': 1556, 'would': 4957, 'be': 418, 'hard': 2033, 'explain': 1586, 'relationship': 3597, 'between': 475, 'kept': 2456, 'people': 3221, 'beautifully': 429, 'acted': 98, 'really': 3556, 'screens': 3832, 'couples': 1017, 'should': 3951, 'mention': 2810, 'became': 431, 'less': 2575, 'real': 3547, 'appearance': 274, 'tree': 4576, 'house': 2178, 'dislike': 1288, 'deal': 1135, 'find': 1726, 'waste': 4808, 'energy': 1478, 'you': 4986, 'can': 665, 'towards': 4540, 'recommend': 3571, 'giving': 1915, 'try': 4600, 'skip': 4016, 'whole': 4873, 'move': 2921, 'next': 3007, 'grand': 1953, 'falls': 1640, 'under': 4639, 'category': 718, 'clever': 841, 'dialogs': 1233, 'food': 1778, 'everywhere': 1545, 'start': 4156, 'impression': 2252, 'never': 3001, 'deserved': 1200, 'simplicity': 3984, 'flick': 1754, 'needs': 2990, 'sensitive': 3879, 'pity': 3281, 'imdb': 2240, 'makes': 2716, 'write': 4967, 'ten': 4399, 'no': 3020, 'way': 4820, 'necessary': 2984, 'particular': 3194, 'case': 707, 'anyway': 261, 'order': 3126, 'weak': 4824, 'any': 256, 'acting': 99, 'could': 1007, 'done': 1322, 'better': 472, 'exception': 1557, 'kevin': 2457, 'perfect': 3224, 'ahead': 159, 'ive': 2372, 'top': 4525, 'genre': 1888, 'action': 100, 'exciting': 1563, 'anything': 260, 'youve': 4995, 'kung': 2498, 'fu': 1844, 'spectacular': 4101, 'eye': 1611, 'stunt': 4245, 'work': 4940, 'perfectly': 3226, 'paced': 3162, 'tension': 4404, 'camera': 659, 'directed': 1259, 'by': 642, 'old': 3100, 'whose': 4877, 'including': 2264, 'jet': 2400, 'li': 2587, 'vehicle': 4718, 'legend': 2564, 'thing': 4450, 'lacking': 2504, 'presence': 3373, 'three': 4469, 'dimensional': 1253, 'character': 758, 'though': 4461, 'martin': 2748, 'male': 2719, 'lead': 2545, 'closest': 857, 'full': 1846, 'rather': 3528, 'characters': 760, 'sexy': 3911, 'killer': 2470, 'goofy': 1939, 'thief': 4448, 'girlfriend': 1910, 'villains': 4745, 'said': 3774, 'lee': 2559, 'terrific': 4409, 'screen': 3829, 'shes': 3930, 'fighting': 1709, 'stunts': 4246, 'guns': 1998, 'take': 4349, 'eyes': 1613, 'off': 3084, 'why': 4878, 'woman': 4921, 'okay': 3099, 'watched': 4813, 'twice': 4613, 'now': 3054, 'heavily': 2069, 'asked': 317, 'opinions': 3119, 'gone': 1935, 'length': 2569, 'reading': 3544, 'book': 535, 'supposed': 4306, 'based': 404, 'feel': 1684, 'review': 3676, 'describe': 1194, 'game': 1864, 'whilst': 4869, 'seem': 3861, 'sense': 3877, 'laura': 2536, 'lives': 2628, 'castle': 712, 'mr': 2929, 'de': 1131, 'their': 4431, 'day': 1129, 'letter': 2581, 'general': 1880, 'man': 2721, 'mission': 2870, 'daughters': 1122, 'death': 1141, 'he': 2056, 'claims': 830, 'supernatural': 4302, 'powers': 3361, 'being': 448, 'explains': 1589, 'visit': 4755, 'soon': 4074, 'meanwhile': 2785, 'chance': 747, 'encounter': 1466, 'strange': 4211, 'results': 3662, 'looking': 2648, 'daughter': 1121, 'months': 2897, 'starts': 4159, 'dreams': 1355, 'begins': 444, 'illness': 2230, 'mysterious': 2955, 'do': 1302, 'condition': 937, 'many': 2732, 'possible': 3350, 'catchy': 717, 'name': 2960, 'too': 4522, 'bothered': 549, 'called': 652, 'complete': 921, 'happening': 2028, 'mean': 2779, 'questions': 3489, 'everything': 1544, 'absolutely': 72, 'answer': 251, 'vampires': 4712, 'walk': 4775, 'light': 2595, 'girl': 1909, 'bob': 524, 'does': 1308, 'herself': 2092, 'dream': 1354, 'killing': 2472, 'zombies': 4998, 'appear': 273, 'accepted': 82, 'anyone': 259, 'bat': 410, 'spot': 4131, 'zombie': 4997, 'without': 4913, 'driving': 1368, 'car': 680, 'yet': 4984, 'faced': 1617, 'obvious': 3071, 'accept': 80, 'then': 4436, 'later': 2525, 'reveals': 3673, 'knows': 2493, 'vampire': 4711, 'drive': 1363, 'alone': 194, 'stolen': 4195, 'hell': 2077, 'scene': 3809, 'green': 1971, 'suddenly': 4273, 'dressing': 1359, 'nurse': 3063, 'kill': 2468, 'fact': 1621, 'fun': 1848, 'trying': 4601, 'my': 2951, 'admit': 122, 'quite': 3495, 'pretty': 3384, 'effort': 1432, 'conclusion': 936, 'vs': 4767, 'moment': 2886, 'actually': 109, 'everyone': 1542, 'exactly': 1551, 'going': 1931, 'audience': 352, 'somehow': 4063, 'century': 736, 'horror': 2168, 'novel': 3052, 'steve': 4181, 'stars': 4155, 'person': 3238, 'relate': 3593, 'dan': 1102, 'expected': 1577, 'ended': 1470, 'liking': 2604, 'laugh': 2529, 'loud': 2664, 'funny': 1852, 'big': 478, 'heart': 2064, 'fans': 1650, 'office': 3091, 'expect': 1575, 'see': 3855, 'liked': 2600, 'burns': 628, 'whos': 4876, 'weekend': 4838, 'travel': 4567, 'family': 1645, 'while': 4868, 'goes': 1930, 'gets': 1900, 'finds': 1728, 'brother': 598, 'cook': 988, 'dating': 1120, 'times': 4497, 'found': 1811, 'unbelievable': 4634, 'together': 4511, 'board': 522, 'games': 1865, 'bunch': 623, 'other': 3135, 'highly': 2105, 'doubt': 1332, 'thumbs': 4485, 'may': 2775, 'least': 2554, 'story': 4207, 'didnt': 1242, 'special': 4097, 'effects': 1431, 'inferior': 2285, 'decent': 1147, 'fast': 1661, 'forgettable': 1794, 'worse': 4951, 'generous': 1886, 'give': 1912, 'ways': 4822, 'loses': 2657, 'amazing': 209, 'second': 3846, 'actual': 108, 'poem': 3312, 'harder': 2035, 'until': 4680, 'climactic': 848, 'battle': 414, 'ball': 388, 'result': 3660, 'same': 3778, 'although': 201, 'clearly': 840, 'describes': 1196, 'main': 2707, 'concern': 931, 'tries': 4585, 'marry': 2745, 'mass': 2753, 'theyre': 4445, 'depiction': 1185, 'hilarious': 2106, 'especially': 1520, 'marvelous': 2750, 'given': 1913, 'weight': 4840, 'fate': 1665, 'masterful': 2758, 'building': 615, 'suspense': 4330, 'performance': 3228, 'effect': 1428, 'however': 2183, 'nature': 2975, 'technical': 4381, 'missing': 2869, 'most': 2909, 'sequence': 3887, 'hall': 2009, 'inside': 2297, 'object': 3066, 'changes': 751, 'ending': 1471, 'spoilers': 4124, 'captures': 678, 'visits': 4756, 'cell': 730, 'demands': 1175, 'reveal': 3670, 'hidden': 2096, 'refuses': 3587, 'still': 4188, 'murder': 2939, 'warrior': 4802, 'turn': 4605, 'calling': 653, 'devil': 1228, 'says': 3801, 'silly': 3976, 'ah': 158, 'understand': 4643, 'want': 4788, 'place': 3282, 'brings': 587, 'prison': 3401, 'settings': 3901, 'deaths': 1142, 'reduced': 3579, 'mentioned': 2811, 'once': 3106, 'instead': 2307, 'challenging': 744, 'far': 1653, 'beyond': 476, 'pure': 3471, 'evil': 1548, 'simply': 3986, 'die': 1243, 'lost': 2660, 'love': 2669, 'line': 2610, 'typical': 4623, 'these': 4441, 'sisters': 4002, 'terms': 4406, 'unintentionally': 4659, 'boy': 557, 'comments': 901, 'got': 1944, 'those': 4460, 'slightly': 4029, 'lips': 2615, 'away': 369, 'played': 3297, 'career': 686, 'looks': 2649, 'today': 4508, 'mainstream': 2709, 'soft': 4051, 'core': 995, 'porn': 3336, 'well': 4843, 'course': 1019, 'girls': 1911, 'wear': 4830, 'lets': 2580, 'forget': 1793, 'female': 1693, 'members': 2801, 'shown': 3959, 'bare': 398, 'wet': 4855, 'suicide': 4283, 'dramatic': 1348, 'truly': 4597, 'maybe': 2776, 'wrong': 4973, 'felt': 1692, 'primary': 3394, 'target': 4366, 'women': 4923, 'dressed': 1358, 'often': 3095, 'covers': 1024, 'police': 3322, 'detective': 1220, 'novels': 3053, 'guy': 2000, 'central': 735, 'focus': 1766, 'likes': 2602, 'think': 4452, 'meant': 2784, 'featuring': 1681, 'accompanied': 86, 'pretentious': 3383, 'scores': 3823, 'written': 4972, 'every': 1539, 'spoken': 4126, 'word': 4937, 'laughing': 2533, 'rolled': 3729, 'rest': 3657, 'strength': 4219, 'sometimes': 4067, 'able': 66, 'switch': 4339, 'mind': 2849, 'thats': 4425, 'imagine': 2238, 'count': 1010, 'dracula': 1341, 'cause': 723, 'ran': 3513, 'bullets': 621, 'neither': 2996, 'practically': 3362, 'eat': 1411, 'skin': 4015, 'use': 4692, 'human': 2188, 'four': 1812, 'gang': 1867, 'overly': 3155, 'music': 2946, 'someone': 4064, 'took': 4523, 'seriously': 3892, 'ends': 1474, 'remaining': 3610, 'already': 197, 'ruined': 3751, 'mediocre': 2791, 'laughable': 2530, 'screenplay': 3831, 'sure': 4308, 'amusing': 221, 'moments': 2887, 'apart': 264, 'fresh': 1833, 'stooges': 4200, 'featured': 1679, 'broken': 594, 'groups': 1981, 'larry': 2520, 'team': 4378, 'uninteresting': 4660, 'ladies': 2506, 'ones': 3108, 'ability': 65, 'another': 250, 'group': 1980, 'musical': 2947, 'unfunny': 4655, 'unless': 4669, 'consider': 949, 'attempts': 343, 'sadly': 3769, 'tiresome': 4502, 'cars': 702, 'horses': 2171, 'western': 4853, 'obviously': 3072, 'level': 2584, 'appears': 278, 'early': 1400, 'loved': 2670, 'guys': 2001, 'non': 3027, 'stuff': 4243, 'lousy': 2667, 'american': 213, 'frankly': 1823, 'hed': 2072, 'im': 2232, 'italian': 2367, 'cannot': 670, 'proud': 3444, 'country': 1014, 'reasons': 3560, 'wouldnt': 4958, 'french': 1830, 'besides': 468, 'protagonist': 3441, 'fall': 1637, 'desire': 1205, 'fellow': 1691, 'against': 147, 'players': 3299, 'act': 97, 'poorly': 3329, 'hated': 2047, 'dead': 1132, 'society': 4050, 'atmosphere': 333, 'hate': 2046, 'grew': 1972, 'inspector': 2299, 'gadget': 1860, 'cartoon': 704, 'kid': 2464, 'smart': 4035, 'kids': 2467, 'bumbling': 622, 'solve': 4060, 'walking': 4779, 'talking': 4360, 'dog': 1310, 'brain': 562, 'heard': 2062, 'live': 2625, 'library': 2589, 'rented': 3628, 'free': 1827, 'paid': 3169, 'near': 2979, 'caliber': 649, 'don': 1320, 'adams': 112, 'looked': 2647, 'version': 4720, 'blonde': 511, 'job': 2405, 'gives': 1914, 'odd': 3080, 'messages': 2820, 'talked': 4359, 'fine': 1729, 'intelligent': 2314, 'idiot': 2218, 'halfway': 2008, 'worked': 4941, 'completely': 922, 'always': 203, 'sounds': 4084, 'lame': 2510, 'upset': 4687, 'showed': 3956, 'correct': 1000, 'gags': 1862, 'during': 1387, 'credits': 1050, 'front': 1841, 'support': 4303, 'richard': 3686, 'aka': 168, 'jaws': 2385, 'bond': 532, 'fame': 1642, 'alike': 185, 'laughed': 2532, 'checking': 778, 'tells': 4397, 'voices': 4763, 'please': 3304, 'leave': 2555, 'sound': 4081, 'nice': 3008, 'piece': 3272, 'nostalgia': 3038, 'hear': 2061, 'voiced': 4762, 'stupid': 4247, 'over': 3148, '13': 4, 'wont': 4932, 'cartoons': 705, 'bugs': 613, 'space': 4090, 'included': 2262, 'tunes': 4603, 'episode': 1507, 'reasonably': 3559, 'animation': 242, 'weird': 4841, 'prepared': 3371, 'boring': 543, 'sent': 3880, 'earth': 1403, 'creature': 1045, 'bring': 585, 'mars': 2746, 'sets': 3899, 'tracks': 4545, 'rabbit': 3498, 'treats': 4575, 'thinking': 4453, 'trick': 4582, 'costumes': 1006, 'realise': 3548, 'themselves': 4435, 'beginning': 443, 'likely': 2601, 'enjoy': 1484, 'hitchcock': 2123, 'opinion': 3118, 'audiences': 353, 'arent': 288, 'interested': 2324, 'puts': 3481, 'protagonists': 3442, 'danger': 1109, 'escape': 1517, 'proves': 3447, '100': 1, 'believe': 454, 'jean': 2389, 'simmons': 3981, 'guilty': 1995, 'crime': 1055, 'howard': 2182, 'body': 527, 'our': 3139, 'charismatic': 763, 'jumping': 2431, 'across': 96, 'rocks': 3722, 'unnecessary': 4672, 'stayed': 4167, 'words': 4938, 'wasnt': 4807, 'strong': 4229, 'enjoyable': 1485, 'offers': 3090, 'easy': 1410, 'fair': 1630, 'staying': 4168, 'true': 4596, 'comic': 893, 'providing': 3451, 'low': 2676, 'learning': 2552, 'narration': 2965, 'animated': 241, 'lengthy': 2570, 'replaced': 3634, 'advantage': 129, 'master': 2757, 'years': 4979, 'ago': 154, 'spielberg': 4110, 'comment': 898, 'guess': 1989, 'list': 2617, 'acts': 107, 'realism': 3549, 'drama': 1346, 'happened': 2027, 'world': 4946, 'badly': 383, 'appreciate': 279, 'degree': 1164, 'creativity': 1042, 'affected': 137, 'entire': 1502, 'fathers': 1667, 'choice': 797, 'cheap': 774, 'spirit': 4113, 'again': 146, 'flow': 1762, 'easily': 1406, 'avoided': 364, 'similarly': 3980, 'sex': 3907, 'creative': 1041, 'faithful': 1634, 'song': 4071, 'ok': 3098, 'silver': 3977, 'dark': 1115, 'stands': 4147, 'himself': 2111, 'positive': 3346, 'deserves': 1201, 'credit': 1049, 'dance': 1103, 'somewhere': 4069, 'mistaken': 2872, 'tune': 4602, 'changed': 750, 'modern': 2882, 'happens': 2029, 'bollywood': 530, 'makers': 2715, 'increasingly': 2268, 'obsessed': 3069, 'entertainment': 1500, 'market': 2740, 'india': 2273, 'nor': 3032, 'tour': 4538, 'force': 1786, 'wild': 4885, 'biggest': 480, 'indie': 2276, 'plays': 3301, 'local': 2634, 'meets': 2795, 'jamie': 2379, 'stunning': 4244, 'beach': 419, 'complex': 923, 'ill': 2228, 'mother': 2911, 'aunt': 355, 'sister': 4001, 'whom': 4875, 'falling': 1639, 'narrative': 2966, 'flash': 1745, 'bits': 490, 'pieces': 3273, 'present': 3374, 'forward': 1808, 'movement': 2923, 'future': 1856, 'director': 1264, 'period': 3236, 'difficult': 1249, 'follow': 1772, 'stick': 4185, 'final': 1722, '45': 50, 'minutes': 2859, 'turns': 4609, 'breaking': 570, 'ranks': 3519, 'beautiful': 428, 'must': 2950, 'cinema': 816, 'tale': 4353, 'married': 2744, 'couple': 1016, 'named': 2961, 'virginia': 4750, 'jeff': 2390, 'tried': 4584, 'five': 1743, 'desperate': 1208, 'child': 789, 'dr': 1340, 'james': 2378, 'karen': 2444, 'help': 2079, 'recommended': 3572, 'friends': 1837, 'success': 4265, 'pregnant': 3369, 'picture': 3269, 'develops': 1226, 'problems': 3409, 'becomes': 434, 'moody': 2899, 'totally': 4532, 'receives': 3565, 'phone': 3255, 'call': 651, 'cameron': 661, 'patients': 3212, 'sinister': 3998, 'question': 3487, 'produced': 3414, 'thriller': 4472, 'definitely': 1162, 'sci': 3815, 'fi': 1701, 'pleasantly': 3303, 'surprised': 4313, 'script': 3834, 'henry': 2084, 'psychological': 3458, 'scares': 3806, 'works': 4945, 'basic': 406, 'fears': 1677, 'moves': 2925, 'along': 195, 'pace': 3161, 'packed': 3166, 'means': 2783, 'climax': 849, 'seemed': 3862, 'fitting': 1742, 'round': 3742, 'relevant': 3604, 'knew': 2486, 'us': 4690, 'side': 3965, 'exploitation': 1592, 'elements': 1443, 'dialogue': 1234, 'driven': 1365, 'mostly': 2910, 'focusing': 1769, 'black': 493, 'stylish': 4251, 'visually': 4758, 'fully': 1847, 'revealed': 3671, 'blood': 512, 'gore': 1941, 'existent': 1572, 'memorable': 2802, 'relies': 3606, 'storytelling': 4209, 'week': 4837, 'technically': 4382, 'id': 2212, 'budget': 610, 'bland': 500, 'baby': 376, 'fairly': 1631, 'realistic': 3550, 'facial': 1619, 'jobs': 2406, '2004': 34, 'lisa': 2616, 'honest': 2146, 'widely': 4881, 'crap': 1031, 'video': 4733, 'shop': 3945, 'fan': 1648, 'provoking': 3452, 'followed': 1773, 'ii': 2226, 'straight': 4210, 'check': 777, 'saw': 3798, 'waters': 4817, 'overlooked': 3154, 'short': 3946, 'cash': 709, 'bank': 394, 'runs': 3757, 'passes': 3203, 'blank': 501, 'uses': 4697, 'million': 2847, 'ironically': 2356, 'belongs': 460, 'gave': 1875, 'mansion': 2731, 'hes': 2093, 'working': 4944, 'assistant': 326, 'wealthy': 4827, 'computer': 927, 'crazy': 1035, 'paper': 3183, 'idea': 2213, 'incredible': 2269, 'draw': 1349, 'twelve': 4611, 'year': 4978, 'thirty': 4456, 'charge': 761, 'persons': 3244, 'small': 4033, 'shallow': 3917, 'predictable': 3367, 'either': 1438, 'cheesy': 781, 'annoying': 249, 'youre': 4992, 'received': 3564, 'press': 3379, 'taken': 4350, 'camp': 662, 'army': 295, 'darkness': 1117, 'fails': 1628, 'qualities': 3483, 'campy': 664, 'important': 2247, 'believable': 453, 'fantasy': 1652, 'whats': 4860, 'humor': 2192, 'situation': 4008, 'incredibly': 2270, 'absurd': 73, 'new': 3003, 'twists': 4619, 'reactions': 3542, 'inevitably': 2283, 'trap': 4563, 'amongst': 218, 'destruction': 1216, 'chased': 770, 'wanna': 4786, 'hot': 2174, 'chick': 786, 'each': 1395, 'others': 3136, 'faces': 1618, 'issues': 2365, 'plague': 3285, 'uwe': 4703, 'boll': 529, 'add': 115, 'shot': 3949, 'randomly': 3515, 'whenever': 4863, 'shoots': 3944, 'artistic': 308, 'further': 1853, 'frequent': 1831, 'numerous': 3062, 'examples': 1554, 'seemingly': 3863, 'guide': 1993, 'events': 1536, 'leaving': 2557, 'redeeming': 3577, 'avoid': 363, '25': 40, 'struggle': 4234, 'winter': 4900, 'thrown': 4481, 'womans': 4922, 'read': 3543, 'parents': 3188, 'died': 1244, 'farm': 1656, 'feed': 1683, 'learned': 2551, 'afraid': 140, 'prince': 3396, 'sun': 4292, 'hands': 2020, 'husband': 2204, 'happy': 2032, 'wife': 4884, 'both': 547, 'build': 614, 'home': 2142, 'sad': 3767, 'am': 204, 'tragedy': 4551, 'extra': 1606, 'crying': 1074, 'successfully': 4267, 'pulled': 3462, 'spring': 4134, 'boys': 559, 'lived': 2626, 'terrible': 4407, 'seeing': 3857, 'methods': 2825, 'create': 1036, 'scare': 3803, 'total': 4531, 'psychotic': 3459, 'murders': 2943, 'patient': 3211, 'doctor': 1304, 'michael': 2829, 'caine': 647, 'high': 2100, 'prostitute': 3440, 'nancy': 2964, 'allen': 188, 'glimpse': 1919, 'son': 4070, 'gordon': 1940, 'catch': 714, 'bloody': 513, 'usually': 4700, 'splatter': 4118, 'crafted': 1029, 'writer': 4968, 'takes': 4351, 'mans': 2730, 'abilities': 64, 'successful': 4266, 'involved': 2346, 'notice': 3048, 'standard': 4144, 'masters': 2761, 'pictures': 3270, 'professional': 3421, 'cast': 710, 'ex': 1549, 'carrie': 697, 'dancer': 1104, 'turned': 4606, 'rachel': 3500, 'pulls': 3464, 'typically': 4624, 'striking': 4226, 'score': 3822, 'depressing': 1188, 'aids': 161, 'continues': 971, 'throughout': 4478, 'waiting': 4772, 'pick': 3265, 'nudity': 3059, 'due': 1382, 'quality': 3484, 'lack': 2502, 'missed': 2867, 'gay': 1876, 'mill': 2845, 'obscure': 3068, 'delivers': 1172, 'shall': 3916, 'classes': 834, 'surface': 4310, 'homeless': 2143, 'europe': 1529, 'war': 4792, 'selfish': 3870, 'care': 684, 'chooses': 800, 'fairy': 1632, 'cinderella': 815, 'upon': 4684, 'set': 3898, 'anywhere': 263, 'bone': 533, 'begin': 442, 'grant': 1956, 'delight': 1167, 'neo': 2998, 'creates': 1038, 'breaks': 571, 'hope': 2155, 'despite': 1211, 'began': 441, 'songs': 4072, 'broadway': 592, 'loves': 2674, 'excellent': 1555, 'theatre': 4429, 'paris': 3189, 'remains': 3611, 'beat': 423, 'fashion': 1659, '30s': 44, '40s': 49, 'hollywood': 2137, 'attention': 345, 'detail': 1217, 'ensemble': 1492, 'leads': 2548, 'etc': 1527, 'yes': 4982, 'youd': 4987, 'rick': 3689, 'theyd': 4443, 'rich': 3685, 'cake': 648, 'mixture': 2878, 'below': 462, 'jimmy': 2403, 'stewart': 4184, 'maggie': 2702, 'ideal': 2214, 'shine': 3931, 'performances': 3229, 'frank': 1821, 'morgan': 2905, 'felix': 1689, 'joseph': 2419, 'andy': 230, 'factor': 1622, 'touch': 4533, 'tad': 4347, 'naive': 2958, 'innocent': 2294, 'age': 148, 'genuine': 1891, 'lovers': 2673, 'days': 1130, 'stories': 4205, 'style': 4249, 'skill': 4013, 'dvd': 1391, 'classics': 837, 'available': 361, 'matrix': 2767, 'expectations': 1576, 'virus': 4752, 'resident': 3647, 'difference': 1246, 'photo': 3257, 'ring': 3698, 'stop': 4201, 'spread': 4133, 'standing': 4146, 'famous': 1647, 'pearl': 3220, 'bucks': 606, 'splendid': 4119, 'grade': 1951, 'history': 2121, 'class': 833, 'enjoyed': 1486, 'thrilling': 4474, 'page': 3167, 'inevitable': 2282, 'hold': 2129, 'considering': 952, 'certain': 737, 'casting': 711, 'asian': 314, 'product': 3418, 'authentic': 358, 'overcome': 3151, 'executive': 1567, 'producer': 3415, 'sidney': 3968, 'among': 217, 'trouble': 4592, 'hand': 2015, 'stellar': 4174, 'paul': 3214, 'actor': 103, 'past': 3207, 'makeup': 2717, 'mistake': 2871, 'chinese': 796, 'oscar': 3133, 'win': 4892, 'rise': 3702, 'experience': 1580, 'won': 4925, 'criticism': 1063, 'wooden': 4934, 'note': 3044, 'truth': 4599, 'buck': 605, 'wrote': 4974, 'witnessed': 4915, 'pay': 3216, 'marriage': 2743, 'somewhat': 4068, 'wealth': 4826, 'flesh': 1753, 'feelings': 1686, 'mere': 2814, 'returns': 3668, 'realizing': 3555, 'late': 2523, 'corny': 997, 'might': 2835, 'opened': 3113, 'screams': 3828, 'laughter': 2535, 'worn': 4948, 'surprisingly': 4316, 'disaster': 1276, 'documentary': 1307, 'perspective': 3245, 'sexual': 3908, 'revolution': 3680, '1968': 16, 'released': 3603, 'touched': 4534, 'documentaries': 1306, 'capturing': 679, '20': 29, 'expressed': 1601, 'empathy': 1462, 'pain': 3170, 'joy': 2422, 'pleasure': 3306, 'itself': 2371, 'diamond': 1236, 'understanding': 4645, 'impact': 2244, 'earlier': 1399, 'medical': 2790, 'political': 3324, 'social': 4049, 'culture': 1079, '15': 7, 'disease': 1285, 'heck': 2071, 'feels': 1687, 'accident': 84, 'judging': 2425, 'reviews': 3679, 'charm': 767, 'jones': 2418, 'ugly': 4625, 'determined': 1221, 'doing': 1312, 'washington': 4806, 'training': 4558, 'danes': 1108, 'holding': 2130, 'form': 1798, 'supporting': 4304, 'requires': 3642, 'considerable': 950, 'range': 3516, 'key': 2458, 'achievement': 94, 'perhaps': 3235, 'surprising': 4315, 'aspects': 322, 'veteran': 4724, 'storyline': 4208, 'silence': 3974, 'save': 3794, 'backdrop': 379, 'development': 1225, 'settle': 3902, 'caring': 691, 'photography': 3260, 'adequate': 120, 'movements': 2924, 'cutting': 1092, 'guessed': 1990, 'large': 2517, 'worth': 4953, 'disappointed': 1273, 'toilet': 4512, 'science': 3816, 'fiction': 1702, 'aware': 368, 'release': 3602, 'allow': 189, 'assumed': 329, 'sophisticated': 4075, 'alice': 182, 'figure': 1711, 'buy': 640, 'disappointment': 1275, 'premise': 3370, 'device': 1227, 'opposed': 3122, 'philosophical': 3253, 'parallel': 3185, 'worlds': 4947, 'alternate': 200, 'bought': 552, 'break': 569, 'rescue': 3643, 'matters': 2770, 'martial': 2747, 'arts': 310, 'exercise': 1568, 'problem': 3408, 'types': 4622, 'romance': 3732, 'extent': 1605, 'chase': 769, 'negative': 2991, 'superman': 4301, 'bother': 548, 'draws': 1352, 'young': 4989, 'redemption': 3578, 'aspect': 321, 'hundred': 2195, 'handled': 2019, 'trite': 4589, 'wondering': 4930, 'sitting': 4007, 'fest': 1696, 'bored': 541, 'getting': 1901, 'franchise': 1817, 'soap': 4047, 'opera': 3116, 'satisfying': 3791, 'viewed': 4737, 'landscapes': 2514, 'international': 2326, 'festival': 1697, 'drawn': 1351, 'photographer': 3259, 'familiar': 1643, 'message': 2819, 'subsequent': 4257, 'popular': 3333, 'reason': 3557, '75': 57, 'god': 1926, 'sick': 3963, 'america': 212, 'anime': 243, 'usa': 4691, 'produce': 3413, 'lazy': 2543, 'ass': 323, 'drawing': 1350, 'japanese': 2382, 'rip': 3700, 'beating': 425, 'anymore': 258, 'oh': 3096, 'night': 3013, 'uk': 4626, 'came': 656, 'date': 1118, 'current': 1084, 'brilliant': 583, 'started': 4157, 'pacing': 3163, 'slow': 4031, 'meeting': 2794, 'gradually': 1952, 'engaged': 1480, 'fantastic': 1651, 'writing': 4971, 'extremely': 1610, 'simple': 3983, 'natural': 2973, 'convincing': 985, 'hearted': 2065, 'struggling': 4236, 'presented': 3376, 'ordinary': 3128, 'helping': 2081, 'loving': 2675, 'protect': 3443, 'portrays': 3344, 'whether': 4866, 'naturally': 2974, 'ease': 1404, 'rural': 3758, 'impressive': 2253, 'portrayal': 3341, 'relationships': 3598, 'interest': 2323, 'ready': 3546, 'immensely': 2243, 'portrayed': 3342, 'interaction': 2322, 'calls': 654, 'occasion': 3073, 'performed': 3230, 'khan': 2459, 'stand': 4143, 'according': 88, 'mothers': 2912, 'outstanding': 3147, 'dialogues': 1235, 'sort': 4077, 'mainly': 2708, 'overdone': 3152, 'melodramatic': 2798, 'larger': 2519, 'delightful': 1168, 'concept': 930, 'manages': 2725, 'grows': 1985, 'slowly': 4032, 'wonderful': 4928, 'moving': 2928, 'proceedings': 3410, 'company': 910, 'business': 633, 'former': 1800, 'horrendous': 2162, 'carl': 692, 'entirely': 1503, 'namely': 2962, 'southern': 4088, 'cross': 1066, 'added': 116, 'believing': 457, 'dumb': 1385, 'edited': 1420, 'violent': 4748, 'content': 966, 'dubbed': 1379, 'singing': 3995, 'unbearable': 4633, 'compared': 912, 'mrs': 2930, 'hundreds': 2196, 'continuity': 972, 'holes': 2133, 'cool': 989, 'saga': 3773, 'whatever': 4859, 'talents': 4356, 'efforts': 1433, 'bold': 528, 'creators': 1044, 'eventually': 1537, 'wind': 4893, 'wish': 4904, 'exposed': 1598, 'worthwhile': 4955, 'legendary': 2565, 'creator': 1043, 'intellectual': 2312, 'property': 3438, 'italy': 2368, 'happen': 2026, 'professor': 3422, 'pack': 3165, 'incoherent': 2265, 'mess': 2818, 'minute': 2858, 'throw': 4479, 'naked': 2959, 'hooked': 2153, 'bird': 484, 'pull': 3461, '3000': 43, 'grave': 1962, 'loosely': 2651, 'che': 773, 'fascinating': 1658, 'experiment': 1583, 'extraordinary': 1607, 'del': 1165, 'steven': 4182, 'intention': 2319, 'conventional': 979, 'rules': 3754, 'admire': 121, 'unusual': 4681, 'succeed': 4262, 'includes': 2263, 'told': 4513, 'fail': 1625, 'irrelevant': 2358, 'summary': 4290, 'brave': 567, 'leaves': 2556, 'memories': 2803, 'ideas': 2215, 'thoroughly': 4459, 'blockbuster': 509, 'trash': 4565, 'television': 4394, 'helped': 2080, 'required': 3641, 'warn': 4797, 'matter': 2769, 'yesterday': 4983, 'descent': 1193, 'nyc': 3065, 'sold': 4052, 'patrick': 3213, 'dawson': 1128, 'college': 875, 'environment': 1505, 'parties': 3196, 'quest': 3486, 'apartment': 265, 'dreary': 1356, 'basement': 405, 'lit': 2621, 'reminded': 3619, 'colors': 879, 'proceeds': 3411, 'rape': 3521, 'gritty': 1977, 'follows': 1775, 'lose': 2654, 'soul': 4079, 'drugs': 1374, 'morning': 2906, 'room': 3735, 'saves': 3796, 'saving': 3797, 'introduces': 2338, 'club': 863, 'photographed': 3258, 'extreme': 1609, 'noticed': 3049, 'showing': 3958, 'confusion': 943, 'emotion': 1458, 'shots': 3950, 'emotions': 1461, 'priceless': 3390, 'unfolds': 4651, 'strip': 4228, 'thinks': 4454, 'lucky': 2683, 'excited': 1561, 'younger': 4990, 'viewer': 4738, 'beast': 422, 'rough': 3741, 'performing': 3233, 'revenge': 3675, 'dignity': 1252, 'explained': 1587, 'trust': 4598, 'believes': 456, 'tear': 4379, 'roll': 3728, 'cheek': 779, 'fabulous': 1615, 'constant': 957, 'discussion': 1284, 'wanted': 4789, '17': 9, 'jokes': 2415, 'race': 3499, 'waves': 4819, 'floating': 1758, 'jumps': 2432, 'living': 2629, 'contains': 964, 'convincingly': 986, 'convinced': 984, 'engaging': 1481, 'slick': 4026, 'atmospheric': 334, 'foreign': 1790, 'australian': 357, 'slasher': 4020, 'teenagers': 4391, 'adults': 126, 'becoming': 435, 'creepy': 1052, 'woods': 4935, 'demons': 1178, 'teens': 4392, 'spooky': 4128, 'gory': 1943, 'survivor': 4324, 'built': 618, 'lesbian': 2573, 'kiss': 2483, 'sexually': 3910, 'explicit': 1591, 'nasty': 2968, 'cold': 872, 'decision': 1151, 'compare': 911, 'dialog': 1232, 'witty': 4917, 'delivered': 1170, 'source': 4086, 'comedy': 890, 'material': 2766, 'paltrow': 3178, 'credible': 1048, 'consistent': 953, 'irritating': 2359, 'repeated': 3631, 'honestly': 2147, 'appeared': 276, 'cinematography': 820, 'utterly': 4702, 'gorgeous': 1942, 'manner': 2729, 'prefer': 3368, 'entertain': 1497, 'finish': 1732, 'brief': 579, 'language': 2516, 'nick': 3012, 'attractive': 351, 'cover': 1022, 'vhs': 4725, 'expecting': 1578, 'teen': 4388, 'clichés': 846, 'dreadful': 1353, 'points': 3319, 'six': 4010, 'indeed': 2271, 'enemies': 1476, 'senseless': 3878, 'motives': 2916, 'eve': 1532, 'insulting': 2310, 'deserve': 1199, 'advice': 133, 'garbage': 1870, 'certainly': 738, 'regret': 3591, 'vote': 4766, 'title': 4504, 'brazil': 568, 'channel': 753, 'town': 4541, 'represented': 3638, 'track': 4544, 'hadnt': 2004, 'wacky': 4769, 'cops': 993, 'cameras': 660, 'quirky': 3493, 'number': 3060, 'mark': 2739, 'cult': 1077, 'hit': 2122, 'acceptable': 81, 'alien': 183, 'humour': 2194, 'appeal': 271, 'currently': 1085, 'similar': 3978, 'planet': 3289, '80s': 59, 'flat': 1748, 'sat': 3786, 'rob': 3710, 'hints': 2113, 'absolute': 71, 'insult': 2309, 'amanda': 205, 'pays': 3218, 'fictional': 1703, 'longer': 2645, 'politics': 3326, 'media': 2789, 'running': 3756, 'close': 853, 'following': 1774, 'damon': 1101, 'traditional': 4550, 'morality': 2903, 'reality': 3551, 'fear': 1676, 'government': 1948, 'system': 4345, 'national': 2970, 'security': 3854, 'generated': 1882, 'graphics': 1959, 'advanced': 128, 'digital': 1251, 'ben': 463, 'richards': 3687, 'image': 2233, 'onto': 3111, 'double': 1331, 'numbers': 3061, 'civil': 826, 'public': 3460, 'event': 1535, 'regardless': 3590, 'intent': 2318, 'stephen': 4176, 'king': 2479, 'safe': 3771, 'website': 4834, 'forgotten': 1797, 'station': 4164, '70s': 56, 'wide': 4880, 'bell': 458, 'hair': 2005, 'gem': 1877, 'era': 1513, 'glory': 1922, 'bound': 553, 'forces': 1788, 'universe': 4666, 'porno': 3337, 'opening': 3114, 'monsters': 2893, 'painful': 3171, 'school': 3813, 'ship': 3934, 'attack': 337, 'path': 3209, 'moved': 2922, 'menacing': 2807, 'thin': 4449, 'capable': 672, 'wood': 4933, 'scientific': 3817, 'information': 2288, 'cup': 1080, 'joe': 2407, 'ice': 2210, 'bottle': 550, 'refreshing': 3586, 'pops': 3332, 'scientist': 3818, 'apparently': 270, 'amateur': 206, 'string': 4227, 'theory': 4437, 'recording': 3575, 'transfer': 4559, 'theater': 4427, 'quick': 3490, 'backgrounds': 381, 'nicely': 3009, 'art': 304, 'details': 1219, 'studio': 4240, 'standards': 4145, 'higher': 2101, 'tedious': 4387, 'scott': 3824, 'setting': 3900, 'tend': 4400, 'visual': 4757, 'average': 362, 'secrets': 3852, 'city': 825, 'common': 906, 'theme': 4433, 'values': 4710, 'record': 3573, 'intriguing': 2335, 'hardly': 2036, 'starring': 4154, 'abusive': 75, 'mental': 2808, 'kills': 2474, 'killed': 2469, 'buried': 624, 'blues': 519, 'singer': 3993, 'sidekick': 3966, 'sticks': 4186, 'nose': 3037, 'popcorn': 3331, 'flying': 1764, 'beer': 439, 'brutal': 603, 'highlight': 2103, 'breasts': 572, 'feature': 1678, 'yourself': 4993, 'elvira': 1450, 'leader': 2546, 'held': 2074, 'sin': 3988, 'bottom': 551, 'fascinated': 1657, 'reaction': 3541, 'turning': 4608, 'cuba': 1075, 'toward': 4539, 'fat': 1663, 'cats': 721, 'throat': 4476, 'older': 3101, 'urban': 4688, 'street': 4216, 'meet': 2793, 'julie': 2428, 'peter': 3247, 'adam': 111, 'hunting': 2201, 'manage': 2722, 'upper': 4685, 'physical': 3262, 'haunted': 2050, 'row': 3744, 'clichéd': 845, 'catherine': 719, 'above': 68, 'flaws': 1752, 'wholly': 4874, 'crucial': 1068, 'occurs': 3078, 'features': 1680, 'created': 1037, 'fancy': 1649, 'fix': 1744, 'mix': 2876, 'techniques': 4384, 'location': 2635, 'lighting': 2596, 'victim': 4729, 'forth': 1804, 'cuts': 1091, 'needed': 2988, 'greatly': 1967, 'similarities': 3979, 'approach': 282, 'tony': 4521, 'effectively': 1430, 'arrives': 302, 'iron': 2354, 'wall': 4781, 'section': 3853, 'heavy': 2070, 'primarily': 3393, 'writes': 4970, 'suspenseful': 4331, 'desired': 1206, 'nightmares': 3015, 'menace': 2806, 'exists': 1573, 'stress': 4220, 'romantic': 3733, 'destroy': 1213, 'neighborhood': 2993, 'blame': 499, 'health': 2060, 'corporate': 998, 'normal': 3033, 'desperation': 1210, 'meaningful': 2781, 'learn': 2550, 'nervous': 2999, 'failing': 1627, 'fond': 1776, 'psycho': 3457, 'thrillers': 4473, 'depth': 1190, 'plenty': 3307, 'spending': 4106, '30': 42, 'price': 3389, 'asking': 318, 'copy': 994, 'rental': 3627, 'belong': 459, 'thoughts': 4464, 'everyday': 1541, 'adventures': 131, 'overall': 3150, 'depressed': 1187, 'state': 4160, 'apparent': 269, 'ourselves': 3140, 'moral': 2902, 'havent': 2053, 'finished': 1733, 'stopped': 4202, 'account': 89, 'promising': 3433, 'corner': 996, 'homosexual': 2145, 'suffered': 4276, 'meaning': 2780, 'hopes': 2159, 'cliché': 844, 'ridden': 3691, 'quotes': 3497, 'cinematographer': 819, 'attempting': 342, 'tired': 4501, 'watchable': 4812, 'decided': 1149, 'include': 2261, 'via': 4726, 'drivel': 1364, 'plain': 3286, 'mine': 2853, 'credibility': 1047, 'rubbish': 3748, 'bela': 450, 'lugosi': 2686, 'background': 380, 'mexican': 2826, 'english': 1483, 'reminiscent': 3621, 'type': 4621, 'seventies': 3904, 'edgar': 1417, 'karloff': 2445, 'search': 3841, 'curse': 1086, 'thru': 4483, 'touches': 4535, 'pointless': 3318, 'spend': 4105, 'staring': 4152, 'window': 4894, 'cost': 1003, 'german': 1896, 'command': 897, 'struck': 4232, 'intense': 2316, 'minds': 2852, '14': 6, 'league': 2549, 'nations': 2971, 'americans': 214, 'intrigue': 2333, 'hilariously': 2107, 'friday': 1834, 'terrorists': 4414, 'carrying': 701, 'weapons': 4829, 'eating': 1413, 'dinosaurs': 1256, 'incompetent': 2266, 'led': 2558, 'colonel': 876, 'joey': 2408, 'shooting': 3943, 'giant': 1905, 'lights': 2597, 'attacks': 339, 'park': 3190, 'aliens': 184, 'adventure': 130, 'stinks': 4192, 'ludicrous': 2685, 'tongue': 4518, 'quiet': 3492, 'noise': 3024, 'ego': 1435, 'sounding': 4083, 'tie': 4488, 'merit': 2816, 'actions': 101, 'robbins': 3712, 'annoyed': 248, 'nobody': 3022, 'urge': 4689, 'baseball': 403, 'contrived': 976, 'needless': 2989, 'rolling': 3730, 'shortly': 3947, 'essentially': 1523, 'angry': 238, 'dude': 1381, 'hero': 2088, 'transformation': 4560, 'commentary': 899, 'self': 3869, 'satisfied': 3789, 'relatives': 3601, 'wed': 4835, 'department': 1182, 'literally': 2622, 'hasnt': 2044, 'rank': 3518, 'christmas': 810, 'titled': 4505, 'turkey': 4604, 'hours': 2177, 'walked': 4776, 'youll': 4988, 'feeling': 1685, 'wasted': 4809, 'shouldnt': 3952, 'justice': 2438, 'victims': 4730, 'dennis': 1179, 'david': 1124, 'lawyer': 2541, 'suffers': 4278, 'concerning': 933, 'steal': 4170, 'stones': 4198, 'painting': 3175, 'bizarre': 492, 'rain': 3506, 'rock': 3720, 'bright': 581, 'blue': 518, 'hits': 2125, 'australia': 356, 'closer': 856, 'taking': 4352, 'realize': 3552, 'stone': 4197, 'represent': 3637, 'trial': 4580, 'charlie': 765, 'conversations': 981, 'chris': 806, 'horrors': 2169, 'builds': 617, 'unpredictable': 4675, 'overwhelming': 3157, 'images': 2235, 'doom': 1326, 'compelling': 916, 'angle': 236, 'journey': 2421, 'men': 2805, 'commit': 904, 'occur': 3076, 'wes': 4851, 'fox': 1814, 'granted': 1957, 'anderson': 227, 'animals': 240, 'harsh': 2040, 'choose': 799, 'buddies': 608, 'names': 2963, 'consists': 955, 'cameo': 657, 'appearances': 275, 'south': 4087, 'england': 1482, 'stereotypical': 4180, 'accents': 79, 'funeral': 1849, 'speaks': 4096, 'elizabeth': 1445, 'georges': 1894, 'widow': 4883, 'comfortable': 892, 'grown': 1984, 'children': 792, '12': 3, 'band': 391, 'yellow': 4981, 'red': 3576, 'dress': 1357, 'afternoon': 144, 'practice': 3363, 'amazed': 208, 'encounters': 1467, 'ian': 2209, 'aging': 153, 'attracted': 349, '50': 51, 'reunion': 3669, 'member': 2800, 'jail': 2376, 'states': 4163, 'surviving': 4323, 'share': 3920, 'flashbacks': 1747, 'london': 2641, 'filled': 1715, 'friendship': 1838, 'blow': 514, 'afterwards': 145, 'sentimental': 3882, 'term': 4405, 'cringe': 1059, 'rate': 3526, 'wonders': 4931, 'broad': 590, 'leslie': 2574, 'sings': 3997, 'unique': 4662, 'jazz': 2387, 'program': 3424, 'wwii': 4975, 'joke': 2414, 'audio': 354, 'pathetic': 3210, 'latest': 2526, 'embarrassment': 1455, 'return': 3665, 'block': 508, 'canada': 666, 'filmmakers': 1720, '40': 48, 'personally': 3243, 'spots': 4132, 'grow': 1982, 'rats': 3531, 'accidentally': 85, 'par': 3184, 'variety': 4714, 'empire': 1464, 'themes': 4434, 'sexuality': 3909, 'multi': 2935, 'talented': 4355, 'ralph': 3510, 'analysis': 224, 'coffee': 870, 'issue': 2364, 'picked': 3266, 'spends': 4107, 'lynch': 2691, 'subtlety': 4261, 'instance': 2304, 'bay': 416, 'birds': 485, 'deeply': 1156, 'notch': 3043, 'awesome': 371, 'favorite': 1671, 'anne': 246, 'glad': 1916, 'struggles': 4235, 'barely': 399, 'finest': 1730, 'mystery': 2956, 'viewing': 4740, 'companion': 909, 'homer': 2144, 'eddie': 1416, 'student': 4238, 'wisdom': 4902, 'appreciated': 280, 'heat': 2067, 'dust': 1388, 'symbolism': 4341, 'land': 2511, 'explore': 1594, 'filmed': 1717, 'reflect': 3584, 'africa': 141, 'comparison': 914, 'emotional': 1459, 'subtle': 4260, 'horrible': 2163, 'christopher': 811, 'walken': 4777, 'humorous': 2193, 'trademark': 4548, 'terribly': 4408, 'fake': 1635, 'awkward': 374, 'eighties': 1437, 'fare': 1655, 'robert': 3713, 'flop': 1760, 'failed': 1626, 'obsession': 3070, 'bringing': 586, 'confusing': 942, 'confused': 941, 'purpose': 3474, 'steps': 4177, 'whoever': 4872, 'nightmare': 3014, 'elm': 1447, 'st': 4137, 'peoples': 3222, 'mini': 2854, 'portraying': 3343, 'helen': 2075, 'hiding': 2099, 'tea': 4373, 'print': 3399, 'latin': 2527, 'extras': 1608, 'bore': 540, 'masterpiece': 2759, '60s': 54, 'los': 2653, 'angeles': 233, 'essence': 1521, 'kudos': 2497, 'dean': 1139, 'locations': 2636, 'forbidden': 1785, '16': 8, '18': 10, 'suspect': 4327, 'restored': 3659, 'spoiler': 4123, 'desert': 1198, 'originally': 3131, 'tame': 4363, 'soundtrack': 4085, 'radio': 3504, 'daring': 1114, 'skills': 4014, 'staged': 4140, 'plane': 3288, 'anti': 254, 'bush': 632, 'versions': 4721, 'figures': 1713, 'nonsense': 3030, 'dick': 1239, 'crush': 1072, 'donald': 1321, 'rarely': 3524, 'aside': 315, 'episodes': 1508, 'coherent': 871, 'finale': 1723, 'notes': 3046, 'lou': 2663, '1990': 24, 'serial': 3889, 'serve': 3893, 'suit': 4284, 'month': 2896, 'design': 1202, 'van': 4713, 'der': 1191, 'leading': 2547, '2nd': 41, 'satan': 3787, '1970s': 17, 'killers': 2471, 'imagination': 2236, 'afford': 138, 'dollar': 1314, 'view': 4736, 'brad': 560, 'pitt': 3280, 'decide': 1148, 'outside': 3146, 'serving': 3897, 'villain': 4744, 'buddy': 609, 'thanks': 4423, 'ride': 3692, 'cities': 823, 'acid': 95, 'throws': 4482, 'smoking': 4040, 'water': 4816, 'dangerous': 1110, 'clothing': 861, 'strikes': 4225, 'earned': 1401, 'universal': 4665, 'bomb': 531, 'ratings': 3530, 'useful': 4694, 'causing': 726, 'models': 2881, 'engage': 1479, 'bag': 384, 'speaking': 4095, 'fly': 1763, 'bodies': 526, 'arnold': 296, 'wins': 4899, 'wise': 4903, 'contained': 963, 'complicated': 925, 'juvenile': 2441, 'amateurish': 207, 'haunting': 2051, 'wait': 4770, 'particularly': 3195, 'wow': 4962, 'speak': 4094, 'korean': 2495, 'sappy': 3784, 'road': 3709, 'dying': 1393, 'loss': 2659, 'westerns': 4854, 'collection': 874, 'celluloid': 731, 'tooth': 4524, 'ultra': 4629, '60': 53, 'virtually': 4751, 'impossible': 2249, 'sit': 4003, 'open': 3112, 'luke': 2687, 'beings': 449, 'speed': 4103, 'dealing': 1136, 'super': 4295, 'complain': 919, 'keeps': 2451, 'store': 4204, 'segment': 3867, 'stanley': 4148, 'clip': 851, 'genius': 1887, 'gene': 1879, 'starred': 4153, 'grace': 1950, 'grasp': 1960, 'deliver': 1169, 'wit': 4908, 'mysteries': 2954, 'happiness': 2031, 'potential': 3355, 'cinematic': 818, 'treatment': 4574, 'pat': 3208, 'commercial': 902, 'demand': 1174, 'blew': 505, 'leo': 2571, 'fulci': 1845, 'change': 749, 'trashy': 4566, 'sword': 4340, 'vaguely': 4706, 'ancient': 225, 'travels': 4569, 'ocean': 3079, 'territory': 4411, 'defined': 1160, 'animal': 239, 'wolf': 4920, 'topless': 4527, 'ensues': 1493, 'wants': 4791, 'magic': 2703, 'sends': 3876, 'various': 4715, 'heroes': 2089, 'attempt': 340, 'hide': 2097, 'mild': 2839, 'fell': 1690, 'air': 164, 'dozen': 1338, 'generic': 1885, 'humans': 2190, 'covered': 1023, 'fights': 1710, 'stilted': 4190, 'unconvincing': 4638, 'yeah': 4977, 'embarrassed': 1453, 'revealing': 3672, 'outfit': 3144, 'magical': 2704, 'within': 4912, 'saved': 3795, 'hills': 2109, 'promises': 3432, 'related': 3594, 'asks': 319, 'legs': 2566, 'lover': 2672, 'outrageous': 3145, 'hunt': 2198, 'meat': 2787, 'random': 3514, 'supposedly': 4307, 'raise': 3507, 'golden': 1934, 'mask': 2752, 'pet': 3246, 'slave': 4022, 'scary': 3807, 'step': 4175, 'womens': 4924, 'rights': 3697, 'creatures': 1046, 'fool': 1779, 'worthy': 4956, 'respect': 3652, 'realizes': 3554, 'aid': 160, 'sudden': 4272, 'fire': 1734, 'multiple': 2936, 'seeking': 3859, 'solid': 4057, 'nonsensical': 3031, 'ripped': 3701, 'hideous': 2098, 'screaming': 3827, 'strangely': 4212, 'focused': 1767, 'kingdom': 2480, 'victoria': 4732, 'queen': 3485, 'knowledge': 2491, 'emily': 1456, 'blunt': 520, 'nomination': 3026, 'oscars': 3134, 'pleased': 3305, 'costume': 1005, 'football': 1783, 'soccer': 4048, 'pass': 3201, 'african': 142, 'rival': 3706, 'therefore': 4439, 'north': 3036, 'remotely': 3623, 'progresses': 3426, 'entertained': 1498, 'stinker': 4191, 'agree': 155, 'figured': 1712, '1990s': 25, 'emma': 1457, '1996': 26, 'finding': 1727, 'husbands': 2205, 'friend': 1835, 'ambitious': 211, 'scheme': 3812, 'fallen': 1638, 'match': 2762, 'partner': 3198, 'committed': 905, 'kate': 2446, 'headed': 2058, 'heroine': 2091, 'gift': 1906, 'classical': 836, 'kenneth': 2455, 'wishing': 4907, 'suitable': 4285, 'wasting': 4810, 'jeremy': 2394, 'largely': 2518, 'equivalent': 1512, 'elaborate': 1439, 'tends': 4402, 'passionate': 3206, 'bigger': 479, 'scale': 3802, 'generally': 1881, 'entertaining': 1499, 'survival': 4320, 'royal': 3746, 'convince': 983, 'influence': 2286, 'box': 555, 'convoluted': 987, 'rushed': 3760, 'subtitles': 4259, 'explanation': 1590, 'constantly': 958, 'colour': 880, 'minimal': 2855, 'treasure': 4571, 'rated': 3527, 'nicholas': 3010, 'cage': 645, 'indian': 2274, 'trilogy': 4586, 'pre': 3365, 'uninspired': 4657, 'da': 1094, 'code': 869, '2006': 36, 'passing': 3204, 'busy': 635, 'brady': 561, 'secret': 3849, 'ruin': 3750, 'thousand': 4465, 'tough': 4537, 'clues': 865, 'humanity': 2189, 'voight': 4764, 'stiff': 4187, 'fault': 1668, 'purchase': 3469, 'rent': 3626, 'walter': 4784, 'ruth': 3763, 'roman': 3731, 'wayne': 4821, 'pal': 3177, 'anthony': 253, 'mann': 2728, 'melodrama': 2797, 'breathtaking': 574, 'scenery': 3810, 'cute': 1090, 'bill': 481, 'river': 3707, 'shelf': 3926, 'courage': 1018, 'counter': 1011, 'pleasant': 3302, 'luck': 2681, 'folks': 1771, 'franco': 1820, 'filmmaker': 1719, 'personal': 3240, 'favorites': 1672, 'stage': 4139, 'downhill': 1336, 'greatest': 1966, 'clue': 864, '80': 58, 'ages': 152, 'superior': 4300, 'stole': 4194, 'agent': 150, 'mitchell': 2875, 'dear': 1140, 'illogical': 2231, 'promise': 3430, 'taught': 4370, 'born': 544, 'tragic': 4552, 'co': 867, 'passion': 3205, 'susan': 4326, 'investigate': 2342, 'mary': 2751, 'presents': 3377, 'facts': 1624, 'paint': 3173, 'influenced': 2287, 'affair': 135, 'basis': 408, 'accused': 91, 'raped': 3522, 'distance': 1294, 'unhappy': 4656, 'inspired': 2301, 'serves': 3895, 'cares': 690, 'flaw': 1749, 'birthday': 487, 'control': 977, 'enjoyment': 1488, 'thus': 4486, 'insight': 2298, 'causes': 725, 'depicts': 1186, 'circumstances': 822, 'criminals': 1058, 'criminal': 1057, 'enemy': 1477, 'teach': 4374, 'physically': 3263, 'russian': 3762, 'none': 3028, 'photos': 3261, 'hint': 2112, 'knock': 2488, 'gratuitous': 1961, 'ms': 2931, 'lifetime': 2594, 'closing': 859, 'ray': 3533, 'vast': 4716, 'majority': 2712, 'considered': 951, 'mundane': 2938, 'vague': 4705, 'routine': 3743, 'laughs': 2534, 'sorts': 4078, 'alongside': 196, 'notably': 3042, 'resulting': 3661, 'mildly': 2840, 'quickly': 3491, 'distant': 1295, 'dynamic': 1394, 'individual': 2277, 'formula': 1802, 'hired': 2117, 'amy': 222, 'unlikely': 4671, 'hopeless': 2158, 'differences': 1247, 'vegas': 4717, 'aforementioned': 139, 'chemistry': 782, 'performers': 3232, 'semi': 3874, 'personality': 3242, 'door': 1328, 'rare': 3523, 'scripts': 3836, 'cultural': 1078, 'necessarily': 2983, 'plastic': 3294, 'capital': 673, 'emotionally': 1460, 'painted': 3174, 'directors': 1266, 'ultimate': 4627, 'failure': 1629, 'purely': 3472, 'value': 4709, 'boat': 523, 'slight': 4027, 'kick': 2460, 'remarkable': 3613, 'comedic': 888, 'ward': 4793, 'curious': 1083, 'surrounded': 4318, 'enter': 1494, 'controversial': 978, 'centered': 733, 'swedish': 4335, 'lena': 2568, 'vietnam': 4735, 'united': 4664, 'teacher': 4375, 'shocking': 3940, 'bergman': 466, 'arguably': 289, 'ford': 1789, 'purposes': 3475, 'shock': 3938, 'theaters': 4428, 'wanting': 4790, 'study': 4242, 'intended': 2315, 'hamlet': 2013, 'von': 4765, 'hoped': 2156, 'everyones': 1543, 'taste': 4369, 'alas': 172, 'ask': 316, 'anybody': 257, 'hardcore': 2034, 'tribute': 4581, 'surfing': 4311, 'favor': 1670, 'pop': 3330, 'furthermore': 1854, 'helicopter': 2076, 'blatant': 502, 'twin': 4615, 'mood': 2898, 'conspiracy': 956, 'nazis': 2978, 'hollow': 2135, 'hitler': 2124, 'burned': 626, 'alright': 198, 'monster': 2892, 'implausible': 2245, 'destroying': 1215, 'sea': 3838, 'plus': 3311, 'hey': 2095, 'ups': 4686, 'logic': 2638, 'shark': 3921, 'hurts': 2203, 'explosion': 1596, 'hospital': 2172, 'corpse': 999, 'honor': 2150, 'captain': 674, 'jonathan': 2417, 'enterprise': 1495, 'alive': 186, 'crew': 1053, 'sub': 4252, 'assigned': 325, 'equipment': 1511, 'shut': 3961, 'kidnapped': 2466, 'process': 3412, 'reaches': 3538, 'spite': 4117, 'trek': 4578, 'cable': 644, 'season': 3843, 'reed': 3580, 'trip': 4588, 'pilot': 3276, 'noted': 3045, 'nine': 3017, 'twisted': 4618, 'hart': 2041, 'jennifer': 2392, 'boyfriend': 558, 'ryan': 3765, 'jessica': 2398, 'douglas': 1334, 'thomas': 4458, 'executed': 1565, '2000': 30, 'suggests': 4282, 'fired': 1735, 'fatal': 1664, 'impressed': 2251, 'magnificent': 2705, 'margaret': 2735, 'underrated': 4642, 'performer': 3231, 'achieve': 92, 'hill': 2108, 'behind': 447, 'carefully': 689, 'develop': 1222, 'effective': 1429, 'severe': 3906, 'motivation': 2914, 'reaching': 3539, 'project': 3427, 'unable': 4631, 'sunday': 4293, 'beauty': 430, 'countless': 1012, 'stereotypes': 4179, 'quote': 3496, 'adapted': 114, 'views': 4742, 'stale': 4141, 'simplistic': 3985, 'blacks': 494, 'ironic': 2355, 'detailed': 1218, 'online': 3109, 'manipulative': 2727, 'reviewers': 3678, 'frequently': 1832, 'profound': 3423, 'regard': 3588, 'racial': 3501, 'gender': 1878, 'aired': 165, 'cop': 991, 'dramas': 1347, 'succeeded': 4263, 'streets': 4217, 'creating': 1039, 'load': 2631, 'abc': 63, 'weve': 4856, 'forced': 1787, 'sandler': 3781, '11': 2, 'dentist': 1180, 'york': 4985, 'knowing': 2490, 'riding': 3695, 'toy': 4542, 'manhattan': 2726, 'chief': 788, 'stuck': 4237, 'smith': 4038, 'mel': 2796, 'brooks': 596, 'kitchen': 2485, 'shadow': 3912, 'empty': 1465, 'laws': 2540, 'partly': 3197, 'pretending': 3382, 'sleep': 4024, 'lord': 2652, 'babe': 375, 'treat': 4572, 'mad': 2696, 'theatrical': 4430, 'touching': 4536, 'dealt': 1138, 'suffering': 4277, 'element': 1442, 'sutherland': 4333, 'judge': 2424, 'serious': 3891, '2002': 32, 'punch': 3466, 'drunk': 1375, 'mindless': 2851, 'torture': 4529, 'prisoners': 3403, 'sucks': 4271, 'occasional': 3074, '1980s': 21, 'talks': 4361, 'wannabe': 4787, 'inept': 2281, 'saturday': 3792, 'suited': 4286, 'thank': 4421, 'goodness': 1938, 'adult': 125, 'edge': 1418, 'princess': 3397, 'clothes': 860, 'inspiring': 2302, 'wonderfully': 4929, 'branagh': 564, 'robin': 3715, 'williams': 4888, 'text': 4419, 'viewers': 4739, 'nevertheless': 3002, 'bette': 471, 'davis': 1126, 'childhood': 790, 'germany': 1898, 'artist': 307, 'hoping': 2160, 'waitress': 4773, 'mildred': 2841, 'basically': 407, 'vicious': 4728, 'shake': 3914, 'miller': 2846, 'kay': 2447, 'lovely': 2671, 'popularity': 3334, 'books': 536, 'confidence': 938, 'returning': 3667, 'helps': 2082, 'treated': 4573, 'sally': 3776, 'philip': 3252, 'dirty': 1268, 'mouth': 2920, 'mighty': 2836, 'associated': 327, 'perfection': 3225, 'proved': 3446, 'push': 3477, 'limits': 2607, 'newspaper': 3006, 'drag': 1342, 'satire': 3788, 'drunken': 1376, 'michelle': 2830, 'occasionally': 3075, 'tiger': 4491, 'dragon': 1344, 'charles': 764, 'murphy': 2944, 'dragged': 1343, 'cat': 713, 'zero': 4996, 'ken': 2453, 'portrait': 3339, 'regular': 3592, 'colorful': 878, 'operation': 3117, 'listen': 2619, 'wondered': 4927, 'samurai': 3779, 'historical': 2119, 'lies': 2591, 'historically': 2120, 'brought': 600, 'banned': 395, 'farce': 1654, 'involving': 2349, 'utter': 4701, 'ignorant': 2223, 'demented': 1176, 'thick': 4447, 'existed': 1570, 'highlights': 2104, 'provides': 3450, 'provided': 3449, 'dedicated': 1153, 'chilling': 794, 'surely': 4309, 'roy': 3745, 'cg': 739, 'hire': 2116, 'improved': 2255, 'crude': 1069, 'barbara': 397, 'streisand': 4218, 'pride': 3391, 'productions': 3420, 'spiritual': 4116, 'seasons': 3844, 'suppose': 4305, 'sadistic': 3768, 'gothic': 1945, 'cgi': 740, 'alex': 179, 'lesson': 2577, 'disappointing': 1274, 'producers': 3416, 'dies': 1245, 'offered': 3088, 'costs': 1004, '50s': 52, 'anyways': 262, 'grandmother': 1955, 'betty': 474, 'slightest': 4028, 'destroyed': 1214, 'blah': 496, 'tears': 4380, 'hitting': 2126, 'continued': 970, 'twilight': 4614, 'zone': 4999, 'fourth': 1813, 'understated': 4646, 'changing': 752, 'viewings': 4741, 'frustrated': 1842, 'aged': 149, 'fortunately': 1805, 'sympathetic': 4342, 'donna': 1323, 'reminds': 3620, 'cleverly': 842, 'sucked': 4270, 'prove': 3445, 'allowed': 190, 'testament': 4417, 'combine': 884, 'enormous': 1490, 'creation': 1040, 'matthau': 2771, 'consistently': 954, 'greek': 1970, 'chorus': 803, 'exist': 1569, 'boss': 546, 'worker': 4942, 'service': 3896, 'comedies': 889, 'uneven': 4649, 'handful': 2017, 'sheer': 3925, 'brilliance': 582, 'snow': 4045, 'endless': 1473, 'bus': 631, 'noble': 3021, 'sneak': 4043, 'preview': 3386, 'choices': 798, 'innovative': 2295, 'filming': 1718, 'threw': 4470, 'display': 1291, 'decade': 1144, 'videos': 4734, 'jackson': 2375, 'freak': 1824, 'artists': 309, 'parody': 3192, 'household': 2179, 'smooth': 4041, 'choreographed': 801, 'beats': 426, 'defend': 1158, 'deep': 1154, 'burn': 625, 'paying': 3217, 'funniest': 1851, 'teenage': 4389, 'favourite': 1673, 'mike': 2838, 'manager': 2724, 'twist': 4617, 'soldier': 4053, 'poster': 3353, 'walls': 4783, 'bands': 392, 'iran': 2350, 'heres': 2087, 'brothers': 599, 'luckily': 2682, 'direct': 1258, 'eccentric': 1414, 'edie': 1419, 'interviews': 2330, 'madness': 2698, 'inner': 2292, 'importance': 2246, 'shocked': 3939, 'excitement': 1562, 'outcome': 3142, 'initially': 2291, 'dvds': 1392, 'flawless': 1751, 'industry': 2280, 'guard': 1988, 'blown': 516, 'matched': 2763, 'timeless': 4496, 'dawn': 1127, 'adaptation': 113, 'closely': 855, 'beloved': 461, 'evening': 1534, 'author': 359, 'bear': 420, 'resemblance': 3645, 'bride': 577, 'harris': 2038, 'ann': 244, 'obnoxious': 3067, 'stay': 4166, 'post': 3352, 'scream': 3826, 'whatsoever': 4861, 'summer': 4291, 'motivations': 2915, 'equally': 1510, 'junk': 2436, 'precious': 3366, 'whereas': 4865, 'minded': 2850, 'students': 4239, 'florida': 1761, 'holiday': 2134, 'card': 681, 'writers': 4969, 'downright': 1337, 'embarrassing': 1454, 'plots': 3310, 'regarding': 3589, 'fbi': 1675, 'jackie': 2374, 'everybody': 1540, 'mall': 2720, 'nowadays': 3055, 'chan': 746, 'rush': 3759, 'seat': 3845, 'brilliantly': 584, 'museum': 2945, 'erotic': 1515, 'suits': 4287, 'medium': 2792, 'hbo': 2055, 'gas': 1874, 'crisis': 1060, 'flicks': 1755, 'pursuit': 3476, 'shy': 3962, 'goal': 1925, 'machine': 2693, 'carried': 698, 'reach': 3536, 'channels': 754, 'suspicious': 4332, 'sullivan': 4288, 'spy': 4135, 'identity': 2217, 'jack': 2373, 'foster': 1809, 'lucy': 2684, 'unknown': 4668, 'recall': 3562, 'independent': 2272, 'disc': 1278, 'cube': 1076, 'eight': 1436, 'potentially': 3356, 'subplots': 4256, 'marketing': 2741, 'president': 3378, 'mistress': 2874, 'properly': 3437, 'developed': 1223, 'corrupt': 1001, 'established': 1524, '3rd': 47, 'award': 366, 'native': 2972, 'sake': 3775, 'worthless': 4954, 'disturbing': 1300, 'warning': 4800, 'superb': 4296, 'base': 402, 'presumably': 3380, 'canadian': 667, 'global': 1920, 'propaganda': 3435, 'assume': 328, 'roger': 3724, 'private': 3404, 'recent': 3566, 'teenager': 4390, 'met': 2822, 'ships': 3935, 'duty': 1390, 'bar': 396, 'cabin': 643, 'bitter': 491, 'justify': 2439, 'subject': 4253, 'amounts': 220, 'deeper': 1155, 'ignore': 2224, 'adorable': 124, 'listening': 2620, 'kings': 2481, 'bears': 421, 'defeat': 1157, 'demon': 1177, 'pokemon': 3320, 'intelligence': 2313, 'gag': 1861, 'butt': 638, 'moronic': 2907, 'offensive': 3086, 'winning': 4898, 'copies': 992, '1973': 19, 'la': 2500, 'bed': 436, 'tom': 4514, 'bedroom': 437, 'appropriate': 283, 'originality': 3130, 'gifted': 1907, 'comedian': 887, 'timing': 4498, 'tied': 4489, 'sitcom': 4004, 'context': 968, 'ground': 1979, 'persona': 3239, 'specific': 4099, 'smile': 4036, 'pitch': 3279, 'indians': 2275, 'elvis': 1451, 'color': 877, 'brown': 601, 'jewish': 2401, 'parker': 3191, 'forever': 1792, 'tender': 4401, 'moore': 2901, 'ed': 1415, 'ie': 2221, 'stealing': 4171, 'couldve': 1009, 'alexander': 180, 'nazi': 2977, 'crimes': 1056, 'witnesses': 4916, 'defense': 1159, 'court': 1020, 'flashback': 1746, 'segments': 3868, 'village': 4743, 'anna': 245, 'shirley': 3936, 'church': 813, 'dorothy': 1330, 'morris': 2908, 'powerful': 3360, 'matches': 2764, 'priest': 3392, 'stays': 4169, 'worry': 4950, 'inane': 2258, 'max': 2774, 'gonna': 1936, 'dated': 1119, 'heston': 2094, 'lacked': 2503, '2005': 35, 'japan': 2381, 'sleeping': 4025, 'jealous': 2388, 'bridge': 578, 'handle': 2018, 'massacre': 2754, 'carries': 699, 'prevent': 3385, 'unreal': 4676, 'shakespeare': 3915, 'endure': 1475, 'distracting': 1297, 'claimed': 829, 'offering': 3089, 'minimum': 2856, 'buying': 641, 'risk': 3704, 'losing': 2658, 'broke': 593, 'contact': 961, 'smoke': 4039, 'mom': 2885, 'center': 732, 'witch': 4909, 'witches': 4910, 'weeks': 4839, 'repeat': 3630, 'wore': 4939, 'suspend': 4329, 'disbelief': 1277, 'frightening': 1839, 'underlying': 4641, 'brooklyn': 595, 'measure': 2786, 'spent': 4108, 'essential': 1522, 'al': 170, 'spirits': 4115, 'military': 2844, 'complexity': 924, 'trees': 4577, 'careful': 688, 'falk': 1636, 'displayed': 1292, 'studios': 4241, 'situations': 4009, 'clean': 838, 'claire': 831, 'airport': 167, 'tricks': 4583, 'screening': 3830, 'politically': 3325, 'conservative': 948, 'sounded': 4082, 'maker': 2714, 'scripted': 3835, 'contrary': 974, 'belief': 451, 'factory': 1623, 'soldiers': 4054, 'seconds': 3848, 'opportunity': 3121, 'hollywoods': 2138, 'conflict': 939, 'vision': 4754, 'opens': 3115, 'structure': 4233, 'genres': 1889, 'praise': 3364, 'nonetheless': 3029, 'orson': 3132, 'welles': 4844, 'alfred': 181, 'individuals': 2278, 'darker': 1116, 'limited': 2606, 'powell': 3358, 'definition': 1163, 'billy': 482, 'elsewhere': 1449, 'kubrick': 2496, 'subjects': 4254, 'handed': 2016, 'clips': 852, 'lucas': 2680, 'francis': 1818, 'chapter': 757, '1940s': 13, 'discovered': 1280, 'buffs': 612, 'scope': 3821, 'balance': 387, 'barry': 401, 'allows': 192, 'tiny': 4500, 'combination': 883, 'achieved': 93, 'contain': 962, 'pie': 3271, 'arrival': 299, 'cousin': 1021, 'alcohol': 176, 'addition': 118, 'scooby': 3820, 'doo': 1325, 'undoubtedly': 4648, 'keeping': 2450, 'interpretation': 2328, 'represents': 3639, 'fred': 1825, 'driver': 1366, 'dad': 1095, 'authority': 360, 'solution': 4059, 'task': 4368, 'link': 2613, 'immediately': 2242, 'messed': 2821, 'pointed': 3317, 'raw': 3532, 'lesser': 2576, 'entry': 1504, 'crash': 1033, 'financial': 1725, 'editor': 1423, 'forgot': 1796, 'revelation': 3674, 'mid': 2832, 'sheriff': 3929, '35': 45, 'generation': 1883, 'fit': 1740, 'lying': 2690, 'accent': 78, 'understood': 4647, 'commercials': 903, 'passed': 3202, 'ad': 110, 'scenario': 3808, 'pg': 3250, 'responsible': 3656, '1950s': 14, 'eyed': 1612, 'awe': 370, 'substance': 4258, 'delivery': 1173, 'chicks': 787, 'irony': 2357, 'recognition': 3568, 'terry': 4415, 'comical': 894, 'jim': 2402, 'appreciation': 281, 'reputation': 3640, 'ghosts': 1903, 'humble': 2191, 'magazine': 2701, 'adds': 119, 'versus': 4722, 'daily': 1097, 'youth': 4994, 'gundam': 1997, 'wing': 4896, 'appearing': 277, 'personalities': 3241, 'endearing': 1469, 'peace': 3219, 'battles': 415, 'robot': 3717, 'hanks': 2025, 'forty': 1807, 'concerns': 934, 'jay': 2386, 'wears': 4832, 'west': 4852, 'louise': 2666, 'hamilton': 2012, 'mayor': 2777, 'wendy': 4846, 'nuts': 3064, 'bin': 483, 'chuck': 812, 'trade': 4547, 'miles': 2843, 'lake': 2509, 'likable': 2598, 'murderous': 2942, 'subplot': 4255, 'tense': 4403, 'remote': 3622, 'bud': 607, 'stranger': 4213, 'visuals': 4759, 'sincere': 3991, 'sweet': 4336, 'jenny': 2393, 'neat': 2982, 'arthur': 305, 'likewise': 2603, 'angel': 231, 'starting': 4158, 'kicks': 2463, 'surreal': 4317, 'hence': 2083, 'notable': 3041, 'polished': 3323, 'icon': 2211, 'blob': 507, '90s': 61, 'drug': 1373, 'letting': 2583, 'buildings': 616, 'delivering': 1171, 'satisfy': 3790, 'mtv': 2933, 'eric': 1514, 'tap': 4364, 'hearts': 2066, 'overrated': 3156, 'lol': 2640, 'titanic': 4503, 'accurate': 90, 'april': 284, 'sink': 3999, 'hearing': 2063, 'ha': 2002, 'horrific': 2166, 'cusack': 1088, '90': 60, 'somebody': 4062, 'hatred': 2049, 'iraq': 2351, 'willing': 4889, 'cruise': 1071, 'bite': 489, 'friendly': 1836, 'cliche': 843, 'dutch': 1389, 'translation': 4562, 'initial': 2290, 'liberal': 2588, 'diana': 1237, 'loyal': 2679, 'bang': 393, 'memory': 2804, 'contrast': 975, 'greed': 1968, 'bakshi': 386, 'enjoys': 1489, 'blond': 510, 'racist': 3503, 'catching': 716, 'birth': 486, 'fury': 1855, 'william': 4887, 'captivating': 675, 'pulp': 3465, 'involve': 2345, 'complaint': 920, 'kim': 2475, 'moon': 2900, 'nights': 3016, 'awards': 367, 'infamous': 2284, 'careers': 687, 'connection': 946, 'rage': 3505, 'bo': 521, 'returned': 3666, 'werent': 4849, 'jaw': 2384, 'huh': 2187, 'racism': 3502, 'sleazy': 4023, 'latter': 2528, 'massive': 2756, 'ruthless': 3764, 'lust': 2689, 'island': 2361, 'walks': 4780, 'kicked': 2461, 'unpleasant': 4674, 'train': 4556, 'wreck': 4965, 'easier': 1405, 'sports': 4130, 'mountain': 2917, 'survive': 4321, 'survived': 4322, 'burning': 627, 'nearby': 2980, 'oddly': 3081, 'pile': 3275, 'notorious': 3051, 'arm': 292, 'conversation': 980, 'glass': 1917, 'armed': 293, 'chain': 741, 'teeth': 4393, 'gray': 1963, 'lay': 2542, 'intimate': 2331, 'officer': 3092, 'hello': 2078, 'thousands': 4466, 'sue': 4274, 'debut': 1143, 'craft': 1028, 'dry': 1377, 'chances': 748, 'marty': 2749, 'raising': 3509, 'idiots': 2220, 'arrogant': 303, 'intrigued': 2334, 'proper': 3436, 'hopefully': 2157, 'fisher': 1739, 'european': 1530, 'root': 3737, 'narrator': 2967, 'discuss': 1283, 'loose': 2650, 'fetched': 1698, 'stevens': 4183, 'epic': 1506, 'perform': 3227, 'odds': 3082, 'celebrity': 729, 'gruesome': 1986, 'construction': 960, 'site': 4005, 'hotel': 2175, 'spoil': 4121, 'shoes': 3941, 'garden': 1872, 'brian': 576, 'panic': 3181, 'savage': 3793, 'thrills': 4475, 'uncle': 4636, 'jesse': 2397, 'twenty': 4612, 'faster': 1662, 'normally': 3034, 'deadly': 1133, 'choreography': 802, 'designed': 1203, 'strongly': 4231, 'temple': 4398, 'frame': 1815, 'unlike': 4670, 'nostalgic': 3039, 'experienced': 1581, 'sacrifice': 3766, 'doomed': 1327, 'earl': 1398, 'investigation': 2343, 'sight': 3969, 'lemmon': 2567, 'chaos': 755, 'glorious': 1921, 'spirited': 4114, 'escaped': 1518, 'neck': 2985, 'frankenstein': 1822, 'altogether': 202, 'solely': 4056, 'experiments': 1584, 'amount': 219, 'competent': 917, 'introduced': 2337, 'relief': 3605, 'dropped': 1370, 'unsettling': 4679, 'lab': 2501, 'strictly': 4223, 'hammer': 2014, 'disgusting': 1286, 'dave': 1123, 'gary': 1873, 'crappy': 1032, 'places': 3284, 'recognized': 3570, 'focuses': 1768, 'warner': 4799, '1930s': 11, 'angels': 234, 'formulaic': 1803, 'law': 2538, 'cared': 685, 'gangsters': 1869, 'handsome': 2021, 'dire': 1257, 'compelled': 915, 'eg': 1434, 'cure': 1081, 'wandering': 4785, 'gun': 1996, 'horribly': 2164, 'disjointed': 1287, 'stomach': 4196, 'stated': 4161, 'justin': 2440, 'freeman': 1829, 'uncomfortable': 4637, 'evident': 1547, 'stops': 4203, 'france': 1816, 'germans': 1897, 'horse': 2170, 'retired': 3664, 'buff': 611, 'charisma': 762, 'button': 639, 'scared': 3805, 'remembered': 3617, 'loser': 2655, 'critic': 1061, 'secondly': 3847, 'bet': 470, 'critical': 1062, 'suck': 4269, 'dancing': 1107, 'wedding': 4836, 'vice': 4727, 'desperately': 1209, 'prior': 3400, 'topic': 4526, 'unwatchable': 4682, 'closed': 854, 'punk': 3468, 'winds': 4895, 'exotic': 1574, 'phony': 3256, 'contest': 967, 'hook': 2152, 'winner': 4897, 'format': 1799, 'harry': 2039, 'mob': 2879, 'vacation': 4704, 'warriors': 4803, 'hong': 2149, 'kong': 2494, 'gripping': 1976, 'hung': 2197, 'styles': 4250, 'sky': 4017, 'lone': 2642, 'storm': 4206, 'involves': 2348, 'extended': 1604, 'cameos': 658, 'louis': 2665, 'kelly': 2452, 'decades': 1145, 'philosophy': 3254, 'anger': 235, 'ears': 1402, 'craven': 1034, 'scarecrow': 3804, 'batman': 413, 'flight': 1757, 'guessing': 1991, 'involvement': 2347, 'superhero': 4299, 'frustration': 1843, 'fx': 1858, 'cox': 1026, 'enjoying': 1487, 'behavior': 446, 'plan': 3287, 'outer': 3143, 'laughably': 2531, 'realized': 3553, 'merits': 2817, 'instantly': 2306, 'commented': 900, 'answers': 252, 'separate': 3883, 'suggested': 4281, 'itll': 2369, 'reasonable': 3558, 'misses': 2868, 'cheated': 775, 'mixed': 2877, 'ruins': 3752, 'bleak': 503, 'tone': 4517, 'crowd': 1067, 'countryside': 1015, 'genuinely': 1892, 'jon': 2416, 'cinemas': 817, 'cases': 708, 'expressions': 1603, 'andrew': 228, 'dinner': 1254, 'blows': 517, 'telling': 4396, 'prequel': 3372, 'tortured': 4530, 'discovery': 1282, 'beaten': 424, 'warned': 4798, 'parent': 3187, 'express': 1600, 'tape': 4365, 'owner': 3159, 'spoof': 4127, 'landing': 2512, 'feet': 1688, 'reviewer': 3677, 'nude': 3058, 'widmark': 4882, 'eager': 1396, 'cynical': 1093, 'stretched': 4222, 'dollars': 1315, 'rose': 3739, 'navy': 2976, 'pulling': 3463, 'pretend': 3381, 'tales': 4357, 'comics': 895, 'recognize': 3569, 'julia': 2427, 'wives': 4918, 'beneath': 464, 'guts': 1999, 'horrifying': 2167, 'producing': 3417, 'em': 1452, 'thugs': 4484, 'pushing': 3479, 'forest': 1791, 'someones': 4065, 'chasing': 772, 'attempted': 341, 'believed': 455, 'trailer': 4554, 'cave': 727, 'spider': 4109, 'highest': 2102, 'childrens': 793, 'judy': 2426, 'player': 3298, 'lane': 2515, 'alcoholic': 177, 'scottish': 3825, 'june': 2433, 'piano': 3264, 'learns': 2553, 'bonus': 534, 'kinda': 2477, 'masterpieces': 2760, 'retarded': 3663, 'nation': 2969, 'escapes': 1519, 'raymond': 3534, 'deceased': 1146, 'heaven': 2068, 'abraham': 69, 'lincoln': 2608, 'combined': 885, 'imaginative': 2237, 'equal': 1509, 'inventive': 2341, 'artificial': 306, 'spell': 4104, 'freedom': 1828, 'logical': 2639, 'candy': 668, 'lewis': 2586, 'lie': 2590, 'ticket': 4487, 'grab': 1949, 'paranoia': 3186, 'san': 3780, 'francisco': 1819, 'silent': 3975, 'ron': 3734, 'notion': 3050, 'whale': 4857, 'sons': 4073, 'argue': 290, 'synopsis': 4344, 'maria': 2736, 'simon': 3982, '2001': 31, 'eastern': 1408, 'slapstick': 4019, 'possibilities': 3348, 'instant': 2305, 'cry': 1073, 'hood': 2151, 'cardboard': 682, 'snake': 4042, 'hip': 2114, 'hop': 2154, 'floor': 1759, 'chose': 804, 'jumped': 2430, 'oliver': 3102, 'ties': 4490, 'warren': 4801, 'watches': 4814, 'countries': 1013, 'christian': 808, 'fifteen': 1706, 'endings': 1472, 'invasion': 2340, 'field': 1704, '13th': 5, 'faults': 1669, 'resembles': 3646, 'roots': 3738, 'miserably': 2864, 'sympathy': 4343, 'mst3k': 2932, 'toys': 4543, 'attacked': 338, 'ashamed': 312, 'model': 2880, 'shorts': 3948, 'theyve': 4446, 'idiotic': 2219, 'jr': 2423, 'freddy': 1826, 'oil': 3097, 'hugh': 2186, 'competition': 918, 'greater': 1965, 'forgive': 1795, 'ho': 2127, 'metal': 2823, 'shirt': 3937, 'throwing': 4480, 'seek': 3858, 'deals': 1137, 'picking': 3267, 'catholic': 720, 'religion': 3607, 'drinking': 1362, 'damn': 1100, 'wearing': 4831, 'nelson': 2997, 'ought': 3138, 'melting': 2799, 'union': 4661, 'cards': 683, 'homage': 2141, 'waited': 4771, 'unforgettable': 4652, 'souls': 4080, 'user': 4696, 'closet': 858, 'dig': 1250, 'directorial': 1265, 'succeeds': 4264, 'myers': 2952, 'mistakes': 2873, 'curtis': 1087, 'directly': 1263, 'sole': 4055, 'california': 650, 'mexico': 2827, 'population': 3335, 'newly': 3004, 'per': 3223, 'stronger': 4230, 'incomprehensible': 2267, 'borrowed': 545, 'ghost': 1902, 'ted': 4386, 'ninja': 3018, 'brutally': 604, 'murdered': 2940, 'sum': 4289, 'contemporary': 965, 'sunshine': 4294, 'appealing': 272, 'prisoner': 3402, 'lasted': 2522, 'reached': 3537, 'attraction': 350, 'prize': 3405, 'possessed': 3347, 'brand': 565, 'nominated': 3025, 'gotta': 1946, 'props': 3439, 'lowest': 2678, 'lessons': 2578, 'sees': 3866, 'unrealistic': 4677, 'roberts': 3714, 'mouse': 2919, 'provide': 3448, 'thrill': 4471, 'domestic': 1318, 'abuse': 74, 'exceptionally': 1559, 'stiller': 4189, 'levels': 2585, 'unoriginal': 4673, 'texas': 4418, 'mentioning': 2812, 'jerk': 2395, 'forms': 1801, 'inspiration': 2300, 'antics': 255, 'disagree': 1269, 'admittedly': 123, 'actresses': 106, 'swear': 4334, 'angles': 237, 'position': 3345, 'exaggerated': 1552, 'fits': 1741, 'fed': 1682, 'stereotype': 4178, 'teaching': 4377, 'university': 4667, 'midnight': 2834, 'hyde': 2206, 'invisible': 2344, 'visible': 4753, 'imagined': 2239, 'aimed': 162, 'description': 1197, 'internet': 2327, 'status': 4165, 'knife': 2487, 'leg': 2562, 'pants': 3182, 'ham': 2011, 'bruce': 602, 'lees': 2560, 'poetry': 3314, 'ps': 3453, 'foul': 1810, 'kicking': 2462, 'cary': 706, 'houses': 2180, 'attorney': 348, 'relation': 3595, 'awake': 365, 'errors': 1516, 'east': 1407, 'spoke': 4125, 'suggest': 4280, 'clint': 850, 'eastwood': 1409, 'tommy': 4516, 'rocket': 3721, 'jake': 2377, 'cooper': 990, 'absence': 70, 'hurt': 2202, 'poignant': 3315, 'gotten': 1947, 'foot': 1781, 'letters': 2582, 'cheese': 780, 'explosions': 1597, 'imagery': 2234, 'amazingly': 210, 'rings': 3699, 'sentence': 3881, 'glenn': 1918, 'hanging': 2023, 'pushed': 3478, 'heroic': 2090, 'centers': 734, 'irish': 2353, 'seeks': 3860, 'monk': 2889, 'convey': 982, 'ireland': 2352, 'jesus': 2399, 'blind': 506, 'beliefs': 452, 'tradition': 4549, 'enthusiasm': 1501, 'lifestyle': 2593, 'discovers': 1281, 'depression': 1189, 'blend': 504, 'molly': 2884, 'swimming': 4338, 'lion': 2614, 'traveling': 4568, 'disturbed': 1299, 'drags': 1345, 'importantly': 2248, 'existence': 1571, 'plausible': 3295, 'seven': 3903, 'cliff': 847, 'research': 3644, 'safety': 3772, 'titles': 4506, 'omen': 3104, 'christ': 807, 'religious': 3608, 'sequels': 3886, 'journalist': 2420, 'community': 908, 'unintentional': 4658, 'composed': 926, 'china': 795, 'remain': 3609, 'insane': 2296, 'unfortunate': 4653, 'disappear': 1270, 'till': 4493, 'test': 4416, 'album': 175, 'false': 1641, 'proof': 3434, 'concert': 935, 'repeatedly': 3632, 'christians': 809, 'breath': 573, 'folk': 1770, 'fish': 1738, 'sing': 3992, 'flawed': 1750, 'directions': 1262, 'werewolf': 4850, 'swim': 4337, 'response': 3654, 'characterization': 759, 'experiences': 1582, 'sir': 4000, 'staff': 4138, 'faith': 1633, 'facing': 1620, 'theyll': 4444, 'ramones': 3512, 'principal': 3398, 'mile': 2842, 'vincent': 4746, 'miserable': 2863, 'putting': 3482, 'drop': 1369, 'promised': 3431, 'minor': 2857, 'spanish': 4092, 'devils': 1229, 'spain': 4091, 'execution': 1566, 'discover': 1279, 'britain': 588, 'allowing': 191, 'deliberately': 1166, 'table': 4346, 'blade': 495, 'web': 4833, 'sixties': 4011, 'hippie': 2115, 'behave': 445, 'holmes': 2139, 'displays': 1293, 'boxing': 556, 'lily': 2605, 'sharp': 3922, 'carrey': 696, 'taylor': 4372, 'grinch': 1975, 'jeffrey': 2391, 'fashioned': 1660, 'speech': 4102, 'kinds': 2478, 'respected': 3653, 'warmth': 4796, 'integrity': 2311, 'gentle': 1890, 'trio': 4587, 'niro': 3019, 'hal': 2006, 'charlotte': 766, 'eyre': 1614, 'lively': 2627, 'suffer': 4275, 'rochester': 3719, 'opposite': 3123, 'described': 1195, 'slap': 4018, 'intensity': 2317, 'timothy': 4499, 'dalton': 1098, 'tall': 4362, 'catches': 715, 'modesty': 2883, 'bbc': 417, 'emphasis': 1463, 'resolution': 3649, 'despair': 1207, 'smaller': 4034, 'purchased': 3470, 'vulnerable': 4768, 'wake': 4774, 'area': 286, 'comparing': 913, 'shines': 3932, 'bargain': 400, 'official': 3094, 'assault': 324, 'holds': 2131, 'fighter': 1708, 'americas': 215, 'gerard': 1895, 'hoffman': 2128, '1983': 22, 'agrees': 157, 'offended': 3085, 'challenge': 743, 'served': 3894, 'eva': 1531, 'jason': 2383, 'lower': 2677, 'females': 1694, 'burton': 630, 'dancers': 1105, 'jump': 2429, 'denzel': 1181, 'apes': 267, 'todays': 4509, 'abandoned': 62, '1972': 18, 'robinson': 3716, 'occurred': 3077, 'steals': 4172, 'decisions': 1152, 'specifically': 4100, 'portray': 3340, 'streep': 4215, 'le': 2544, 'expression': 1602, 'montage': 2894, 'dropping': 1371, 'fonda': 1777, 'sandra': 3782, 'finger': 1731, 'wicked': 4879, 'damage': 1099, 'hunters': 2200, 'mentions': 2813, 'diane': 1238, 'advertising': 132, 'drink': 1361, 'wished': 4905, 'access': 83, 'shape': 3919, 'questionable': 3488, 'kissing': 2484, 'pages': 3168, 'jerry': 2396, 'gold': 1932, 'chest': 784, 'landscape': 2513, 'drew': 1360, 'connected': 945, 'tremendous': 4579, 'arms': 294, 'remind': 3618, 'remarkably': 3614, 'welcome': 4842, 'unbelievably': 4635, 'halloween': 2010, 'nail': 2957, 'understandable': 4644, 'locked': 2637, 'crocodile': 1065, 'devoid': 1230, 'weapon': 4828, 'renting': 3629, 'underground': 4640, 'arrived': 301, 'join': 2412, 'arrive': 300, 'shed': 3924, 'hole': 2132, 'mickey': 2831, 'pan': 3180, 'march': 2734, 'matthew': 2772, 'goldberg': 1933, 'iii': 2227, 'bathroom': 412, 'grandfather': 1954, 'wound': 4960, 'tight': 4492, 'miike': 2837, 'conceived': 929, 'wrapped': 4964, 'previously': 3388, 'attend': 344, 'news': 3005, 'reporter': 3636, 'cia': 814, 'santa': 3783, 'attached': 336, 'bible': 477, 'introduction': 2339, 'terrorist': 4413, 'dubbing': 1380, 'mature': 2773, 'orange': 3125, 'broadcast': 591, 'johnny': 2410, 'border': 539, 'sloppy': 4030, 'wave': 4818, 'disappeared': 1271, 'advance': 127, 'arrested': 298, 'secretary': 3850, 'atrocious': 335, '20th': 38, 'robbery': 3711, 'mountains': 2918, 'showdown': 3955, 'dogs': 1311, 'significant': 3972, 'perry': 3237, 'blake': 498, 'wilson': 4891, 'briefly': 580, 'killings': 2473, 'possibility': 3349, 'chair': 742, 'pot': 3354, 'searching': 3842, 'academy': 77, 'rex': 3683, 'carradine': 695, 'hardy': 2037, 'expensive': 1579, 'stanwyck': 4149, 'valley': 4707, 'dolls': 1316, 'isolated': 2363, 'conflicts': 940, 'burt': 629, 'reynolds': 3684, 'simpson': 3987, 'stupidity': 4248, '70': 55, 'rogers': 3725, 'derek': 1192, 'musicals': 2948, 'ballet': 389, 'definite': 1161, 'gangster': 1868, 'exceptional': 1558, 'send': 3875, 'relatively': 3600, 'doubts': 1333, 'trapped': 4564, 'screenwriter': 3833, 'impress': 2250, '24': 39, 'sadness': 3770, 'excessive': 1560, 'distribution': 1298, 'grey': 1973, 'improve': 2254, 'sam': 3777, 'cheating': 776, 'repetitive': 3633, 'greedy': 1969, 'merely': 2815, 'keaton': 2448, 'lloyd': 2630, 'marie': 2737, 'aint': 163, 'asleep': 320, 'resources': 3651, 'spoiled': 4122, 'chases': 771, 'destiny': 1212, 'suffice': 4279, 'directs': 1267, 'stood': 4199, 'matt': 2768, 'wars': 4804, 'cannibal': 669, 'elegant': 1441, 'lyrics': 2692, 'truck': 4595, 'flynn': 1765, 'madonna': 2699, 'elephant': 1444, 'blowing': 515, 'bullet': 620, 'neil': 2995, 'laid': 2508, 'attitude': 346, 'shelley': 3928, 'pink': 3277, 'dances': 1106, 'presentation': 3375, 'curiosity': 1082, 'literature': 2623, '1933': 12, 'cowboy': 1025, 'hat': 2045, 'transition': 4561, 'bull': 619, 'split': 4120, 'con': 928, 'educational': 1425, 'valuable': 4708, 'sides': 3967, 'travesty': 4570, 'dickens': 1240, 'dozens': 1339, 'scrooge': 3837, 'riveting': 3708, 'millions': 2848, 'poverty': 3357, 'intentionally': 2320, 'argument': 291, 'lonely': 2643, 'ingredients': 2289, 'rid': 3690, 'affect': 136, 'references': 3583, 'citizen': 824, 'kane': 2442, 'murderer': 2941, 'fill': 1714, 'rambo': 3511, 'pig': 3274, 'willis': 4890, 'abysmal': 76, 'strangers': 4214, 'remarks': 3615, 'tonight': 4519, 'trailers': 4555, 'noir': 3023, 'ignored': 2225, 'turner': 4607, 'nicholson': 3011, 'ned': 2986, 'revolves': 3682, 'suspects': 4328, 'eerie': 1427, 'davies': 1125, 'futuristic': 1857, 'kirk': 2482, 'gross': 1978, 'punishment': 3467, 'elderly': 1440, 'constructed': 959, 'campbell': 663, 'pseudo': 3454, 'psychiatrist': 3455, 'introduce': 2336, 'rap': 3520, 'et': 1526, 'mentally': 2809, 'berlin': 467, 'doors': 1329, 'mummy': 2937, 'removed': 3624, 'kennedy': 2454, 'interview': 2329, 'method': 2824, 'triumph': 4590, 'godfather': 1927, 'pacino': 3164, 'laurel': 2537, 'kidding': 2465, 'advise': 134, 'hates': 2048, 'feminist': 1695, 'picks': 3268, 'sean': 3840, 'liners': 2611, 'wallace': 4782, 'guarantee': 1987, 'creep': 1051, 'statement': 4162, 'airplane': 166, 'nuclear': 3057, 'survivors': 4325, 'olivier': 3103, 'showcase': 3954, 'boot': 538, 'planning': 3291, 'montana': 2895, 'daniel': 1111, 'maintain': 2710, 'surrounding': 4319, 'yelling': 4980, 'holly': 2136, 'signed': 3971, 'scientists': 3819, 'stargate': 4151, 'surprises': 4314, 'responsibility': 3655, 'amitabh': 216, 'akshay': 169, 'identify': 2216, 'brains': 563, 'inducing': 2279, 'lately': 2524, 'performs': 3234, 'funnier': 1850, 'consequences': 947, 'inappropriate': 2259, 'reel': 3581, 'basketball': 409, 'coach': 868, 'rocky': 3723, 'norman': 3035, 'education': 1424, 'brenda': 575, 'craig': 1030, '3d': 46, 'guilt': 1994, 'doctors': 1305, 'blair': 497, 'cruel': 1070, 'intentions': 2321, 'monkey': 2890, 'mirror': 2861, 'terror': 4412, 'awfully': 373, 'shower': 3957, 'meaningless': 2782, 'andrews': 229, 'taxi': 4371, 'bobby': 525, 'danny': 1112, 'chaplin': 756, 'depicting': 1184, 'mario': 2738, 'pool': 3327, 'horrid': 2165, 'report': 3635, 'warming': 4795, 'technology': 4385, 'disneys': 1290, 'rising': 3703, 'planned': 3290, 'teachers': 4376, 'superbly': 4297, 'flies': 1756, 'disappoint': 1272, 'devoted': 1231, 'threat': 4467, 'useless': 4695, 'appalling': 268, 'wrestling': 4966, 'orders': 3127, 'plant': 3293, 'rat': 3525, 'technique': 4383, 'leonard': 2572, 'wells': 4845, 'clark': 832, 'poetic': 3313, 'singers': 3994, 'explaining': 1588, 'connect': 944, 'network': 3000, 'spin': 4112, 'ellen': 1446, '2003': 33, 'doll': 1313, 'godzilla': 1929, 'overacting': 3149, 'agents': 151, 'projects': 3428, 'explored': 1595, 'wizard': 4919, 'miracle': 2860, 'thankfully': 4422, '1st': 28, 'bourne': 554, 'linda': 2609, 'garbo': 1871, 'ridiculously': 3694, 'receive': 3563, 'monkeys': 2891, 'cole': 873, 'trained': 4557, 'wounded': 4961, 'dare': 1113, 'size': 4012, 'reflection': 3585, 'tag': 4348, 'dub': 1378, 'kurt': 2499, 'russell': 3761, 'un': 4630, 'slaughter': 4021, 'vivid': 4760, 'instinct': 2308, 'unexpected': 4650, 'schools': 3814, 'shadows': 3913, 'ritter': 3705, 'gods': 1928, 'species': 4098, 'rebel': 3561, 'drives': 1367, 'beatty': 427, 'selling': 3873, 'hopper': 2161, 'brando': 566, 'angela': 232, 'domino': 1319, 'harvey': 2042, 'sits': 4006, 'generations': 1884, 'happily': 2030, 'listed': 2618, 'spike': 4111, 'boom': 537, 'quit': 3494, 'eaten': 1412, 'misery': 2865, 'distinct': 1296, 'unseen': 4678, 'bettie': 473, 'reference': 3582, 'miscast': 2862, 'pamela': 3179, 'gain': 1863, 'junior': 2435, 'benefit': 465, 'masses': 2755, 'sarah': 3785, 'progress': 3425, 'loads': 2633, 'placed': 3283, 'imitation': 2241, 'ya': 4976, 'rooms': 3736, '1984': 23, 'neighbors': 2994, 'sinatra': 3989, 'strike': 4224, 'rendition': 3625, 'astaire': 330, 'square': 4136, 'guest': 1992, 'shining': 3933, 'resort': 3650, 'cd': 728, 'smiling': 4037, 'attitudes': 347, 'superficial': 4298, '2007': 37, 'revolutionary': 3681, 'fields': 1705, 'installment': 2303, 'spare': 4093, 'gandhi': 1866, 'families': 1644, 'pit': 3278, 'depicted': 1183, 'sellers': 3872, 'mafia': 2700, 'resist': 3648, 'torn': 4528, 'petty': 3249, 'losers': 2656, 'psychic': 3456, 'crack': 1027, 'glover': 1923, 'drops': 1372, 'winters': 4901, 'richardson': 3688, 'enters': 1496, 'opportunities': 3120, 'mail': 2706, 'bath': 411, 'exposure': 1599, 'cried': 1054, 'sport': 4129, 'restaurant': 3658, 'mechanical': 2788, 'thoughtful': 4463, '1960s': 15, 'machines': 2694, 'threatening': 4468, 'lawrence': 2539, 'recorded': 3574, 'witness': 4914, 'boredom': 542, 'host': 2173, 'doc': 1303, 'officers': 3093, 'duke': 1383, 'improvement': 2256, 'exploration': 1593, 'hype': 2207, 'seagal': 3839, 'legal': 2563, 'plight': 3308, 'familys': 1646, 'loaded': 2632, 'carter': 703, 'edition': 1422, 'tracy': 4546, 'stan': 4142, 'rubber': 3747, 'woody': 4936, 'fay': 1674, 'overlook': 3153, 'calm': 655, 'steel': 4173, 'columbo': 881, 'honesty': 2148, 'neighbor': 2992, 'combat': 882, 'hudson': 2184, 'september': 3884, 'ethan': 1528, 'duo': 1386, 'marks': 2742, 'balls': 390, 'championship': 745, 'troops': 4591, 'hysterical': 2208, 'circle': 821, 'snl': 4044, 'divorce': 1301, 'bacall': 377, 'virgin': 4749, 'worried': 4949, 'cagney': 646, 'vengeance': 4719, 'holy': 2140, 'developing': 1224, 'unit': 4663, 'childish': 791, 'fever': 1699, 'dinosaur': 1255, '1980': 20, 'purple': 3473, 'butler': 637, 'incident': 2260, 'terrifying': 4410, 'clumsy': 866, 'sid': 3964, 'prom': 3429, 'twins': 4616, 'unaware': 4632, 'relations': 3596, 'communist': 907, 'brosnan': 597, 'rangers': 3517, 'workers': 4943, 'trail': 4553, 'deaf': 1134, 'illegal': 2229, 'soviet': 4089, 'map': 2733, 'robots': 3718, 'corruption': 1002, 'solo': 4058, 'joined': 2413, 'ear': 1397, 'reads': 3545, 'firstly': 1737, 'estate': 1525, 'chicago': 785, 'paulie': 3215, 'baker': 385, 'fooled': 1780, 'activities': 102, 'businessman': 634, 'ruby': 3749, 'tomatoes': 4515, 'chess': 783, 'areas': 287, 'raised': 3508, 'oz': 3160, 'react': 3540, 'ginger': 1908, 'carpenter': 694, 'wrap': 4963, 'albeit': 173, 'alert': 178, 'walker': 4778, 'muslim': 2949, 'contract': 973, 'accomplished': 87, 'kapoor': 2443, 'hank': 2024, 'designs': 1204, 'giallo': 1904, 'rotten': 3740, 'atlantis': 332, 'todd': 4510, 'portion': 3338, 'dolph': 1317, 'clown': 862, 'phantom': 3251, 'lumet': 2688, 'polanski': 3321, 'heights': 2073, 'seed': 3856, 'gabriel': 1859, 'macy': 2695}\n"
     ]
    }
   ],
   "source": [
    "print(str(vocabulary))"
   ]
  },
  {
   "cell_type": "markdown",
   "metadata": {},
   "source": [
    "Once you have added the endpoint name to the Lambda function, click on **Save**. Your Lambda function is now up and running. Next we need to create a way for our web app to execute the Lambda function."
   ]
  },
  {
   "cell_type": "markdown",
   "metadata": {},
   "source": [
    "### Setting up API Gateway\n",
    "\n",
    "Now that our Lambda function is set up, it is time to create a new API using API Gateway that will trigger the Lambda function we have just created.\n",
    "\n",
    "Using AWS Console, navigate to **Amazon API Gateway** and then click on **Get started**.\n",
    "\n",
    "On the next page, make sure that **New API** is selected and give the new api a name, for example, `sentiment_analysis_web_app`. Then, click on **Create API**.\n",
    "\n",
    "Now we have created an API, however it doesn't currently do anything. What we want it to do is to trigger the Lambda function that we created earlier.\n",
    "\n",
    "Select the **Actions** dropdown menu and click **Create Method**. A new blank method will be created, select its dropdown menu and select **POST**, then click on the check mark beside it.\n",
    "\n",
    "For the integration point, make sure that **Lambda Function** is selected and click on the **Use Lambda Proxy integration**. This option makes sure that the data that is sent to the API is then sent directly to the Lambda function with no processing. It also means that the return value must be a proper response object as it will also not be processed by API Gateway.\n",
    "\n",
    "Type the name of the Lambda function you created earlier into the **Lambda Function** text entry box and then click on **Save**. Click on **OK** in the pop-up box that then appears, giving permission to API Gateway to invoke the Lambda function you created.\n",
    "\n",
    "The last step in creating the API Gateway is to select the **Actions** dropdown and click on **Deploy API**. You will need to create a new Deployment stage and name it anything you like, for example `prod`.\n",
    "\n",
    "You have now successfully set up a public API to access your SageMaker model. Make sure to copy or write down the URL provided to invoke your newly created public API as this will be needed in the next step. This URL can be found at the top of the page, highlighted in blue next to the text **Invoke URL**."
   ]
  },
  {
   "cell_type": "markdown",
   "metadata": {},
   "source": [
    "## Step 7: Deploying our web app\n",
    "\n",
    "Now that we have a publicly available API, we can start using it in a web app. For our purposes, we have provided a simple static html file which can make use of the public api you created earlier.\n",
    "\n",
    "In the `website` folder there should be a file called `index.html`. Download the file to your computer and open that file up in a text editor of your choice. There should be a line which contains **\\*\\*REPLACE WITH PUBLIC API URL\\*\\***. Replace this string with the url that you wrote down in the last step and then save the file.\n",
    "\n",
    "Now, if you open `index.html` on your local computer, your browser will behave as a local web server and you can use the provided site to interact with your SageMaker model.\n",
    "\n",
    "If you'd like to go further, you can host this html file anywhere you'd like, for example using github or hosting a static site on Amazon's S3. Once you have done this you can share the link with anyone you'd like and have them play with it too!\n",
    "\n",
    "> **Important Note** In order for the web app to communicate with the SageMaker endpoint, the endpoint has to actually be deployed and running. This means that you are paying for it. Make sure that the endpoint is running when you want to use the web app but that you shut it down when you don't need it, otherwise you will end up with a surprisingly large AWS bill."
   ]
  },
  {
   "cell_type": "markdown",
   "metadata": {},
   "source": [
    "### Delete the endpoint\n",
    "\n",
    "Remember to always shut down your endpoint if you are no longer using it. You are charged for the length of time that the endpoint is running so if you forget and leave it on you could end up with an unexpectedly large bill."
   ]
  },
  {
   "cell_type": "code",
   "execution_count": 76,
   "metadata": {},
   "outputs": [
    {
     "ename": "ClientError",
     "evalue": "An error occurred (ValidationException) when calling the DeleteEndpointConfig operation: Could not find endpoint configuration \"arn:aws:sagemaker:us-east-1:291406185151:endpoint-config/xgboost-2021-05-25-11-29-34-273\".",
     "output_type": "error",
     "traceback": [
      "\u001b[0;31m---------------------------------------------------------------------------\u001b[0m",
      "\u001b[0;31mClientError\u001b[0m                               Traceback (most recent call last)",
      "\u001b[0;32m<ipython-input-76-16a6b43a8b29>\u001b[0m in \u001b[0;36m<module>\u001b[0;34m\u001b[0m\n\u001b[0;32m----> 1\u001b[0;31m \u001b[0mxgb_predictor\u001b[0m\u001b[0;34m.\u001b[0m\u001b[0mdelete_endpoint\u001b[0m\u001b[0;34m(\u001b[0m\u001b[0;34m)\u001b[0m\u001b[0;34m\u001b[0m\u001b[0;34m\u001b[0m\u001b[0m\n\u001b[0m",
      "\u001b[0;32m~/anaconda3/envs/python3/lib/python3.6/site-packages/sagemaker/predictor.py\u001b[0m in \u001b[0;36mdelete_endpoint\u001b[0;34m(self, delete_endpoint_config)\u001b[0m\n\u001b[1;32m    174\u001b[0m         \"\"\"\n\u001b[1;32m    175\u001b[0m         \u001b[0;32mif\u001b[0m \u001b[0mdelete_endpoint_config\u001b[0m\u001b[0;34m:\u001b[0m\u001b[0;34m\u001b[0m\u001b[0;34m\u001b[0m\u001b[0m\n\u001b[0;32m--> 176\u001b[0;31m             \u001b[0mself\u001b[0m\u001b[0;34m.\u001b[0m\u001b[0m_delete_endpoint_config\u001b[0m\u001b[0;34m(\u001b[0m\u001b[0;34m)\u001b[0m\u001b[0;34m\u001b[0m\u001b[0;34m\u001b[0m\u001b[0m\n\u001b[0m\u001b[1;32m    177\u001b[0m \u001b[0;34m\u001b[0m\u001b[0m\n\u001b[1;32m    178\u001b[0m         \u001b[0mself\u001b[0m\u001b[0;34m.\u001b[0m\u001b[0msagemaker_session\u001b[0m\u001b[0;34m.\u001b[0m\u001b[0mdelete_endpoint\u001b[0m\u001b[0;34m(\u001b[0m\u001b[0mself\u001b[0m\u001b[0;34m.\u001b[0m\u001b[0mendpoint\u001b[0m\u001b[0;34m)\u001b[0m\u001b[0;34m\u001b[0m\u001b[0;34m\u001b[0m\u001b[0m\n",
      "\u001b[0;32m~/anaconda3/envs/python3/lib/python3.6/site-packages/sagemaker/predictor.py\u001b[0m in \u001b[0;36m_delete_endpoint_config\u001b[0;34m(self)\u001b[0m\n\u001b[1;32m    160\u001b[0m     \u001b[0;32mdef\u001b[0m \u001b[0m_delete_endpoint_config\u001b[0m\u001b[0;34m(\u001b[0m\u001b[0mself\u001b[0m\u001b[0;34m)\u001b[0m\u001b[0;34m:\u001b[0m\u001b[0;34m\u001b[0m\u001b[0;34m\u001b[0m\u001b[0m\n\u001b[1;32m    161\u001b[0m         \u001b[0;34m\"\"\"Delete the Amazon SageMaker endpoint configuration\"\"\"\u001b[0m\u001b[0;34m\u001b[0m\u001b[0;34m\u001b[0m\u001b[0m\n\u001b[0;32m--> 162\u001b[0;31m         \u001b[0mself\u001b[0m\u001b[0;34m.\u001b[0m\u001b[0msagemaker_session\u001b[0m\u001b[0;34m.\u001b[0m\u001b[0mdelete_endpoint_config\u001b[0m\u001b[0;34m(\u001b[0m\u001b[0mself\u001b[0m\u001b[0;34m.\u001b[0m\u001b[0m_endpoint_config_name\u001b[0m\u001b[0;34m)\u001b[0m\u001b[0;34m\u001b[0m\u001b[0;34m\u001b[0m\u001b[0m\n\u001b[0m\u001b[1;32m    163\u001b[0m \u001b[0;34m\u001b[0m\u001b[0m\n\u001b[1;32m    164\u001b[0m     \u001b[0;32mdef\u001b[0m \u001b[0mdelete_endpoint\u001b[0m\u001b[0;34m(\u001b[0m\u001b[0mself\u001b[0m\u001b[0;34m,\u001b[0m \u001b[0mdelete_endpoint_config\u001b[0m\u001b[0;34m=\u001b[0m\u001b[0;32mTrue\u001b[0m\u001b[0;34m)\u001b[0m\u001b[0;34m:\u001b[0m\u001b[0;34m\u001b[0m\u001b[0;34m\u001b[0m\u001b[0m\n",
      "\u001b[0;32m~/anaconda3/envs/python3/lib/python3.6/site-packages/sagemaker/session.py\u001b[0m in \u001b[0;36mdelete_endpoint_config\u001b[0;34m(self, endpoint_config_name)\u001b[0m\n\u001b[1;32m   2478\u001b[0m         \"\"\"\n\u001b[1;32m   2479\u001b[0m         \u001b[0mLOGGER\u001b[0m\u001b[0;34m.\u001b[0m\u001b[0minfo\u001b[0m\u001b[0;34m(\u001b[0m\u001b[0;34m\"Deleting endpoint configuration with name: %s\"\u001b[0m\u001b[0;34m,\u001b[0m \u001b[0mendpoint_config_name\u001b[0m\u001b[0;34m)\u001b[0m\u001b[0;34m\u001b[0m\u001b[0;34m\u001b[0m\u001b[0m\n\u001b[0;32m-> 2480\u001b[0;31m         \u001b[0mself\u001b[0m\u001b[0;34m.\u001b[0m\u001b[0msagemaker_client\u001b[0m\u001b[0;34m.\u001b[0m\u001b[0mdelete_endpoint_config\u001b[0m\u001b[0;34m(\u001b[0m\u001b[0mEndpointConfigName\u001b[0m\u001b[0;34m=\u001b[0m\u001b[0mendpoint_config_name\u001b[0m\u001b[0;34m)\u001b[0m\u001b[0;34m\u001b[0m\u001b[0;34m\u001b[0m\u001b[0m\n\u001b[0m\u001b[1;32m   2481\u001b[0m \u001b[0;34m\u001b[0m\u001b[0m\n\u001b[1;32m   2482\u001b[0m     \u001b[0;32mdef\u001b[0m \u001b[0mdelete_model\u001b[0m\u001b[0;34m(\u001b[0m\u001b[0mself\u001b[0m\u001b[0;34m,\u001b[0m \u001b[0mmodel_name\u001b[0m\u001b[0;34m)\u001b[0m\u001b[0;34m:\u001b[0m\u001b[0;34m\u001b[0m\u001b[0;34m\u001b[0m\u001b[0m\n",
      "\u001b[0;32m~/anaconda3/envs/python3/lib/python3.6/site-packages/botocore/client.py\u001b[0m in \u001b[0;36m_api_call\u001b[0;34m(self, *args, **kwargs)\u001b[0m\n\u001b[1;32m    384\u001b[0m                     \"%s() only accepts keyword arguments.\" % py_operation_name)\n\u001b[1;32m    385\u001b[0m             \u001b[0;31m# The \"self\" in this scope is referring to the BaseClient.\u001b[0m\u001b[0;34m\u001b[0m\u001b[0;34m\u001b[0m\u001b[0;34m\u001b[0m\u001b[0m\n\u001b[0;32m--> 386\u001b[0;31m             \u001b[0;32mreturn\u001b[0m \u001b[0mself\u001b[0m\u001b[0;34m.\u001b[0m\u001b[0m_make_api_call\u001b[0m\u001b[0;34m(\u001b[0m\u001b[0moperation_name\u001b[0m\u001b[0;34m,\u001b[0m \u001b[0mkwargs\u001b[0m\u001b[0;34m)\u001b[0m\u001b[0;34m\u001b[0m\u001b[0;34m\u001b[0m\u001b[0m\n\u001b[0m\u001b[1;32m    387\u001b[0m \u001b[0;34m\u001b[0m\u001b[0m\n\u001b[1;32m    388\u001b[0m         \u001b[0m_api_call\u001b[0m\u001b[0;34m.\u001b[0m\u001b[0m__name__\u001b[0m \u001b[0;34m=\u001b[0m \u001b[0mstr\u001b[0m\u001b[0;34m(\u001b[0m\u001b[0mpy_operation_name\u001b[0m\u001b[0;34m)\u001b[0m\u001b[0;34m\u001b[0m\u001b[0;34m\u001b[0m\u001b[0m\n",
      "\u001b[0;32m~/anaconda3/envs/python3/lib/python3.6/site-packages/botocore/client.py\u001b[0m in \u001b[0;36m_make_api_call\u001b[0;34m(self, operation_name, api_params)\u001b[0m\n\u001b[1;32m    703\u001b[0m             \u001b[0merror_code\u001b[0m \u001b[0;34m=\u001b[0m \u001b[0mparsed_response\u001b[0m\u001b[0;34m.\u001b[0m\u001b[0mget\u001b[0m\u001b[0;34m(\u001b[0m\u001b[0;34m\"Error\"\u001b[0m\u001b[0;34m,\u001b[0m \u001b[0;34m{\u001b[0m\u001b[0;34m}\u001b[0m\u001b[0;34m)\u001b[0m\u001b[0;34m.\u001b[0m\u001b[0mget\u001b[0m\u001b[0;34m(\u001b[0m\u001b[0;34m\"Code\"\u001b[0m\u001b[0;34m)\u001b[0m\u001b[0;34m\u001b[0m\u001b[0;34m\u001b[0m\u001b[0m\n\u001b[1;32m    704\u001b[0m             \u001b[0merror_class\u001b[0m \u001b[0;34m=\u001b[0m \u001b[0mself\u001b[0m\u001b[0;34m.\u001b[0m\u001b[0mexceptions\u001b[0m\u001b[0;34m.\u001b[0m\u001b[0mfrom_code\u001b[0m\u001b[0;34m(\u001b[0m\u001b[0merror_code\u001b[0m\u001b[0;34m)\u001b[0m\u001b[0;34m\u001b[0m\u001b[0;34m\u001b[0m\u001b[0m\n\u001b[0;32m--> 705\u001b[0;31m             \u001b[0;32mraise\u001b[0m \u001b[0merror_class\u001b[0m\u001b[0;34m(\u001b[0m\u001b[0mparsed_response\u001b[0m\u001b[0;34m,\u001b[0m \u001b[0moperation_name\u001b[0m\u001b[0;34m)\u001b[0m\u001b[0;34m\u001b[0m\u001b[0;34m\u001b[0m\u001b[0m\n\u001b[0m\u001b[1;32m    706\u001b[0m         \u001b[0;32melse\u001b[0m\u001b[0;34m:\u001b[0m\u001b[0;34m\u001b[0m\u001b[0;34m\u001b[0m\u001b[0m\n\u001b[1;32m    707\u001b[0m             \u001b[0;32mreturn\u001b[0m \u001b[0mparsed_response\u001b[0m\u001b[0;34m\u001b[0m\u001b[0;34m\u001b[0m\u001b[0m\n",
      "\u001b[0;31mClientError\u001b[0m: An error occurred (ValidationException) when calling the DeleteEndpointConfig operation: Could not find endpoint configuration \"arn:aws:sagemaker:us-east-1:291406185151:endpoint-config/xgboost-2021-05-25-11-29-34-273\"."
     ]
    }
   ],
   "source": [
    "xgb_predictor.delete_endpoint()"
   ]
  },
  {
   "cell_type": "markdown",
   "metadata": {},
   "source": [
    "## Optional: Clean up\n",
    "\n",
    "The default notebook instance on SageMaker doesn't have a lot of excess disk space available. As you continue to complete and execute notebooks you will eventually fill up this disk space, leading to errors which can be difficult to diagnose. Once you are completely finished using a notebook it is a good idea to remove the files that you created along the way. Of course, you can do this from the terminal or from the notebook hub if you would like. The cell below contains some commands to clean up the created files from within the notebook."
   ]
  },
  {
   "cell_type": "code",
   "execution_count": 74,
   "metadata": {},
   "outputs": [
    {
     "ename": "OSError",
     "evalue": "[Errno 12] Cannot allocate memory",
     "output_type": "error",
     "traceback": [
      "\u001b[0;31m---------------------------------------------------------------------------\u001b[0m",
      "\u001b[0;31mOSError\u001b[0m                                   Traceback (most recent call last)",
      "\u001b[0;32m<ipython-input-74-2c87d8eefdf2>\u001b[0m in \u001b[0;36m<module>\u001b[0;34m\u001b[0m\n\u001b[1;32m      1\u001b[0m \u001b[0;31m# First we will remove all of the files contained in the data_dir directory\u001b[0m\u001b[0;34m\u001b[0m\u001b[0;34m\u001b[0m\u001b[0;34m\u001b[0m\u001b[0m\n\u001b[0;32m----> 2\u001b[0;31m \u001b[0mget_ipython\u001b[0m\u001b[0;34m(\u001b[0m\u001b[0;34m)\u001b[0m\u001b[0;34m.\u001b[0m\u001b[0msystem\u001b[0m\u001b[0;34m(\u001b[0m\u001b[0;34m'rm $data_dir/*'\u001b[0m\u001b[0;34m)\u001b[0m\u001b[0;34m\u001b[0m\u001b[0;34m\u001b[0m\u001b[0m\n\u001b[0m\u001b[1;32m      3\u001b[0m \u001b[0;34m\u001b[0m\u001b[0m\n\u001b[1;32m      4\u001b[0m \u001b[0;31m# And then we delete the directory itself\u001b[0m\u001b[0;34m\u001b[0m\u001b[0;34m\u001b[0m\u001b[0;34m\u001b[0m\u001b[0m\n\u001b[1;32m      5\u001b[0m \u001b[0mget_ipython\u001b[0m\u001b[0;34m(\u001b[0m\u001b[0;34m)\u001b[0m\u001b[0;34m.\u001b[0m\u001b[0msystem\u001b[0m\u001b[0;34m(\u001b[0m\u001b[0;34m'rmdir $data_dir'\u001b[0m\u001b[0;34m)\u001b[0m\u001b[0;34m\u001b[0m\u001b[0;34m\u001b[0m\u001b[0m\n",
      "\u001b[0;32m~/anaconda3/envs/python3/lib/python3.6/site-packages/ipykernel/zmqshell.py\u001b[0m in \u001b[0;36msystem_piped\u001b[0;34m(self, cmd)\u001b[0m\n\u001b[1;32m    645\u001b[0m                 \u001b[0mself\u001b[0m\u001b[0;34m.\u001b[0m\u001b[0muser_ns\u001b[0m\u001b[0;34m[\u001b[0m\u001b[0;34m'_exit_code'\u001b[0m\u001b[0;34m]\u001b[0m \u001b[0;34m=\u001b[0m \u001b[0msystem\u001b[0m\u001b[0;34m(\u001b[0m\u001b[0mcmd\u001b[0m\u001b[0;34m)\u001b[0m\u001b[0;34m\u001b[0m\u001b[0;34m\u001b[0m\u001b[0m\n\u001b[1;32m    646\u001b[0m         \u001b[0;32melse\u001b[0m\u001b[0;34m:\u001b[0m\u001b[0;34m\u001b[0m\u001b[0;34m\u001b[0m\u001b[0m\n\u001b[0;32m--> 647\u001b[0;31m             \u001b[0mself\u001b[0m\u001b[0;34m.\u001b[0m\u001b[0muser_ns\u001b[0m\u001b[0;34m[\u001b[0m\u001b[0;34m'_exit_code'\u001b[0m\u001b[0;34m]\u001b[0m \u001b[0;34m=\u001b[0m \u001b[0msystem\u001b[0m\u001b[0;34m(\u001b[0m\u001b[0mself\u001b[0m\u001b[0;34m.\u001b[0m\u001b[0mvar_expand\u001b[0m\u001b[0;34m(\u001b[0m\u001b[0mcmd\u001b[0m\u001b[0;34m,\u001b[0m \u001b[0mdepth\u001b[0m\u001b[0;34m=\u001b[0m\u001b[0;36m1\u001b[0m\u001b[0;34m)\u001b[0m\u001b[0;34m)\u001b[0m\u001b[0;34m\u001b[0m\u001b[0;34m\u001b[0m\u001b[0m\n\u001b[0m\u001b[1;32m    648\u001b[0m \u001b[0;34m\u001b[0m\u001b[0m\n\u001b[1;32m    649\u001b[0m     \u001b[0;31m# Ensure new system_piped implementation is used\u001b[0m\u001b[0;34m\u001b[0m\u001b[0;34m\u001b[0m\u001b[0;34m\u001b[0m\u001b[0m\n",
      "\u001b[0;32m~/anaconda3/envs/python3/lib/python3.6/site-packages/IPython/utils/_process_posix.py\u001b[0m in \u001b[0;36msystem\u001b[0;34m(self, cmd)\u001b[0m\n\u001b[1;32m    155\u001b[0m                 \u001b[0mchild\u001b[0m \u001b[0;34m=\u001b[0m \u001b[0mpexpect\u001b[0m\u001b[0;34m.\u001b[0m\u001b[0mspawnb\u001b[0m\u001b[0;34m(\u001b[0m\u001b[0mself\u001b[0m\u001b[0;34m.\u001b[0m\u001b[0msh\u001b[0m\u001b[0;34m,\u001b[0m \u001b[0margs\u001b[0m\u001b[0;34m=\u001b[0m\u001b[0;34m[\u001b[0m\u001b[0;34m'-c'\u001b[0m\u001b[0;34m,\u001b[0m \u001b[0mcmd\u001b[0m\u001b[0;34m]\u001b[0m\u001b[0;34m)\u001b[0m \u001b[0;31m# Pexpect-U\u001b[0m\u001b[0;34m\u001b[0m\u001b[0;34m\u001b[0m\u001b[0m\n\u001b[1;32m    156\u001b[0m             \u001b[0;32melse\u001b[0m\u001b[0;34m:\u001b[0m\u001b[0;34m\u001b[0m\u001b[0;34m\u001b[0m\u001b[0m\n\u001b[0;32m--> 157\u001b[0;31m                 \u001b[0mchild\u001b[0m \u001b[0;34m=\u001b[0m \u001b[0mpexpect\u001b[0m\u001b[0;34m.\u001b[0m\u001b[0mspawn\u001b[0m\u001b[0;34m(\u001b[0m\u001b[0mself\u001b[0m\u001b[0;34m.\u001b[0m\u001b[0msh\u001b[0m\u001b[0;34m,\u001b[0m \u001b[0margs\u001b[0m\u001b[0;34m=\u001b[0m\u001b[0;34m[\u001b[0m\u001b[0;34m'-c'\u001b[0m\u001b[0;34m,\u001b[0m \u001b[0mcmd\u001b[0m\u001b[0;34m]\u001b[0m\u001b[0;34m)\u001b[0m  \u001b[0;31m# Vanilla Pexpect\u001b[0m\u001b[0;34m\u001b[0m\u001b[0;34m\u001b[0m\u001b[0m\n\u001b[0m\u001b[1;32m    158\u001b[0m             \u001b[0mflush\u001b[0m \u001b[0;34m=\u001b[0m \u001b[0msys\u001b[0m\u001b[0;34m.\u001b[0m\u001b[0mstdout\u001b[0m\u001b[0;34m.\u001b[0m\u001b[0mflush\u001b[0m\u001b[0;34m\u001b[0m\u001b[0;34m\u001b[0m\u001b[0m\n\u001b[1;32m    159\u001b[0m             \u001b[0;32mwhile\u001b[0m \u001b[0;32mTrue\u001b[0m\u001b[0;34m:\u001b[0m\u001b[0;34m\u001b[0m\u001b[0;34m\u001b[0m\u001b[0m\n",
      "\u001b[0;32m~/anaconda3/envs/python3/lib/python3.6/site-packages/pexpect/pty_spawn.py\u001b[0m in \u001b[0;36m__init__\u001b[0;34m(self, command, args, timeout, maxread, searchwindowsize, logfile, cwd, env, ignore_sighup, echo, preexec_fn, encoding, codec_errors, dimensions, use_poll)\u001b[0m\n\u001b[1;32m    203\u001b[0m             \u001b[0mself\u001b[0m\u001b[0;34m.\u001b[0m\u001b[0mname\u001b[0m \u001b[0;34m=\u001b[0m \u001b[0;34m'<pexpect factory incomplete>'\u001b[0m\u001b[0;34m\u001b[0m\u001b[0;34m\u001b[0m\u001b[0m\n\u001b[1;32m    204\u001b[0m         \u001b[0;32melse\u001b[0m\u001b[0;34m:\u001b[0m\u001b[0;34m\u001b[0m\u001b[0;34m\u001b[0m\u001b[0m\n\u001b[0;32m--> 205\u001b[0;31m             \u001b[0mself\u001b[0m\u001b[0;34m.\u001b[0m\u001b[0m_spawn\u001b[0m\u001b[0;34m(\u001b[0m\u001b[0mcommand\u001b[0m\u001b[0;34m,\u001b[0m \u001b[0margs\u001b[0m\u001b[0;34m,\u001b[0m \u001b[0mpreexec_fn\u001b[0m\u001b[0;34m,\u001b[0m \u001b[0mdimensions\u001b[0m\u001b[0;34m)\u001b[0m\u001b[0;34m\u001b[0m\u001b[0;34m\u001b[0m\u001b[0m\n\u001b[0m\u001b[1;32m    206\u001b[0m         \u001b[0mself\u001b[0m\u001b[0;34m.\u001b[0m\u001b[0muse_poll\u001b[0m \u001b[0;34m=\u001b[0m \u001b[0muse_poll\u001b[0m\u001b[0;34m\u001b[0m\u001b[0;34m\u001b[0m\u001b[0m\n\u001b[1;32m    207\u001b[0m \u001b[0;34m\u001b[0m\u001b[0m\n",
      "\u001b[0;32m~/anaconda3/envs/python3/lib/python3.6/site-packages/pexpect/pty_spawn.py\u001b[0m in \u001b[0;36m_spawn\u001b[0;34m(self, command, args, preexec_fn, dimensions)\u001b[0m\n\u001b[1;32m    302\u001b[0m \u001b[0;34m\u001b[0m\u001b[0m\n\u001b[1;32m    303\u001b[0m         self.ptyproc = self._spawnpty(self.args, env=self.env,\n\u001b[0;32m--> 304\u001b[0;31m                                      cwd=self.cwd, **kwargs)\n\u001b[0m\u001b[1;32m    305\u001b[0m \u001b[0;34m\u001b[0m\u001b[0m\n\u001b[1;32m    306\u001b[0m         \u001b[0mself\u001b[0m\u001b[0;34m.\u001b[0m\u001b[0mpid\u001b[0m \u001b[0;34m=\u001b[0m \u001b[0mself\u001b[0m\u001b[0;34m.\u001b[0m\u001b[0mptyproc\u001b[0m\u001b[0;34m.\u001b[0m\u001b[0mpid\u001b[0m\u001b[0;34m\u001b[0m\u001b[0;34m\u001b[0m\u001b[0m\n",
      "\u001b[0;32m~/anaconda3/envs/python3/lib/python3.6/site-packages/pexpect/pty_spawn.py\u001b[0m in \u001b[0;36m_spawnpty\u001b[0;34m(self, args, **kwargs)\u001b[0m\n\u001b[1;32m    313\u001b[0m     \u001b[0;32mdef\u001b[0m \u001b[0m_spawnpty\u001b[0m\u001b[0;34m(\u001b[0m\u001b[0mself\u001b[0m\u001b[0;34m,\u001b[0m \u001b[0margs\u001b[0m\u001b[0;34m,\u001b[0m \u001b[0;34m**\u001b[0m\u001b[0mkwargs\u001b[0m\u001b[0;34m)\u001b[0m\u001b[0;34m:\u001b[0m\u001b[0;34m\u001b[0m\u001b[0;34m\u001b[0m\u001b[0m\n\u001b[1;32m    314\u001b[0m         \u001b[0;34m'''Spawn a pty and return an instance of PtyProcess.'''\u001b[0m\u001b[0;34m\u001b[0m\u001b[0;34m\u001b[0m\u001b[0m\n\u001b[0;32m--> 315\u001b[0;31m         \u001b[0;32mreturn\u001b[0m \u001b[0mptyprocess\u001b[0m\u001b[0;34m.\u001b[0m\u001b[0mPtyProcess\u001b[0m\u001b[0;34m.\u001b[0m\u001b[0mspawn\u001b[0m\u001b[0;34m(\u001b[0m\u001b[0margs\u001b[0m\u001b[0;34m,\u001b[0m \u001b[0;34m**\u001b[0m\u001b[0mkwargs\u001b[0m\u001b[0;34m)\u001b[0m\u001b[0;34m\u001b[0m\u001b[0;34m\u001b[0m\u001b[0m\n\u001b[0m\u001b[1;32m    316\u001b[0m \u001b[0;34m\u001b[0m\u001b[0m\n\u001b[1;32m    317\u001b[0m     \u001b[0;32mdef\u001b[0m \u001b[0mclose\u001b[0m\u001b[0;34m(\u001b[0m\u001b[0mself\u001b[0m\u001b[0;34m,\u001b[0m \u001b[0mforce\u001b[0m\u001b[0;34m=\u001b[0m\u001b[0;32mTrue\u001b[0m\u001b[0;34m)\u001b[0m\u001b[0;34m:\u001b[0m\u001b[0;34m\u001b[0m\u001b[0;34m\u001b[0m\u001b[0m\n",
      "\u001b[0;32m~/anaconda3/envs/python3/lib/python3.6/site-packages/ptyprocess/ptyprocess.py\u001b[0m in \u001b[0;36mspawn\u001b[0;34m(cls, argv, cwd, env, echo, preexec_fn, dimensions, pass_fds)\u001b[0m\n\u001b[1;32m    228\u001b[0m \u001b[0;34m\u001b[0m\u001b[0m\n\u001b[1;32m    229\u001b[0m         \u001b[0;32mif\u001b[0m \u001b[0muse_native_pty_fork\u001b[0m\u001b[0;34m:\u001b[0m\u001b[0;34m\u001b[0m\u001b[0;34m\u001b[0m\u001b[0m\n\u001b[0;32m--> 230\u001b[0;31m             \u001b[0mpid\u001b[0m\u001b[0;34m,\u001b[0m \u001b[0mfd\u001b[0m \u001b[0;34m=\u001b[0m \u001b[0mpty\u001b[0m\u001b[0;34m.\u001b[0m\u001b[0mfork\u001b[0m\u001b[0;34m(\u001b[0m\u001b[0;34m)\u001b[0m\u001b[0;34m\u001b[0m\u001b[0;34m\u001b[0m\u001b[0m\n\u001b[0m\u001b[1;32m    231\u001b[0m         \u001b[0;32melse\u001b[0m\u001b[0;34m:\u001b[0m\u001b[0;34m\u001b[0m\u001b[0;34m\u001b[0m\u001b[0m\n\u001b[1;32m    232\u001b[0m             \u001b[0;31m# Use internal fork_pty, for Solaris\u001b[0m\u001b[0;34m\u001b[0m\u001b[0;34m\u001b[0m\u001b[0;34m\u001b[0m\u001b[0m\n",
      "\u001b[0;32m~/anaconda3/envs/python3/lib/python3.6/pty.py\u001b[0m in \u001b[0;36mfork\u001b[0;34m()\u001b[0m\n\u001b[1;32m     95\u001b[0m \u001b[0;34m\u001b[0m\u001b[0m\n\u001b[1;32m     96\u001b[0m     \u001b[0mmaster_fd\u001b[0m\u001b[0;34m,\u001b[0m \u001b[0mslave_fd\u001b[0m \u001b[0;34m=\u001b[0m \u001b[0mopenpty\u001b[0m\u001b[0;34m(\u001b[0m\u001b[0;34m)\u001b[0m\u001b[0;34m\u001b[0m\u001b[0;34m\u001b[0m\u001b[0m\n\u001b[0;32m---> 97\u001b[0;31m     \u001b[0mpid\u001b[0m \u001b[0;34m=\u001b[0m \u001b[0mos\u001b[0m\u001b[0;34m.\u001b[0m\u001b[0mfork\u001b[0m\u001b[0;34m(\u001b[0m\u001b[0;34m)\u001b[0m\u001b[0;34m\u001b[0m\u001b[0;34m\u001b[0m\u001b[0m\n\u001b[0m\u001b[1;32m     98\u001b[0m     \u001b[0;32mif\u001b[0m \u001b[0mpid\u001b[0m \u001b[0;34m==\u001b[0m \u001b[0mCHILD\u001b[0m\u001b[0;34m:\u001b[0m\u001b[0;34m\u001b[0m\u001b[0;34m\u001b[0m\u001b[0m\n\u001b[1;32m     99\u001b[0m         \u001b[0;31m# Establish a new session.\u001b[0m\u001b[0;34m\u001b[0m\u001b[0;34m\u001b[0m\u001b[0;34m\u001b[0m\u001b[0m\n",
      "\u001b[0;31mOSError\u001b[0m: [Errno 12] Cannot allocate memory"
     ]
    }
   ],
   "source": [
    "# First we will remove all of the files contained in the data_dir directory\n",
    "!rm $data_dir/*\n",
    "\n",
    "# And then we delete the directory itself\n",
    "!rmdir $data_dir\n",
    "\n",
    "# Similarly we remove the files in the cache_dir directory and the directory itself\n",
    "!rm $cache_dir/*\n",
    "!rmdir $cache_dir"
   ]
  },
  {
   "cell_type": "code",
   "execution_count": null,
   "metadata": {},
   "outputs": [],
   "source": []
  }
 ],
 "metadata": {
  "kernelspec": {
   "display_name": "conda_python3",
   "language": "python",
   "name": "conda_python3"
  },
  "language_info": {
   "codemirror_mode": {
    "name": "ipython",
    "version": 3
   },
   "file_extension": ".py",
   "mimetype": "text/x-python",
   "name": "python",
   "nbconvert_exporter": "python",
   "pygments_lexer": "ipython3",
   "version": "3.6.13"
  }
 },
 "nbformat": 4,
 "nbformat_minor": 4
}
